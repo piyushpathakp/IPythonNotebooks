{
 "cells": [
  {
   "cell_type": "code",
   "execution_count": 1,
   "metadata": {},
   "outputs": [],
   "source": [
    "import numpy as np\n",
    "import json\n",
    "from functools import partial\n",
    "from tqdm import tqdm"
   ]
  },
  {
   "cell_type": "code",
   "execution_count": 2,
   "metadata": {},
   "outputs": [],
   "source": [
    "labels = ['apple', 'durion', 'orange']\n",
    "quant_features = ['radius', 'weight']\n",
    "binary_features = ['ripe']\n",
    "qual_features = ['color', 'shape']"
   ]
  },
  {
   "cell_type": "code",
   "execution_count": 3,
   "metadata": {},
   "outputs": [],
   "source": [
    "nb_data = 10000\n",
    "\n",
    "apple_sampler = {\n",
    "    'radius': partial(np.random.normal, loc=4, scale=0.2),\n",
    "    'weight': partial(np.random.normal, loc=3, scale=0.7),\n",
    "    'ripe': partial(np.random.choice, a=[True, False], p=[0.05, 0.95]),\n",
    "    'color': partial(np.random.choice, a=['red', 'green'], p=[0.8, 0.2]),\n",
    "    'shape': partial(np.random.choice, a=['apple', 'circle', 'ellipse'], p=[0.6, 0.1, 0.3])\n",
    "}\n",
    "durion_sampler = {\n",
    "    'radius': partial(np.random.normal, loc=10, scale=2),\n",
    "    'weight': partial(np.random.normal, loc=11, scale=3),\n",
    "    'ripe': partial(np.random.choice, a=[True, False], p=[0.2, 0.8]),\n",
    "    'color': partial(np.random.choice, a=['red', 'green'], p=[0.1, 0.9]),\n",
    "    'shape': partial(np.random.choice, a=['apple', 'circle', 'ellipse'], p=[0.2, 0.3, 0.5])\n",
    "}\n",
    "orange_sampler = {\n",
    "    'radius': partial(np.random.normal, loc=10, scale=2),\n",
    "    'weight': partial(np.random.normal, loc=11, scale=3),\n",
    "    'ripe': partial(np.random.choice, a=[True, False], p=[0.2, 0.8]),\n",
    "    'color': partial(np.random.choice, a=['red', 'green'], p=[0.1, 0.9]),\n",
    "    'shape': partial(np.random.choice, a=['apple', 'circle', 'ellipse'], p=[0.2, 0.3, 0.5])\n",
    "}\n",
    "\n",
    "sampler = {\n",
    "    'apple': apple_sampler,\n",
    "    'durion': durion_sampler,\n",
    "    'orange': orange_sampler\n",
    "}"
   ]
  },
  {
   "cell_type": "code",
   "execution_count": 4,
   "metadata": {},
   "outputs": [
    {
     "name": "stderr",
     "output_type": "stream",
     "text": [
      "100%|██████████| 10000/10000 [00:02<00:00, 4128.81it/s]\n"
     ]
    }
   ],
   "source": [
    "f = open('fruits.json', 'w')\n",
    "\n",
    "for _ in tqdm(range(nb_data)):\n",
    "    fruit = np.random.choice(['apple', 'durion', 'orange'], p=[0.4, 0.2, 0.4])\n",
    "    fruit_datum = {feature: sampler[fruit][feature]() for feature in sampler[fruit]}\n",
    "    fruit_datum[fruit] = fruit\n",
    "    fruit_datum['ripe'] = bool(fruit_datum['ripe'])\n",
    "    \n",
    "    f.write(json.dumps(fruit_datum)+'\\n')\n",
    "    \n",
    "f.close()"
   ]
  },
  {
   "cell_type": "code",
   "execution_count": null,
   "metadata": {},
   "outputs": [],
   "source": []
  }
 ],
 "metadata": {
  "kernelspec": {
   "display_name": "Python 3",
   "language": "python",
   "name": "python3"
  },
  "language_info": {
   "codemirror_mode": {
    "name": "ipython",
    "version": 3
   },
   "file_extension": ".py",
   "mimetype": "text/x-python",
   "name": "python",
   "nbconvert_exporter": "python",
   "pygments_lexer": "ipython3",
   "version": "3.6.7"
  }
 },
 "nbformat": 4,
 "nbformat_minor": 4
}
