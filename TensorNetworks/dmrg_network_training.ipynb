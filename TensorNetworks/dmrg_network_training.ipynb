{
 "cells": [
  {
   "cell_type": "code",
   "execution_count": 14,
   "metadata": {},
   "outputs": [],
   "source": [
    "import json\n",
    "\n",
    "import numpy as np\n",
    "import numba\n",
    "import tensornetwork as tn"
   ]
  },
  {
   "cell_type": "code",
   "execution_count": 12,
   "metadata": {},
   "outputs": [],
   "source": [
    "dimvec = 784\n",
    "pos_label = 392\n",
    "nblabels = 10\n",
    "m = 10\n",
    "nbdata = 70000"
   ]
  },
  {
   "cell_type": "markdown",
   "metadata": {},
   "source": [
    "# Data Loading"
   ]
  },
  {
   "cell_type": "code",
   "execution_count": 10,
   "metadata": {},
   "outputs": [],
   "source": [
    "def generate_data(mnist_file):\n",
    "    for line in mnist_file:\n",
    "        data = json.loads(line)\n",
    "        pixels = np.array(data['pixels'])\n",
    "        digit = data['digit']\n",
    "        yield pixels, digit\n",
    "\n",
    "\n",
    "@numba.njit(numba.float64[:, :](numba.float64[:]))\n",
    "def convert_pixels_to_tnvector(pixels):\n",
    "    tnvector = np.concatenate(\n",
    "        (np.expand_dims(np.cos(0.5*np.pi*pixels/256.), axis=0),\n",
    "         np.expand_dims(np.sin(0.5*np.pi*pixels/256.), axis=0)),\n",
    "        axis=0\n",
    "    ).T\n",
    "    return tnvector"
   ]
  },
  {
   "cell_type": "code",
   "execution_count": 15,
   "metadata": {},
   "outputs": [],
   "source": [
    "# Reading the data\n",
    "label_dict = {str(i): i for i in range(10)}\n",
    "X = np.zeros((nbdata, dimvec, 2))\n",
    "Y = np.zeros((nbdata, nblabels))\n",
    "for i, (pixels, label) in enumerate(generate_data(open('/data/hok/PyProjects/tensornetwork-learn/experiments/mnist_784/mnist_784.json', 'r'))):\n",
    "    X[i, :, :] = convert_pixels_to_tnvector(pixels)\n",
    "    Y[i, label_dict[label]] = 1."
   ]
  },
  {
   "cell_type": "markdown",
   "metadata": {},
   "source": [
    "# Classifier"
   ]
  },
  {
   "cell_type": "code",
   "execution_count": 46,
   "metadata": {},
   "outputs": [],
   "source": [
    "class QuantumTNSweepingClassifier:\n",
    "    def __init__(self, dimvec, pos_label, nblabels, bond_len, nearzero_std=1e-9):\n",
    "        self.dimvec = dimvec\n",
    "        self.pos_label = pos_label\n",
    "        self.nblabels = nblabels\n",
    "        self.m = bond_len\n",
    "        self.nearzero_std = nearzero_std\n",
    "        self.current_pos_label = 0\n",
    "        self.construct_nodes()\n",
    "        \n",
    "    def construct_nodes(self):\n",
    "        self.nodes = []\n",
    "        for i in range(dimvec):\n",
    "            if i == 0:\n",
    "                node = tn.Node(np.random.normal(loc=0.0, scale=self.nearzero_std, size=(2, self.m, self.nblabels)), \n",
    "                               name='node{}'.format(i))\n",
    "            elif i == self.dimvec - 1:\n",
    "                node = tn.Node(np.random.normal(loc=0.0, scale=self.nearzero_std, size=(2, self.m)),\n",
    "                               name='node{}'.format(i))\n",
    "                for j in range(min(self.m, 2)):\n",
    "                    node.tensor[j, j] += 1.\n",
    "            else:\n",
    "                node = tn.Node(np.random.normal(loc=0.0, scale=self.nearzero_std, size=(2, self.m, self.m)),\n",
    "                               name='node{}'.format(i))\n",
    "            self.nodes.append(node)\n",
    "           \n",
    "        cosx = np.random.uniform(size=dimvec)\n",
    "        self.input_nodes = [tn.Node(np.array([cosx[i], np.sqrt(1-cosx[i]*cosx[i])]), \n",
    "                                    name='input{}'.format(i)) \n",
    "                            for i in range(dimvec)]\n",
    "\n",
    "    def infer_single_datum(self, input):\n",
    "        assert input.shape[0] == self.dimvec\n",
    "        assert input.shape[1] == 2\n",
    "        \n",
    "        for i in range(dimvec):\n",
    "            self.input_nodes[i].tensor = input[i, :]\n",
    "            \n",
    "        # connecting edges\n",
    "        for i in range(self.dimvec):\n",
    "            self.nodes[i][0] ^ self.input_nodes[i][0]\n",
    "        self.nodes[0][1] ^ self.nodes[1][1]\n",
    "        for i in range(1, dimvec-1):\n",
    "            self.nodes[i][2] ^ self.nodes[i+1][1]\n",
    "            \n",
    "        # contraction\n",
    "        final_node = tn.contractors.auto(self.nodes + self.input_nodes, \n",
    "                                         output_edge_order=[self.nodes[self.current_pos_label][2 \n",
    "                                                                                               if self.current_pos_label==0 \n",
    "                                                                                               else 3]])\n",
    "        \n",
    "        return final_node.tensor\n",
    "    \n",
    "    def predict_proba(self, X):\n",
    "        nbdata = X.shape[0]\n",
    "        assert X.shape[1] == self.dimvec\n",
    "        assert X.shape[2] == 2\n",
    "        \n",
    "        return np.array([self.infer_single_datum(X[i, :, :]) for i in range(nbdata)])\n",
    "    \n",
    "    def label_block(self):\n",
    "        if self.current_pos_label == 0:\n",
    "            self.nodes[0][1] ^ self.nodes[1][1]\n",
    "            block_node = tn.contractors.auto([self.nodes[0], self.nodes[1]],\n",
    "                                             output_edge_order=[self.nodes[0][2], self.nodes[1][2], \n",
    "                                                                self.nodes[0][0], self.nodes[1][0]])\n",
    "            return block_node\n",
    "        elif self.current_pos_label == self.dimvec-1:\n",
    "            self.nodes[self.dimvec-2][2] ^ self.nodes[self.dimvec-1][1]\n",
    "            block_node = tn.contractors.auto([self.nodes[self.dimvec-2], self.nodes[self.dimvec-1]],\n",
    "                                             output_edge_order=[self.nodes[self.dimvec-2][1],\n",
    "                                                                self.nodes[self.dimvec-2][3],\n",
    "                                                                self.nodes[self.dimvec-2][0],\n",
    "                                                                self.nodes[self.dimvec-1][0]])\n",
    "            return block_node\n",
    "        else:\n",
    "            self.nodes[self.current_pos_label][2] ^ self.nodes[self.current_pos_label+1][1]\n",
    "            block_node = tn.contractors.auto([self.nodes[self.current_pos_label],\n",
    "                                              self.nodes[self.current_pos_label+1]],\n",
    "                                             output_edge_order=[self.nodes[self.current_pos_label][1],\n",
    "                                                                self.nodes[self.current_pos_label][3],\n",
    "                                                                self.nodes[self.current_pos_label+1][2],\n",
    "                                                                self.nodes[self.current_pos_label][0],\n",
    "                                                                self.nodes[self.current_pos_label+1][0]])\n",
    "            return block_node\n",
    "            \n",
    "    \n",
    "    \n",
    "    def fit(self, X, Y):\n",
    "        pass"
   ]
  },
  {
   "cell_type": "markdown",
   "metadata": {},
   "source": [
    "# Computation"
   ]
  },
  {
   "cell_type": "code",
   "execution_count": 47,
   "metadata": {},
   "outputs": [],
   "source": [
    "dmrg_classifier = QuantumTNSweepingClassifier(dimvec, pos_label, nblabels, m)"
   ]
  },
  {
   "cell_type": "code",
   "execution_count": 48,
   "metadata": {},
   "outputs": [
    {
     "data": {
      "text/plain": [
       "array([[0., 0., 0., 0., 0., 0., 0., 0., 0., 0.],\n",
       "       [0., 0., 0., 0., 0., 0., 0., 0., 0., 0.],\n",
       "       [0., 0., 0., 0., 0., 0., 0., 0., 0., 0.],\n",
       "       [0., 0., 0., 0., 0., 0., 0., 0., 0., 0.],\n",
       "       [0., 0., 0., 0., 0., 0., 0., 0., 0., 0.],\n",
       "       [0., 0., 0., 0., 0., 0., 0., 0., 0., 0.],\n",
       "       [0., 0., 0., 0., 0., 0., 0., 0., 0., 0.],\n",
       "       [0., 0., 0., 0., 0., 0., 0., 0., 0., 0.],\n",
       "       [0., 0., 0., 0., 0., 0., 0., 0., 0., 0.],\n",
       "       [0., 0., 0., 0., 0., 0., 0., 0., 0., 0.]])"
      ]
     },
     "execution_count": 48,
     "metadata": {},
     "output_type": "execute_result"
    }
   ],
   "source": [
    "dmrg_classifier.predict_proba(X[0:10, :, :])"
   ]
  },
  {
   "cell_type": "code",
   "execution_count": null,
   "metadata": {},
   "outputs": [],
   "source": []
  }
 ],
 "metadata": {
  "kernelspec": {
   "display_name": "python/3.7",
   "language": "python",
   "name": "py3.7"
  },
  "language_info": {
   "codemirror_mode": {
    "name": "ipython",
    "version": 3
   },
   "file_extension": ".py",
   "mimetype": "text/x-python",
   "name": "python",
   "nbconvert_exporter": "python",
   "pygments_lexer": "ipython3",
   "version": "3.7.5"
  }
 },
 "nbformat": 4,
 "nbformat_minor": 4
}
