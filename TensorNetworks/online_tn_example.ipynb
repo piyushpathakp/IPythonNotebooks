{
 "cells": [
  {
   "cell_type": "code",
   "execution_count": 1,
   "metadata": {},
   "outputs": [],
   "source": [
    "import numpy as np\n",
    "import tensorflow as tf\n",
    "import tensornetwork as tn"
   ]
  },
  {
   "cell_type": "code",
   "execution_count": 2,
   "metadata": {},
   "outputs": [],
   "source": [
    "class TNLayer(tf.keras.layers.Layer):\n",
    " \n",
    "  def __init__(self):\n",
    "    super(TNLayer, self).__init__()\n",
    "    # Create the variables for the layer.\n",
    "    self.a_var = tf.Variable(tf.random.normal(\n",
    "            shape=(32, 32, 2), stddev=1.0/32.0),\n",
    "             name=\"a\", trainable=True)\n",
    "    self.b_var = tf.Variable(tf.random.normal(shape=(32, 32, 2), stddev=1.0/32.0),\n",
    "                             name=\"b\", trainable=True)\n",
    "    self.bias = tf.Variable(tf.zeros(shape=(32, 32)), name=\"bias\", trainable=True)\n",
    " \n",
    "  def call(self, inputs):\n",
    "    # Define the contraction.\n",
    "    # We break it out so we can parallelize a batch using\n",
    "    # tf.vectorized_map (see below).\n",
    "    def f(input_vec, a_var, b_var, bias_var):\n",
    "      # Reshape to a matrix instead of a vector.\n",
    "      input_vec = tf.reshape(input_vec, (32,32))\n",
    " \n",
    "      # Now we create the network.\n",
    "      a = tn.Node(a_var, backend=\"tensorflow\")\n",
    "      b = tn.Node(b_var, backend=\"tensorflow\")\n",
    "      x_node = tn.Node(input_vec, backend=\"tensorflow\")\n",
    "      a[1] ^ x_node[0]\n",
    "      b[1] ^ x_node[1]\n",
    "      a[2] ^ b[2]\n",
    " \n",
    "      # The TN should now look like this\n",
    "      #   |     |\n",
    "      #   a --- b\n",
    "      #    \\   /\n",
    "      #      x\n",
    " \n",
    "      # Now we begin the contraction.\n",
    "      c = a @ x_node\n",
    "      result = (c @ b).tensor\n",
    " \n",
    "      # To make the code shorter, we also could've used Ncon.\n",
    "      # The above few lines of code is the same as this:\n",
    "      # result = tn.ncon([x, a_var, b_var], [[1, 2], [-1, 1, 3], [-2, 2, 3]])\n",
    " \n",
    "      # Finally, add bias.\n",
    "      return result + bias_var\n",
    "  \n",
    "    # To deal with a batch of items, we can use the tf.vectorized_map\n",
    "    # function.\n",
    "    # https://www.tensorflow.org/api_docs/python/tf/vectorized_map\n",
    "    result = tf.vectorized_map(\n",
    "        lambda vec: f(vec, self.a_var, self.b_var, self.bias), inputs)\n",
    "    return tf.nn.relu(tf.reshape(result, (-1, 1024)))"
   ]
  },
  {
   "cell_type": "code",
   "execution_count": 3,
   "metadata": {},
   "outputs": [],
   "source": [
    "tn_model = tf.keras.Sequential(\n",
    "  [\n",
    "    tf.keras.Input(shape=(2,)),\n",
    "    tf.keras.layers.Dense(1024, activation=tf.nn.relu),\n",
    "    # Here use a TN layer instead of the dense layer.\n",
    "    TNLayer(),\n",
    "    tf.keras.layers.Dense(1, activation=None)\n",
    "  ]\n",
    ")"
   ]
  },
  {
   "cell_type": "code",
   "execution_count": 4,
   "metadata": {},
   "outputs": [
    {
     "output_type": "execute_result",
     "data": {
      "text/plain": "[<tf.Variable 'dense/kernel:0' shape=(2, 1024) dtype=float32, numpy=\n array([[-0.03344038,  0.01820505, -0.06670009, ..., -0.03890723,\n         -0.06396094,  0.05283929],\n        [-0.03297286, -0.04029611, -0.02663104, ...,  0.03087538,\n          0.01266984, -0.07342357]], dtype=float32)>,\n <tf.Variable 'dense/bias:0' shape=(1024,) dtype=float32, numpy=array([0., 0., 0., ..., 0., 0., 0.], dtype=float32)>,\n <tf.Variable 'a:0' shape=(32, 32, 2) dtype=float32, numpy=\n array([[[ 0.0191182 ,  0.01152568],\n         [ 0.0265045 , -0.04198615],\n         [ 0.03249674, -0.01269511],\n         ...,\n         [ 0.00286332,  0.00638864],\n         [-0.0183975 ,  0.01920737],\n         [ 0.02486627,  0.01960747]],\n \n        [[ 0.01296654,  0.02279922],\n         [-0.01134439,  0.02230362],\n         [-0.01087074,  0.02630333],\n         ...,\n         [ 0.00394398,  0.01329732],\n         [ 0.00394495,  0.00955237],\n         [-0.01647504,  0.02851471]],\n \n        [[-0.01736645,  0.01870213],\n         [ 0.0701299 ,  0.00992214],\n         [-0.01273874,  0.01527259],\n         ...,\n         [-0.00610562,  0.03217464],\n         [-0.02004386,  0.02719508],\n         [-0.0067326 , -0.01807734]],\n \n        ...,\n \n        [[ 0.03232703, -0.00918395],\n         [-0.02499166, -0.00664612],\n         [-0.02528954,  0.01147025],\n         ...,\n         [-0.0254052 , -0.01283271],\n         [-0.00835265, -0.0770442 ],\n         [ 0.02542059, -0.01777399]],\n \n        [[ 0.0159104 , -0.00853069],\n         [ 0.00073547, -0.05454221],\n         [ 0.0074431 ,  0.00463307],\n         ...,\n         [ 0.0204561 , -0.03143577],\n         [ 0.01162563, -0.01423148],\n         [ 0.07563381,  0.00359709]],\n \n        [[-0.00689428,  0.01990807],\n         [ 0.03149223, -0.0163491 ],\n         [ 0.06414859, -0.01789153],\n         ...,\n         [-0.02361628,  0.02641762],\n         [-0.02147809, -0.00814088],\n         [ 0.02330387,  0.03308001]]], dtype=float32)>,\n <tf.Variable 'b:0' shape=(32, 32, 2) dtype=float32, numpy=\n array([[[ 0.02056911, -0.02179906],\n         [-0.01470337,  0.02194873],\n         [-0.00752835,  0.00996874],\n         ...,\n         [-0.02063386, -0.00774856],\n         [ 0.00576773, -0.03313473],\n         [-0.05415185,  0.05460634]],\n \n        [[-0.01147468,  0.01298367],\n         [ 0.05429697, -0.0057019 ],\n         [-0.02730506, -0.02213052],\n         ...,\n         [ 0.05601102,  0.03481027],\n         [-0.0511874 , -0.05536334],\n         [-0.02449296,  0.00294664]],\n \n        [[ 0.05940516,  0.02557972],\n         [ 0.01751174,  0.03342212],\n         [ 0.03180921, -0.02014639],\n         ...,\n         [-0.03252309,  0.00362194],\n         [ 0.03005322, -0.03956982],\n         [ 0.0740876 , -0.00873995]],\n \n        ...,\n \n        [[ 0.00474002, -0.04038496],\n         [ 0.00889271,  0.00684512],\n         [ 0.00836067,  0.02427937],\n         ...,\n         [-0.02205495, -0.01485054],\n         [ 0.00672079,  0.02525424],\n         [-0.00125318,  0.00344018]],\n \n        [[-0.01149419, -0.02896636],\n         [ 0.00380935, -0.04898575],\n         [-0.00136744, -0.00894679],\n         ...,\n         [ 0.01502564, -0.02296398],\n         [-0.03413884, -0.00816097],\n         [ 0.04203111,  0.02014161]],\n \n        [[ 0.02260722,  0.0730451 ],\n         [-0.0230345 ,  0.00190101],\n         [-0.00145669, -0.00913414],\n         ...,\n         [-0.00096038, -0.05016963],\n         [ 0.00020041, -0.01554662],\n         [ 0.00347227,  0.00034957]]], dtype=float32)>,\n <tf.Variable 'bias:0' shape=(32, 32) dtype=float32, numpy=\n array([[0., 0., 0., ..., 0., 0., 0.],\n        [0., 0., 0., ..., 0., 0., 0.],\n        [0., 0., 0., ..., 0., 0., 0.],\n        ...,\n        [0., 0., 0., ..., 0., 0., 0.],\n        [0., 0., 0., ..., 0., 0., 0.],\n        [0., 0., 0., ..., 0., 0., 0.]], dtype=float32)>,\n <tf.Variable 'dense_1/kernel:0' shape=(1024, 1) dtype=float32, numpy=\n array([[ 0.04389648],\n        [-0.06048008],\n        [ 0.06612365],\n        ...,\n        [ 0.05506715],\n        [-0.06860297],\n        [ 0.01160558]], dtype=float32)>,\n <tf.Variable 'dense_1/bias:0' shape=(1,) dtype=float32, numpy=array([0.], dtype=float32)>]"
     },
     "metadata": {},
     "execution_count": 4
    }
   ],
   "source": [
    "tn_model.trainable_variables"
   ]
  },
  {
   "cell_type": "code",
   "execution_count": 5,
   "metadata": {},
   "outputs": [
    {
     "output_type": "execute_result",
     "data": {
      "text/plain": "[<tf.Variable 'a:0' shape=(32, 32, 2) dtype=float32, numpy=\n array([[[ 0.0191182 ,  0.01152568],\n         [ 0.0265045 , -0.04198615],\n         [ 0.03249674, -0.01269511],\n         ...,\n         [ 0.00286332,  0.00638864],\n         [-0.0183975 ,  0.01920737],\n         [ 0.02486627,  0.01960747]],\n \n        [[ 0.01296654,  0.02279922],\n         [-0.01134439,  0.02230362],\n         [-0.01087074,  0.02630333],\n         ...,\n         [ 0.00394398,  0.01329732],\n         [ 0.00394495,  0.00955237],\n         [-0.01647504,  0.02851471]],\n \n        [[-0.01736645,  0.01870213],\n         [ 0.0701299 ,  0.00992214],\n         [-0.01273874,  0.01527259],\n         ...,\n         [-0.00610562,  0.03217464],\n         [-0.02004386,  0.02719508],\n         [-0.0067326 , -0.01807734]],\n \n        ...,\n \n        [[ 0.03232703, -0.00918395],\n         [-0.02499166, -0.00664612],\n         [-0.02528954,  0.01147025],\n         ...,\n         [-0.0254052 , -0.01283271],\n         [-0.00835265, -0.0770442 ],\n         [ 0.02542059, -0.01777399]],\n \n        [[ 0.0159104 , -0.00853069],\n         [ 0.00073547, -0.05454221],\n         [ 0.0074431 ,  0.00463307],\n         ...,\n         [ 0.0204561 , -0.03143577],\n         [ 0.01162563, -0.01423148],\n         [ 0.07563381,  0.00359709]],\n \n        [[-0.00689428,  0.01990807],\n         [ 0.03149223, -0.0163491 ],\n         [ 0.06414859, -0.01789153],\n         ...,\n         [-0.02361628,  0.02641762],\n         [-0.02147809, -0.00814088],\n         [ 0.02330387,  0.03308001]]], dtype=float32)>,\n <tf.Variable 'b:0' shape=(32, 32, 2) dtype=float32, numpy=\n array([[[ 0.02056911, -0.02179906],\n         [-0.01470337,  0.02194873],\n         [-0.00752835,  0.00996874],\n         ...,\n         [-0.02063386, -0.00774856],\n         [ 0.00576773, -0.03313473],\n         [-0.05415185,  0.05460634]],\n \n        [[-0.01147468,  0.01298367],\n         [ 0.05429697, -0.0057019 ],\n         [-0.02730506, -0.02213052],\n         ...,\n         [ 0.05601102,  0.03481027],\n         [-0.0511874 , -0.05536334],\n         [-0.02449296,  0.00294664]],\n \n        [[ 0.05940516,  0.02557972],\n         [ 0.01751174,  0.03342212],\n         [ 0.03180921, -0.02014639],\n         ...,\n         [-0.03252309,  0.00362194],\n         [ 0.03005322, -0.03956982],\n         [ 0.0740876 , -0.00873995]],\n \n        ...,\n \n        [[ 0.00474002, -0.04038496],\n         [ 0.00889271,  0.00684512],\n         [ 0.00836067,  0.02427937],\n         ...,\n         [-0.02205495, -0.01485054],\n         [ 0.00672079,  0.02525424],\n         [-0.00125318,  0.00344018]],\n \n        [[-0.01149419, -0.02896636],\n         [ 0.00380935, -0.04898575],\n         [-0.00136744, -0.00894679],\n         ...,\n         [ 0.01502564, -0.02296398],\n         [-0.03413884, -0.00816097],\n         [ 0.04203111,  0.02014161]],\n \n        [[ 0.02260722,  0.0730451 ],\n         [-0.0230345 ,  0.00190101],\n         [-0.00145669, -0.00913414],\n         ...,\n         [-0.00096038, -0.05016963],\n         [ 0.00020041, -0.01554662],\n         [ 0.00347227,  0.00034957]]], dtype=float32)>,\n <tf.Variable 'bias:0' shape=(32, 32) dtype=float32, numpy=\n array([[0., 0., 0., ..., 0., 0., 0.],\n        [0., 0., 0., ..., 0., 0., 0.],\n        [0., 0., 0., ..., 0., 0., 0.],\n        ...,\n        [0., 0., 0., ..., 0., 0., 0.],\n        [0., 0., 0., ..., 0., 0., 0.],\n        [0., 0., 0., ..., 0., 0., 0.]], dtype=float32)>]"
     },
     "metadata": {},
     "execution_count": 5
    }
   ],
   "source": [
    "tn_model.layers[1].trainable_variables"
   ]
  },
  {
   "cell_type": "code",
   "execution_count": 6,
   "metadata": {},
   "outputs": [
    {
     "output_type": "stream",
     "name": "stdout",
     "text": "Model: \"sequential\"\n_________________________________________________________________\nLayer (type)                 Output Shape              Param #   \n=================================================================\ndense (Dense)                (None, 1024)              3072      \n_________________________________________________________________\ntn_layer (TNLayer)           (None, 1024)              5120      \n_________________________________________________________________\ndense_1 (Dense)              (None, 1)                 1025      \n=================================================================\nTotal params: 9,217\nTrainable params: 9,217\nNon-trainable params: 0\n_________________________________________________________________\n"
    }
   ],
   "source": [
    "tn_model.summary()"
   ]
  },
  {
   "cell_type": "code",
   "execution_count": null,
   "metadata": {},
   "outputs": [],
   "source": []
  }
 ],
 "metadata": {
  "language_info": {
   "codemirror_mode": {
    "name": "ipython",
    "version": 3
   },
   "file_extension": ".py",
   "mimetype": "text/x-python",
   "name": "python",
   "nbconvert_exporter": "python",
   "pygments_lexer": "ipython3",
   "version": "3.6.7-final"
  },
  "orig_nbformat": 2,
  "kernelspec": {
   "name": "python3",
   "display_name": "Python 3"
  }
 },
 "nbformat": 4,
 "nbformat_minor": 2
}