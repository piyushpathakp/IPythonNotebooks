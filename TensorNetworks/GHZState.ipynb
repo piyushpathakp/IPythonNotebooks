{
 "cells": [
  {
   "cell_type": "code",
   "execution_count": 1,
   "metadata": {},
   "outputs": [],
   "source": [
    "import numpy as np\n",
    "import tensornetwork as tn"
   ]
  },
  {
   "cell_type": "code",
   "execution_count": 2,
   "metadata": {},
   "outputs": [],
   "source": [
    "A0 = np.array([[1., 0.], [0., 0.]])\n",
    "A1 = np.array([[0., 0.], [0., 1.]])\n",
    "A = np.array([A0, A1])"
   ]
  },
  {
   "cell_type": "code",
   "execution_count": 3,
   "metadata": {},
   "outputs": [],
   "source": [
    "P = np.zeros((2, 2, 2))\n",
    "P[0, 0, 0] = 1.\n",
    "P[1, 1, 1] = 1."
   ]
  },
  {
   "cell_type": "code",
   "execution_count": 4,
   "metadata": {},
   "outputs": [],
   "source": [
    "phi = np.identity(2)"
   ]
  },
  {
   "cell_type": "code",
   "execution_count": 5,
   "metadata": {},
   "outputs": [],
   "source": [
    "nb_pairs = 2\n",
    "nodes = [tn.Node(A, name='node{}'.format(i)) for i in range(2*nb_pairs)]"
   ]
  },
  {
   "cell_type": "code",
   "execution_count": 6,
   "metadata": {},
   "outputs": [],
   "source": [
    "entangled_nodes = [tn.Node(phi, name='pair{}'.format(i)) for i in range(nb_pairs)]"
   ]
  },
  {
   "cell_type": "code",
   "execution_count": 7,
   "metadata": {},
   "outputs": [],
   "source": [
    "P_nodes = [tn.Node(P, name='P{}'.format(i)) for i in range(nb_pairs-1)]"
   ]
  },
  {
   "cell_type": "code",
   "execution_count": 8,
   "metadata": {},
   "outputs": [],
   "source": [
    "edges = [nodes[2*i][0] ^ P_nodes[i][1] for i in range(nb_pairs-1)]\n",
    "edges += [nodes[2*i+1][0] ^ P_nodes[i][2] for i in range(nb_pairs-1)]\n",
    "edges += [nodes[2*i+1][2] ^ entangled_nodes[i][0] for i in range(nb_pairs-1)]\n",
    "edges += [nodes[2*i+2][1] ^ entangled_nodes[i][1] for i in range(nb_pairs-1)]\n",
    "edges += [nodes[0][1] ^ entangled_nodes[nb_pairs-1][1]]\n",
    "edges += [nodes[2*nb_pairs-1][2] ^ entangled_nodes[nb_pairs-1][0]]"
   ]
  },
  {
   "cell_type": "code",
   "execution_count": 9,
   "metadata": {},
   "outputs": [],
   "source": [
    "t = None\n",
    "for edge in edges:\n",
    "    t = tn.contract(edge)"
   ]
  },
  {
   "cell_type": "code",
   "execution_count": 11,
   "metadata": {},
   "outputs": [
    {
     "data": {
      "text/plain": [
       "(2, 2, 2, 2, 2, 2, 2)"
      ]
     },
     "execution_count": 11,
     "metadata": {},
     "output_type": "execute_result"
    }
   ],
   "source": [
    "t.shape"
   ]
  },
  {
   "cell_type": "code",
   "execution_count": 15,
   "metadata": {},
   "outputs": [
    {
     "data": {
      "text/plain": [
       "1.0"
      ]
     },
     "execution_count": 15,
     "metadata": {},
     "output_type": "execute_result"
    }
   ],
   "source": [
    "t.tensor[1, 1, 1, 1, 1, 1, 1]"
   ]
  },
  {
   "cell_type": "code",
   "execution_count": null,
   "metadata": {},
   "outputs": [],
   "source": []
  }
 ],
 "metadata": {
  "kernelspec": {
   "display_name": "Python 3",
   "language": "python",
   "name": "python3"
  },
  "language_info": {
   "codemirror_mode": {
    "name": "ipython",
    "version": 3
   },
   "file_extension": ".py",
   "mimetype": "text/x-python",
   "name": "python",
   "nbconvert_exporter": "python",
   "pygments_lexer": "ipython3",
   "version": "3.6.7"
  }
 },
 "nbformat": 4,
 "nbformat_minor": 4
}
