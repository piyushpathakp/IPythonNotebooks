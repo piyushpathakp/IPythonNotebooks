{
 "cells": [
  {
   "cell_type": "code",
   "execution_count": 1,
   "metadata": {},
   "outputs": [],
   "source": [
    "import numpy as np\n",
    "import tensornetwork as tn"
   ]
  },
  {
   "cell_type": "code",
   "execution_count": 2,
   "metadata": {},
   "outputs": [],
   "source": [
    "dimvec = 784\n",
    "pos_label = 392\n",
    "# dimvec = 20\n",
    "# pos_label = 10\n",
    "nblabels = 10\n",
    "m=20\n",
    "\n",
    "unihigh = 0.05"
   ]
  },
  {
   "cell_type": "code",
   "execution_count": 8,
   "metadata": {},
   "outputs": [],
   "source": [
    "nodes = [tn.Node(np.random.uniform(high=unihigh, size=(2, m)), name='node{}'.format(i), backend='tensorflow') \n",
    "         if i == 0 or i == dimvec-1 \n",
    "         else tn.Node(np.random.uniform(high=unihigh, size=(2, m, m)), name='node{}'.format(i), backend='tensorflow')\n",
    "         for i in range(dimvec)]\n",
    "nodes[pos_label] = tn.Node(np.random.uniform(high=unihigh, size=(2, m, m, nblabels)), name='label_node', backend='tensorflow')"
   ]
  },
  {
   "cell_type": "code",
   "execution_count": 9,
   "metadata": {},
   "outputs": [],
   "source": [
    "cosx = np.random.uniform(size=dimvec)\n",
    "input_nodes = [tn.Node(np.array([cosx[i], np.sqrt(1-cosx[i]*cosx[i])]), name='input{}'.format(i), backend='tensorflow') \n",
    "               for i in range(dimvec)]"
   ]
  },
  {
   "cell_type": "code",
   "execution_count": 10,
   "metadata": {},
   "outputs": [],
   "source": [
    "edges = [nodes[0][1] ^ nodes[1][1]]\n",
    "for i in range(1, dimvec-1):\n",
    "    edges.append(nodes[i][2] ^ nodes[i+1][1])"
   ]
  },
  {
   "cell_type": "code",
   "execution_count": 11,
   "metadata": {},
   "outputs": [],
   "source": [
    "input_edges = [nodes[i][0] ^ input_nodes[i][0] for i in range(dimvec)]"
   ]
  },
  {
   "cell_type": "markdown",
   "metadata": {},
   "source": [
    "# Computation"
   ]
  },
  {
   "cell_type": "code",
   "execution_count": 12,
   "metadata": {},
   "outputs": [
    {
     "output_type": "stream",
     "name": "stdout",
     "text": "label_node\n"
    }
   ],
   "source": [
    "for node in nodes+input_nodes:\n",
    "    for edge in node.edges:\n",
    "        if edge.is_dangling():\n",
    "            print(' '.join([node.name for node in edge.get_nodes() if node is not None]))"
   ]
  },
  {
   "cell_type": "code",
   "execution_count": 13,
   "metadata": {},
   "outputs": [],
   "source": [
    "final_node = tn.contractors.auto(nodes + input_nodes, output_edge_order=[nodes[pos_label][3]])"
   ]
  },
  {
   "cell_type": "code",
   "execution_count": 14,
   "metadata": {},
   "outputs": [
    {
     "output_type": "execute_result",
     "data": {
      "text/plain": "<tf.Tensor: id=11129, shape=(10,), dtype=float64, numpy=\narray([2.96760202e-155, 3.14131212e-155, 2.85730304e-155, 3.00463087e-155,\n       3.03195860e-155, 3.06957916e-155, 2.98479733e-155, 3.05930154e-155,\n       3.06708486e-155, 3.00139303e-155])>"
     },
     "metadata": {},
     "execution_count": 14
    }
   ],
   "source": [
    "final_node.tensor"
   ]
  },
  {
   "cell_type": "code",
   "execution_count": 10,
   "metadata": {},
   "outputs": [
    {
     "output_type": "execute_result",
     "data": {
      "text/plain": "0.008152411856852336"
     },
     "metadata": {},
     "execution_count": 10
    }
   ],
   "source": [
    "np.random.uniform(0, high=0.01)"
   ]
  },
  {
   "cell_type": "code",
   "execution_count": 27,
   "metadata": {},
   "outputs": [],
   "source": [
    "input_nodes[3].tensor = np.array([0.2, np.sqrt(1-0.2*0.2)])"
   ]
  },
  {
   "cell_type": "code",
   "execution_count": 28,
   "metadata": {},
   "outputs": [
    {
     "output_type": "execute_result",
     "data": {
      "text/plain": "array([0.2      , 0.9797959])"
     },
     "metadata": {},
     "execution_count": 28
    }
   ],
   "source": [
    "input_nodes[3].tensor"
   ]
  },
  {
   "cell_type": "markdown",
   "metadata": {},
   "source": [
    "# Fitting"
   ]
  },
  {
   "cell_type": "code",
   "execution_count": 4,
   "metadata": {},
   "outputs": [],
   "source": [
    "nbdata = 10"
   ]
  },
  {
   "cell_type": "code",
   "execution_count": 7,
   "metadata": {},
   "outputs": [],
   "source": [
    "train_cosx = np.random.uniform(size=(nbdata, dimvec))"
   ]
  },
  {
   "cell_type": "code",
   "execution_count": 9,
   "metadata": {},
   "outputs": [
    {
     "output_type": "execute_result",
     "data": {
      "text/plain": "(10, 784)"
     },
     "metadata": {},
     "execution_count": 9
    }
   ],
   "source": [
    "train_cosx.shape"
   ]
  },
  {
   "cell_type": "code",
   "execution_count": null,
   "metadata": {},
   "outputs": [],
   "source": []
  }
 ],
 "metadata": {
  "language_info": {
   "codemirror_mode": {
    "name": "ipython",
    "version": 3
   },
   "file_extension": ".py",
   "mimetype": "text/x-python",
   "name": "python",
   "nbconvert_exporter": "python",
   "pygments_lexer": "ipython3",
   "version": "3.6.7-final"
  },
  "orig_nbformat": 2,
  "kernelspec": {
   "name": "python3",
   "display_name": "Python 3"
  }
 },
 "nbformat": 4,
 "nbformat_minor": 2
}