{
 "cells": [
  {
   "cell_type": "code",
   "execution_count": 1,
   "metadata": {},
   "outputs": [],
   "source": [
    "import numpy as np\n",
    "import tensornetwork as tn"
   ]
  },
  {
   "cell_type": "code",
   "execution_count": 2,
   "metadata": {},
   "outputs": [],
   "source": [
    "# dimvec = 784\n",
    "# pos_label = 392\n",
    "dimvec = 20\n",
    "pos_label = 10\n",
    "nblabels = 10"
   ]
  },
  {
   "cell_type": "code",
   "execution_count": 3,
   "metadata": {},
   "outputs": [],
   "source": [
    "m = 10"
   ]
  },
  {
   "cell_type": "code",
   "execution_count": 4,
   "metadata": {},
   "outputs": [],
   "source": [
    "nodes = [tn.Node(np.random.uniform(size=(2, m)), name='node{}'.format(i)) \n",
    "         if i == 0 or i == dimvec-1 \n",
    "         else tn.Node(np.random.uniform(size=(2, m, m)))\n",
    "         for i in range(dimvec)]\n",
    "nodes[pos_label] = tn.Node(np.random.uniform(size=(2, m, m, nblabels)), name='label_node')"
   ]
  },
  {
   "cell_type": "code",
   "execution_count": 5,
   "metadata": {},
   "outputs": [],
   "source": [
    "cosx = np.random.uniform(size=dimvec)\n",
    "input_nodes = [tn.Node(np.array([cosx[i], np.sqrt(1-cosx[i]*cosx[i])]), name='input{}'.format(i)) \n",
    "               for i in range(dimvec)]"
   ]
  },
  {
   "cell_type": "code",
   "execution_count": 11,
   "metadata": {},
   "outputs": [],
   "source": [
    "edges = [nodes[0][1] ^ nodes[1][1]]\n",
    "for i in range(1, dimvec-1):\n",
    "    edges.append(nodes[i][2] ^ nodes[i+1][1])"
   ]
  },
  {
   "cell_type": "code",
   "execution_count": 12,
   "metadata": {},
   "outputs": [],
   "source": [
    "input_edges = [nodes[i][0] ^ input_nodes[i][0] for i in range(dimvec)]"
   ]
  },
  {
   "cell_type": "markdown",
   "metadata": {},
   "source": [
    "# Computation"
   ]
  },
  {
   "cell_type": "code",
   "execution_count": 8,
   "metadata": {},
   "outputs": [
    {
     "output_type": "stream",
     "name": "stdout",
     "text": "label_node\n"
    }
   ],
   "source": [
    "for node in nodes+input_nodes:\n",
    "    for edge in node.edges:\n",
    "        if edge.is_dangling():\n",
    "            print(' '.join([node.name for node in edge.get_nodes() if node is not None]))"
   ]
  },
  {
   "cell_type": "code",
   "execution_count": 13,
   "metadata": {},
   "outputs": [],
   "source": [
    "final_node = tn.contractors.auto(nodes + input_nodes, output_edge_order=[nodes[pos_label][3]])"
   ]
  },
  {
   "cell_type": "code",
   "execution_count": 14,
   "metadata": {},
   "outputs": [
    {
     "output_type": "execute_result",
     "data": {
      "text/plain": "array([7.93547298e+14, 8.29958180e+14, 7.82124701e+14, 8.06587456e+14,\n       7.87101409e+14, 7.57914007e+14, 7.45040332e+14, 8.36285147e+14,\n       7.24754732e+14, 7.62862101e+14])"
     },
     "metadata": {},
     "execution_count": 14
    }
   ],
   "source": [
    "final_node.tensor"
   ]
  },
  {
   "cell_type": "code",
   "execution_count": null,
   "metadata": {},
   "outputs": [],
   "source": []
  }
 ],
 "metadata": {
  "language_info": {
   "codemirror_mode": {
    "name": "ipython",
    "version": 3
   },
   "file_extension": ".py",
   "mimetype": "text/x-python",
   "name": "python",
   "nbconvert_exporter": "python",
   "pygments_lexer": "ipython3",
   "version": "3.6.7-final"
  },
  "orig_nbformat": 2,
  "kernelspec": {
   "name": "python3",
   "display_name": "Python 3"
  }
 },
 "nbformat": 4,
 "nbformat_minor": 2
}