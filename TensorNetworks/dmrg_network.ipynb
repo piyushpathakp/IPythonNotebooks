{
 "cells": [
  {
   "cell_type": "code",
   "execution_count": 3,
   "metadata": {},
   "outputs": [],
   "source": [
    "import numpy as np\n",
    "import tensornetwork as tn"
   ]
  },
  {
   "cell_type": "code",
   "execution_count": 6,
   "metadata": {},
   "outputs": [],
   "source": [
    "dimvec = 784\n",
    "pos_label = 392\n",
    "# dimvec = 20\n",
    "# pos_label = 10\n",
    "nblabels = 10\n",
    "m=20\n",
    "\n",
    "unihigh = 0.05"
   ]
  },
  {
   "cell_type": "code",
   "execution_count": 19,
   "metadata": {},
   "outputs": [],
   "source": [
    "nodes = [tn.Node(np.random.uniform(high=unihigh, size=(2, m)), name='node{}'.format(i)) \n",
    "         if i == 0 or i == dimvec-1 \n",
    "         else tn.Node(np.random.uniform(high=unihigh, size=(2, m, m)), name='node{}'.format(i))\n",
    "         for i in range(dimvec)]\n",
    "nodes[pos_label] = tn.Node(np.random.uniform(high=unihigh, size=(2, m, m, nblabels)), name='label_node')"
   ]
  },
  {
   "cell_type": "code",
   "execution_count": 20,
   "metadata": {},
   "outputs": [],
   "source": [
    "cosx = np.random.uniform(size=dimvec)\n",
    "input_nodes = [tn.Node(np.array([cosx[i], np.sqrt(1-cosx[i]*cosx[i])]), name='input{}'.format(i)) \n",
    "               for i in range(dimvec)]"
   ]
  },
  {
   "cell_type": "code",
   "execution_count": 29,
   "metadata": {},
   "outputs": [],
   "source": [
    "edges = [nodes[0][1] ^ nodes[1][1]]\n",
    "for i in range(1, dimvec-1):\n",
    "    edges.append(nodes[i][2] ^ nodes[i+1][1])"
   ]
  },
  {
   "cell_type": "code",
   "execution_count": 30,
   "metadata": {},
   "outputs": [],
   "source": [
    "input_edges = [nodes[i][0] ^ input_nodes[i][0] for i in range(dimvec)]"
   ]
  },
  {
   "cell_type": "markdown",
   "metadata": {},
   "source": [
    "# Computation"
   ]
  },
  {
   "cell_type": "code",
   "execution_count": 31,
   "metadata": {},
   "outputs": [
    {
     "output_type": "stream",
     "name": "stdout",
     "text": "label_node\n"
    }
   ],
   "source": [
    "for node in nodes+input_nodes:\n",
    "    for edge in node.edges:\n",
    "        if edge.is_dangling():\n",
    "            print(' '.join([node.name for node in edge.get_nodes() if node is not None]))"
   ]
  },
  {
   "cell_type": "code",
   "execution_count": 32,
   "metadata": {},
   "outputs": [],
   "source": [
    "final_node = tn.contractors.auto(nodes + input_nodes, output_edge_order=[nodes[pos_label][3]])"
   ]
  },
  {
   "cell_type": "code",
   "execution_count": 33,
   "metadata": {},
   "outputs": [
    {
     "output_type": "execute_result",
     "data": {
      "text/plain": "array([4.43722742e-154, 4.50831178e-154, 4.56132943e-154, 4.39198337e-154,\n       4.45591522e-154, 4.56412921e-154, 4.53898256e-154, 4.48323529e-154,\n       4.64669591e-154, 4.53842444e-154])"
     },
     "metadata": {},
     "execution_count": 33
    }
   ],
   "source": [
    "final_node.tensor"
   ]
  },
  {
   "cell_type": "code",
   "execution_count": 10,
   "metadata": {},
   "outputs": [
    {
     "output_type": "execute_result",
     "data": {
      "text/plain": "0.008152411856852336"
     },
     "metadata": {},
     "execution_count": 10
    }
   ],
   "source": [
    "np.random.uniform(0, high=0.01)"
   ]
  },
  {
   "cell_type": "code",
   "execution_count": 27,
   "metadata": {},
   "outputs": [],
   "source": [
    "input_nodes[3].tensor = np.array([0.2, np.sqrt(1-0.2*0.2)])"
   ]
  },
  {
   "cell_type": "code",
   "execution_count": 28,
   "metadata": {},
   "outputs": [
    {
     "output_type": "execute_result",
     "data": {
      "text/plain": "array([0.2      , 0.9797959])"
     },
     "metadata": {},
     "execution_count": 28
    }
   ],
   "source": [
    "input_nodes[3].tensor"
   ]
  },
  {
   "cell_type": "markdown",
   "metadata": {},
   "source": [
    "# Fitting"
   ]
  },
  {
   "cell_type": "code",
   "execution_count": 4,
   "metadata": {},
   "outputs": [],
   "source": [
    "nbdata = 10"
   ]
  },
  {
   "cell_type": "code",
   "execution_count": 7,
   "metadata": {},
   "outputs": [],
   "source": [
    "train_cosx = np.random.uniform(size=(nbdata, dimvec))"
   ]
  },
  {
   "cell_type": "code",
   "execution_count": 9,
   "metadata": {},
   "outputs": [
    {
     "output_type": "execute_result",
     "data": {
      "text/plain": "(10, 784)"
     },
     "metadata": {},
     "execution_count": 9
    }
   ],
   "source": [
    "train_cosx.shape"
   ]
  },
  {
   "cell_type": "code",
   "execution_count": null,
   "metadata": {},
   "outputs": [],
   "source": []
  }
 ],
 "metadata": {
  "language_info": {
   "codemirror_mode": {
    "name": "ipython",
    "version": 3
   },
   "file_extension": ".py",
   "mimetype": "text/x-python",
   "name": "python",
   "nbconvert_exporter": "python",
   "pygments_lexer": "ipython3",
   "version": "3.6.7-final"
  },
  "orig_nbformat": 2,
  "kernelspec": {
   "name": "python3",
   "display_name": "Python 3"
  }
 },
 "nbformat": 4,
 "nbformat_minor": 2
}