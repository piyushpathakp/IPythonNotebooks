{
 "cells": [
  {
   "cell_type": "code",
   "execution_count": 1,
   "metadata": {},
   "outputs": [],
   "source": [
    "import numpy as np\n",
    "import tensornetwork as tn\n",
    "from math import sqrt"
   ]
  },
  {
   "cell_type": "markdown",
   "metadata": {},
   "source": [
    "# Singlet Matrix"
   ]
  },
  {
   "cell_type": "markdown",
   "metadata": {},
   "source": [
    "$\\begin{equation} |\\psi\\rangle = \\frac{1}{\\sqrt{2}} \\left( |00\\rangle + |11\\rangle   \\right) \\end{equation}$"
   ]
  },
  {
   "cell_type": "code",
   "execution_count": 2,
   "metadata": {},
   "outputs": [],
   "source": [
    "singlet = np.array([[sqrt(0.5), 0], [0, sqrt(0.5)]])"
   ]
  },
  {
   "cell_type": "markdown",
   "metadata": {},
   "source": [
    "# Density Matrix"
   ]
  },
  {
   "cell_type": "markdown",
   "metadata": {},
   "source": [
    "$\\rho = |\\psi\\rangle \\langle \\psi | = \\sum_{i j i' j'} \\psi_{ij} \\psi^*_{i'j'} |ij\\rangle \\langle i'j'|$"
   ]
  },
  {
   "cell_type": "code",
   "execution_count": 3,
   "metadata": {},
   "outputs": [],
   "source": [
    "singlet_ketnode = tn.Node(singlet)\n",
    "singlet_branode = tn.Node(np.conj(singlet))"
   ]
  },
  {
   "cell_type": "code",
   "execution_count": 4,
   "metadata": {},
   "outputs": [],
   "source": [
    "final_node = tn.outer_product(singlet_ketnode, singlet_branode)"
   ]
  },
  {
   "cell_type": "code",
   "execution_count": 5,
   "metadata": {},
   "outputs": [
    {
     "data": {
      "text/plain": [
       "array([[[[0.5, 0. ],\n",
       "         [0. , 0.5]],\n",
       "\n",
       "        [[0. , 0. ],\n",
       "         [0. , 0. ]]],\n",
       "\n",
       "\n",
       "       [[[0. , 0. ],\n",
       "         [0. , 0. ]],\n",
       "\n",
       "        [[0.5, 0. ],\n",
       "         [0. , 0.5]]]])"
      ]
     },
     "execution_count": 5,
     "metadata": {},
     "output_type": "execute_result"
    }
   ],
   "source": [
    "final_node.tensor"
   ]
  },
  {
   "cell_type": "markdown",
   "metadata": {},
   "source": [
    "# Partial Trace"
   ]
  },
  {
   "cell_type": "markdown",
   "metadata": {},
   "source": [
    "$\\text{Tr}_2 \\rho = \\sum_{ii'} \\left(\\sum_j \\psi_{ij} \\psi^*_{i'j} \\right) |i\\rangle \\langle i|$"
   ]
  },
  {
   "cell_type": "code",
   "execution_count": 6,
   "metadata": {},
   "outputs": [],
   "source": [
    "# integrate out second system\n",
    "_ = singlet_ketnode[1] ^ singlet_branode[1]\n",
    "reddenmat = singlet_ketnode @ singlet_branode"
   ]
  },
  {
   "cell_type": "code",
   "execution_count": 7,
   "metadata": {},
   "outputs": [
    {
     "data": {
      "text/plain": [
       "array([[0.5, 0. ],\n",
       "       [0. , 0.5]])"
      ]
     },
     "execution_count": 7,
     "metadata": {},
     "output_type": "execute_result"
    }
   ],
   "source": [
    "reddenmat.tensor"
   ]
  },
  {
   "cell_type": "markdown",
   "metadata": {},
   "source": [
    "# Partial Transpose"
   ]
  },
  {
   "cell_type": "markdown",
   "metadata": {},
   "source": [
    "$\\text{partial_transpose} \\rho = \\sum_{iji'j'} \\psi_{ij} \\psi^*_{i'j'} |ij'\\rangle \\langle i'j|$"
   ]
  },
  {
   "cell_type": "code",
   "execution_count": 8,
   "metadata": {},
   "outputs": [
    {
     "data": {
      "text/plain": [
       "<tensornetwork.network_components.Node at 0x1120f30b8>"
      ]
     },
     "execution_count": 8,
     "metadata": {},
     "output_type": "execute_result"
    }
   ],
   "source": [
    "e0 = final_node[0]\n",
    "e1 = final_node[1]\n",
    "e2 = final_node[2]\n",
    "e3 = final_node[3]\n",
    "final_node.reorder_edges([e0, e3, e2, e1])"
   ]
  },
  {
   "cell_type": "code",
   "execution_count": 9,
   "metadata": {},
   "outputs": [
    {
     "data": {
      "text/plain": [
       "array([[[[0.5, 0. ],\n",
       "         [0. , 0. ]],\n",
       "\n",
       "        [[0. , 0. ],\n",
       "         [0.5, 0. ]]],\n",
       "\n",
       "\n",
       "       [[[0. , 0.5],\n",
       "         [0. , 0. ]],\n",
       "\n",
       "        [[0. , 0. ],\n",
       "         [0. , 0.5]]]])"
      ]
     },
     "execution_count": 9,
     "metadata": {},
     "output_type": "execute_result"
    }
   ],
   "source": [
    "final_node.tensor"
   ]
  },
  {
   "cell_type": "code",
   "execution_count": null,
   "metadata": {},
   "outputs": [],
   "source": []
  }
 ],
 "metadata": {
  "kernelspec": {
   "display_name": "Python 3",
   "language": "python",
   "name": "python3"
  },
  "language_info": {
   "codemirror_mode": {
    "name": "ipython",
    "version": 3
   },
   "file_extension": ".py",
   "mimetype": "text/x-python",
   "name": "python",
   "nbconvert_exporter": "python",
   "pygments_lexer": "ipython3",
   "version": "3.6.7"
  }
 },
 "nbformat": 4,
 "nbformat_minor": 4
}
