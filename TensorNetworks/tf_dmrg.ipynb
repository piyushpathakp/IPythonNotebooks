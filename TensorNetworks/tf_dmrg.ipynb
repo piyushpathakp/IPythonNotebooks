{
 "cells": [
  {
   "cell_type": "code",
   "execution_count": 1,
   "metadata": {},
   "outputs": [],
   "source": [
    "import numpy as np\n",
    "import tensornetwork as tn\n",
    "import tensorflow as tf\n",
    "from tqdm import tqdm\n",
    "from functools import partial"
   ]
  },
  {
   "cell_type": "markdown",
   "metadata": {},
   "source": [
    "# Layers"
   ]
  },
  {
   "cell_type": "code",
   "execution_count": 2,
   "metadata": {},
   "outputs": [],
   "source": [
    "class QuantumDMRGLayer(tf.keras.layers.Layer):\n",
    "    def __init__(self, dimvec, pos_label, nblabels, bond_len, unihigh):\n",
    "        super(QuantumDMRGLayer, self).__init__()\n",
    "        self.dimvec = dimvec\n",
    "        self.pos_label = pos_label\n",
    "        self.nblabels = nblabels\n",
    "        self.m = bond_len\n",
    "        self.unihigh = unihigh\n",
    "        self.construct_tensornetwork()\n",
    "\n",
    "    def construct_tensornetwork(self):\n",
    "        end_node = lambda i: tf.Variable(tf.random.uniform(shape=(2, self.m),\n",
    "                                                           minval=0,\n",
    "                                                           maxval=self.unihigh),\n",
    "                                         name='mps_node_{}'.format(i),\n",
    "                                         trainable=True)\n",
    "\n",
    "        label_node = lambda i: tf.Variable(tf.random.uniform(shape=(2, self.m, self.m, self.nblabels),\n",
    "                                                             minval=0,\n",
    "                                                             maxval=self.unihigh),\n",
    "                                           name='mps_node_{}'.format(i),\n",
    "                                           trainable=True)\n",
    "        normal_node = lambda i: tf.Variable(tf.random.uniform(shape=(2, self.m, self.m),\n",
    "                                                              minval=0,\n",
    "                                                              maxval=self.unihigh),\n",
    "                                            name='mps_node_{}'.format(i),\n",
    "                                            trainable=True)\n",
    "        \n",
    "        self.mps_tf_vars = [None] * self.dimvec\n",
    "        for i in range(self.dimvec):\n",
    "            self.mps_tf_vars[i] = tf.case([(tf.math.logical_or(tf.math.equal(i, 0), tf.math.equal(i, self.dimvec - 1)), partial(end_node, i=i)),\n",
    "                                           (tf.math.equal(i, self.pos_label), partial(label_node, i=i))],\n",
    "                                           default=partial(normal_node, i=i)\n",
    "                                  )\n",
    "\n",
    "        # model nodes\n",
    "        self.nodes = [\n",
    "            tn.Node(self.mps_tf_vars[i], name='node{}'.format(i), backend='tensorflow')\n",
    "            for i in range(self.dimvec)\n",
    "        ]\n",
    "\n",
    "        # input nodes\n",
    "        cosx = np.random.uniform(size=self.dimvec)\n",
    "        self.input_nodes = [tn.Node(np.array([cosx[i], np.sqrt(1-cosx[i]*cosx[i])]), name='input{}'.format(i), backend='tensorflow') \n",
    "                            for i in range(self.dimvec)]\n",
    "\n",
    "    @tf.function\n",
    "    def infer_single_datum(self, input):\n",
    "        for i in range(self.dimvec):\n",
    "            self.input_nodes[i].tensor = input[i, :]\n",
    "        edges = [self.nodes[0][1] ^ self.nodes[1][1]]\n",
    "        for i in range(1, self.dimvec - 1):\n",
    "            edges.append(self.nodes[i][2] ^ self.nodes[i + 1][1])\n",
    "\n",
    "        input_edges = [self.nodes[i][0] ^ self.input_nodes[i][0] for i in range(self.dimvec)]\n",
    "\n",
    "        final_node = tn.contractors.greedy(self.nodes + self.input_nodes,\n",
    "                                           output_edge_order=[self.nodes[self.pos_label][3]])\n",
    "        # final_node = self.nodes[0] @ self.nodes[1]\n",
    "        # for node in self.nodes[2:]+self.input_nodes:\n",
    "        #     final_node = final_node @ node\n",
    "        \n",
    "        return final_node.tensor\n",
    "\n",
    "    def call(self, inputs):\n",
    "        return tf.vectorized_map(self.infer_single_datum, inputs)"
   ]
  },
  {
   "cell_type": "code",
   "execution_count": 3,
   "metadata": {},
   "outputs": [],
   "source": [
    "dmrg_layer = QuantumDMRGLayer(dimvec=784, pos_label=392, nblabels=10, bond_len=10, unihigh=0.05)"
   ]
  },
  {
   "cell_type": "code",
   "execution_count": 4,
   "metadata": {},
   "outputs": [],
   "source": [
    "cosx = np.random.uniform(size=784)\n",
    "\n",
    "inputs = np.array([np.array([cosx, np.sqrt(1-cosx*cosx)]).T])"
   ]
  },
  {
   "cell_type": "code",
   "execution_count": 5,
   "metadata": {},
   "outputs": [
    {
     "output_type": "stream",
     "name": "stderr",
     "text": "WARNING: Logging before flag parsing goes to stderr.\nW0612 13:51:25.667677 4559089088 base_layer.py:2081] Layer quantum_dmrg_layer is casting an input tensor from dtype float64 to the layer's dtype of float32, which is new behavior in TensorFlow 2.  The layer has dtype float32 because it's dtype defaults to floatx.\n\nIf you intended to run this layer in float32, you can safely ignore this warning. If in doubt, this warning is likely only an issue if you are porting a TensorFlow 1.X model to TensorFlow 2.\n\nTo change all layers to have dtype float64 by default, call `tf.keras.backend.set_floatx('float64')`. To change just this layer, pass dtype='float64' to the layer constructor. If you are the author of this layer, you can disable autocasting by passing autocast=False to the base Layer constructor.\n\n"
    }
   ],
   "source": [
    "output = dmrg_layer(inputs)"
   ]
  },
  {
   "cell_type": "code",
   "execution_count": 6,
   "metadata": {},
   "outputs": [
    {
     "output_type": "execute_result",
     "data": {
      "text/plain": "<tf.Tensor: shape=(1, 10), dtype=float32, numpy=array([[0., 0., 0., 0., 0., 0., 0., 0., 0., 0.]], dtype=float32)>"
     },
     "metadata": {},
     "execution_count": 6
    }
   ],
   "source": [
    "output"
   ]
  },
  {
   "cell_type": "code",
   "execution_count": 7,
   "metadata": {},
   "outputs": [],
   "source": [
    "quantum_dmrg_model = tf.keras.Sequential([\n",
    "    tf.keras.Input(shape=(20, 2)),\n",
    "    QuantumDMRGLayer(dimvec=20, pos_label=10, nblabels=3, bond_len=5, unihigh=0.05),\n",
    "    tf.keras.layers.Softmax()\n",
    "])"
   ]
  },
  {
   "cell_type": "code",
   "execution_count": 27,
   "metadata": {},
   "outputs": [
    {
     "output_type": "execute_result",
     "data": {
      "text/plain": "True"
     },
     "metadata": {},
     "execution_count": 27
    }
   ],
   "source": [
    "isinstance(dmrg_layer, tf.keras.layers.Layer)"
   ]
  },
  {
   "cell_type": "code",
   "execution_count": null,
   "metadata": {},
   "outputs": [],
   "source": []
  },
  {
   "cell_type": "code",
   "execution_count": null,
   "metadata": {},
   "outputs": [],
   "source": []
  }
 ],
 "metadata": {
  "language_info": {
   "codemirror_mode": {
    "name": "ipython",
    "version": 3
   },
   "file_extension": ".py",
   "mimetype": "text/x-python",
   "name": "python",
   "nbconvert_exporter": "python",
   "pygments_lexer": "ipython3",
   "version": "3.6.7-final"
  },
  "orig_nbformat": 2,
  "kernelspec": {
   "name": "python3",
   "display_name": "Python 3"
  }
 },
 "nbformat": 4,
 "nbformat_minor": 2
}