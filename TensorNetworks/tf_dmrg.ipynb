{
 "cells": [
  {
   "cell_type": "code",
   "execution_count": 1,
   "metadata": {},
   "outputs": [],
   "source": [
    "import numpy as np\n",
    "import tensornetwork as tn\n",
    "import tensorflow as tf"
   ]
  },
  {
   "cell_type": "markdown",
   "metadata": {},
   "source": [
    "# Layers"
   ]
  },
  {
   "cell_type": "code",
   "execution_count": 2,
   "metadata": {},
   "outputs": [],
   "source": [
    "class QuantumDMRGLayer(tf.keras.layers.Layer):\n",
    "    def __init__(self, dimvec, pos_label, nblabels, bond_len):\n",
    "        super(QuantumDMRGLayer, self).__init__()\n",
    "        self.dimvec = dimvec\n",
    "        self.pos_label = pos_label\n",
    "        self.nblabels = nblabels\n",
    "        self.m = bond_len\n",
    "\n",
    "        self.mps_tensors = [tf.Variable(self.mps_tensor_initial_values(i),\n",
    "                                        trainable=True,\n",
    "                                        name='mps_tensors_{}'.format(i))\n",
    "                            for i in range(self.dimvec)]\n",
    "\n",
    "    def mps_tensor_initial_values(self, idx):\n",
    "        if idx == 0 or idx == self.dimvec-1:\n",
    "            tempmat = tf.eye(max(2, self.m))\n",
    "            mat = tempmat[0:2, :] if 2 < self.m else tempmat[:, 0:self.m]\n",
    "            return mat + tf.random.normal(mat.shape, mean=0.0, stddev=1e-9)\n",
    "        elif idx == self.pos_label:\n",
    "            return tf.random.normal((2, self.m, self.m, self.nblabels),\n",
    "                                    mean=0.0,\n",
    "                                    stddev=1e-9)\n",
    "        else:\n",
    "            return tf.random.normal((2, self.m, self.m),\n",
    "                                    mean=0.0,\n",
    "                                    stddev=1e-9)\n",
    "\n",
    "    def infer_single(self, input):\n",
    "        assert input.shape[0] == self.dimvec\n",
    "        assert input.shape[1] == 2\n",
    "        \n",
    "        nodes = [\n",
    "            tn.Node(self.mps_tensors[i], backend='tensorflow')\n",
    "            for i in range(self.dimvec)\n",
    "        ]\n",
    "        input_nodes = [\n",
    "            tn.Node(input[i, :], backend='tensorflow')\n",
    "            for i in range(self.dimvec)\n",
    "        ]\n",
    "\n",
    "        for i in range(self.dimvec):\n",
    "            nodes[i][0] ^ input_nodes[i][0]\n",
    "        nodes[0][1] ^ nodes[1][1]\n",
    "        for i in range(1, self.dimvec-1):\n",
    "            nodes[i][2] ^ nodes[i+1][1]\n",
    "\n",
    "        final_node = tn.contractors.auto(nodes + input_nodes,\n",
    "                                         output_edge_order=[nodes[self.pos_label][3]])\n",
    "        return final_node.tensor\n",
    "\n",
    "    def call(self, inputs):\n",
    "        return tf.vectorized_map(self.infer_single, inputs)\n"
   ]
  },
  {
   "cell_type": "code",
   "execution_count": 3,
   "metadata": {},
   "outputs": [],
   "source": [
    "quantum_dmrg_model = tf.keras.Sequential([\n",
    "    tf.keras.Input(shape=(748, 2)),\n",
    "    QuantumDMRGLayer(dimvec=748, pos_label=5, nblabels=10, bond_len=5),\n",
    "    # tf.keras.layers.Softmax()\n",
    "])\n",
    "quantum_dmrg_model.compile(optimizer='adam', loss=tf.keras.losses.CategoricalCrossentropy())"
   ]
  },
  {
   "cell_type": "code",
   "execution_count": 4,
   "metadata": {},
   "outputs": [
    {
     "output_type": "stream",
     "name": "stdout",
     "text": "Model: \"sequential\"\n_________________________________________________________________\nLayer (type)                 Output Shape              Param #   \n=================================================================\nquantum_dmrg_layer (QuantumD (None, 10)                37770     \n=================================================================\nTotal params: 37,770\nTrainable params: 37,770\nNon-trainable params: 0\n_________________________________________________________________\n"
    }
   ],
   "source": [
    "quantum_dmrg_model.summary()"
   ]
  },
  {
   "cell_type": "code",
   "execution_count": 5,
   "metadata": {},
   "outputs": [],
   "source": [
    "cosx = np.random.uniform(size=748)\n",
    "\n",
    "inputs = np.array([np.array([np.cos(0.5*np.pi*cosx/256.), np.sin(0.5*np.pi*cosx/256.)]).T])"
   ]
  },
  {
   "cell_type": "code",
   "execution_count": 6,
   "metadata": {},
   "outputs": [
    {
     "output_type": "execute_result",
     "data": {
      "text/plain": "array([[[0.99999675, 0.00255093],\n        [0.99998501, 0.00547526],\n        [0.99999381, 0.00351938],\n        ...,\n        [0.99998196, 0.00600701],\n        [0.99998354, 0.00573764],\n        [0.99999875, 0.00158424]]])"
     },
     "metadata": {},
     "execution_count": 6
    }
   ],
   "source": [
    "inputs"
   ]
  },
  {
   "cell_type": "code",
   "execution_count": 7,
   "metadata": {},
   "outputs": [
    {
     "output_type": "execute_result",
     "data": {
      "text/plain": "array([[0., 0., 0., 0., 0., 0., 0., 0., 0., 0.]], dtype=float32)"
     },
     "metadata": {},
     "execution_count": 7
    }
   ],
   "source": [
    "output = quantum_dmrg_model.predict(inputs)\n",
    "output"
   ]
  },
  {
   "cell_type": "code",
   "execution_count": 8,
   "metadata": {},
   "outputs": [
    {
     "output_type": "execute_result",
     "data": {
      "text/plain": "[TensorShape([2, 5]),\n TensorShape([2, 5, 5]),\n TensorShape([2, 5, 5]),\n TensorShape([2, 5, 5]),\n TensorShape([2, 5, 5]),\n TensorShape([2, 5, 5, 10]),\n TensorShape([2, 5, 5]),\n TensorShape([2, 5, 5]),\n TensorShape([2, 5, 5]),\n TensorShape([2, 5, 5])]"
     },
     "metadata": {},
     "execution_count": 8
    }
   ],
   "source": [
    "[quantum_dmrg_model.layers[0].mps_tensors[i].shape for i in range(10)]"
   ]
  },
  {
   "cell_type": "code",
   "execution_count": null,
   "metadata": {},
   "outputs": [],
   "source": []
  }
 ],
 "metadata": {
  "kernelspec": {
   "display_name": "Python 3",
   "language": "python",
   "name": "python3"
  },
  "language_info": {
   "codemirror_mode": {
    "name": "ipython",
    "version": 3
   },
   "file_extension": ".py",
   "mimetype": "text/x-python",
   "name": "python",
   "nbconvert_exporter": "python",
   "pygments_lexer": "ipython3",
   "version": "3.6.7-final"
  }
 },
 "nbformat": 4,
 "nbformat_minor": 2
}