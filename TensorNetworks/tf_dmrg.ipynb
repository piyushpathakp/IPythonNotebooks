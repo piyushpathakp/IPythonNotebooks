{
 "cells": [
  {
   "cell_type": "code",
   "execution_count": 1,
   "metadata": {},
   "outputs": [],
   "source": [
    "import numpy as np\n",
    "import tensornetwork as tn\n",
    "import tensorflow as tf\n",
    "from functools import partial"
   ]
  },
  {
   "cell_type": "markdown",
   "metadata": {},
   "source": [
    "# Layers"
   ]
  },
  {
   "cell_type": "code",
   "execution_count": 2,
   "metadata": {},
   "outputs": [],
   "source": [
    "class QuantumDMRGLayer(tf.keras.layers.Layer):\n",
    "    def __init__(self, dimvec, pos_label, nblabels, bond_len, unihigh):\n",
    "        super(QuantumDMRGLayer, self).__init__()\n",
    "        self.dimvec = dimvec\n",
    "        self.pos_label = pos_label\n",
    "        self.nblabels = nblabels\n",
    "        self.m = bond_len\n",
    "        self.unihigh = unihigh\n",
    "\n",
    "        # end_node = lambda i: tf.Variable(tf.random.uniform(shape=(2, self.m),\n",
    "        #                                                    minval=0,\n",
    "        #                                                    maxval=self.unihigh),\n",
    "        #                                  name='mps_node_{}'.format(i),\n",
    "        #                                  trainable=True)\n",
    "\n",
    "        # label_node = lambda i: tf.Variable(tf.random.uniform(shape=(2, self.m, self.m, self.nblabels),\n",
    "        #                                                      minval=0,\n",
    "        #                                                      maxval=self.unihigh),\n",
    "        #                                    name='mps_node_{}'.format(i),\n",
    "        #                                    trainable=True)\n",
    "        # normal_node = lambda i: tf.Variable(tf.random.uniform(shape=(2, self.m, self.m),\n",
    "        #                                                       minval=0,\n",
    "        #                                                       maxval=self.unihigh),\n",
    "        #                                     name='mps_node_{}'.format(i),\n",
    "        #                                     trainable=True)\n",
    "        \n",
    "        # self.mps_tf_vars = [None] * self.dimvec\n",
    "        # for i in range(self.dimvec):\n",
    "        #     self.mps_tf_vars[i] = tf.case([(tf.math.logical_or(tf.math.equal(i, 0), tf.math.equal(i, self.dimvec - 1)), partial(end_node, i=i)),\n",
    "        #                                    (tf.math.equal(i, self.pos_label), partial(label_node, i=i))],\n",
    "        #                                    default=partial(normal_node, i=i)\n",
    "        #                           )\n",
    "        self.mps_tf_vars = [None] * self.dimvec\n",
    "        for i in range(self.dimvec):\n",
    "            if i == 0 or i == self.dimvec-1:\n",
    "                self.mps_tf_vars[i] = tf.Variable(tf.random.uniform(shape=(2, self.m),\n",
    "                                                                    minval=0,\n",
    "                                                                    maxval=self.unihigh),\n",
    "                                                  name='mps_node_{}'.format(i),\n",
    "                                                  trainable=True)\n",
    "            elif i == self.pos_label:\n",
    "                self.mps_tf_vars[i] = tf.Variable(tf.random.uniform(shape=(2, self.m, self.m, self.nblabels),\n",
    "                                                                    minval=0,\n",
    "                                                                    maxval=self.unihigh),\n",
    "                                                  name='mps_node_{}'.format(i),\n",
    "                                                  trainable=True)\n",
    "            else:\n",
    "                self.mps_tf_vars[i] = tf.Variable(tf.random.uniform(shape=(2, self.m, self.m),\n",
    "                                                                    minval=0,\n",
    "                                                                    maxval=self.unihigh),\n",
    "                                                  name='mps_node_{}'.format(i),\n",
    "                                                  trainable=True)\n",
    "\n",
    "    def infer_single_datum(self, input, mps_tf_vars):\n",
    "        nodes = [\n",
    "            tn.Node(mps_tf_vars[i], backend='tensorflow')\n",
    "            for i in range(self.dimvec)\n",
    "        ]\n",
    "\n",
    "        input_nodes = [None]*self.dimvec\n",
    "\n",
    "        for i in range(self.dimvec):\n",
    "            input_nodes[i] = tn.Node(input[i, :], backend='tensorflow')\n",
    "        nodes[0][1] ^ nodes[1][1]\n",
    "        for i in range(1, self.dimvec - 1):\n",
    "            nodes[i][2] ^ nodes[i + 1][1]\n",
    "        for i in range(self.dimvec):\n",
    "            nodes[i][0] ^ input_nodes[i][0]\n",
    "\n",
    "        # final_node = tn.contractors.auto(self.nodes + self.input_nodes,\n",
    "        #                                    output_edge_order=[self.nodes[self.pos_label][3]])\n",
    "        final_node = nodes[0] @ nodes[1]\n",
    "        for node in nodes[2:]+input_nodes:\n",
    "            final_node = final_node @ node\n",
    "        \n",
    "        return final_node.tensor\n",
    "\n",
    "    def call(self, inputs):\n",
    "        return tf.vectorized_map(lambda input: self.infer_single_datum(input, self.mps_tf_vars), inputs)"
   ]
  },
  {
   "cell_type": "code",
   "execution_count": 9,
   "metadata": {},
   "outputs": [],
   "source": [
    "quantum_dmrg_model = tf.keras.Sequential([\n",
    "    tf.keras.Input(shape=(3, 2)),\n",
    "    QuantumDMRGLayer(dimvec=3, pos_label=1, nblabels=2, bond_len=5, unihigh=0.05),\n",
    "    # tf.keras.layers.Dense(3),\n",
    "    tf.keras.layers.Softmax()\n",
    "])"
   ]
  },
  {
   "cell_type": "code",
   "execution_count": 10,
   "metadata": {},
   "outputs": [],
   "source": [
    "quantum_dmrg_model.compile(optimizer='adam', loss=tf.keras.losses.CategoricalCrossentropy())"
   ]
  },
  {
   "cell_type": "code",
   "execution_count": 11,
   "metadata": {},
   "outputs": [],
   "source": [
    "cosx = np.random.uniform(size=3)\n",
    "\n",
    "inputs = np.array([np.array([cosx, np.sqrt(1-cosx*cosx)]).T])"
   ]
  },
  {
   "cell_type": "code",
   "execution_count": 12,
   "metadata": {},
   "outputs": [],
   "source": [
    "output = quantum_dmrg_model.predict(inputs)"
   ]
  },
  {
   "cell_type": "code",
   "execution_count": 13,
   "metadata": {},
   "outputs": [
    {
     "output_type": "execute_result",
     "data": {
      "text/plain": "array([[0.49999058, 0.5000095 ]], dtype=float32)"
     },
     "metadata": {},
     "execution_count": 13
    }
   ],
   "source": [
    "output"
   ]
  },
  {
   "cell_type": "code",
   "execution_count": 14,
   "metadata": {},
   "outputs": [
    {
     "output_type": "execute_result",
     "data": {
      "text/plain": "[]"
     },
     "metadata": {},
     "execution_count": 14
    }
   ],
   "source": [
    "quantum_dmrg_model.trainable_variables"
   ]
  },
  {
   "cell_type": "code",
   "execution_count": 16,
   "metadata": {},
   "outputs": [
    {
     "output_type": "execute_result",
     "data": {
      "text/plain": "[]"
     },
     "metadata": {},
     "execution_count": 16
    }
   ],
   "source": [
    "quantum_dmrg_model.layers[0].non_trainable_variables"
   ]
  },
  {
   "cell_type": "code",
   "execution_count": 17,
   "metadata": {},
   "outputs": [
    {
     "output_type": "execute_result",
     "data": {
      "text/plain": "True"
     },
     "metadata": {},
     "execution_count": 17
    }
   ],
   "source": [
    "quantum_dmrg_model.layers[0].mps_tf_vars[0].trainable"
   ]
  },
  {
   "cell_type": "code",
   "execution_count": 18,
   "metadata": {},
   "outputs": [
    {
     "output_type": "stream",
     "name": "stdout",
     "text": "Model: \"sequential_1\"\n_________________________________________________________________\nLayer (type)                 Output Shape              Param #   \n=================================================================\nquantum_dmrg_layer_1 (Quantu (None, 2)                 0         \n_________________________________________________________________\nsoftmax_1 (Softmax)          (None, 2)                 0         \n=================================================================\nTotal params: 0\nTrainable params: 0\nNon-trainable params: 0\n_________________________________________________________________\n"
    }
   ],
   "source": [
    "quantum_dmrg_model.summary()"
   ]
  },
  {
   "cell_type": "code",
   "execution_count": null,
   "metadata": {},
   "outputs": [],
   "source": []
  }
 ],
 "metadata": {
  "kernelspec": {
   "display_name": "Python 3",
   "language": "python",
   "name": "python3"
  },
  "language_info": {
   "codemirror_mode": {
    "name": "ipython",
    "version": 3
   },
   "file_extension": ".py",
   "mimetype": "text/x-python",
   "name": "python",
   "nbconvert_exporter": "python",
   "pygments_lexer": "ipython3",
   "version": "3.6.7-final"
  }
 },
 "nbformat": 4,
 "nbformat_minor": 2
}