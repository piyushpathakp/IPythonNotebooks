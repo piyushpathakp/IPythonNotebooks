{
 "cells": [
  {
   "cell_type": "code",
   "execution_count": 1,
   "metadata": {},
   "outputs": [],
   "source": [
    "import numpy as np\n",
    "import tensornetwork as tn\n",
    "import tensorflow as tf\n",
    "import numba\n",
    "import json"
   ]
  },
  {
   "cell_type": "markdown",
   "metadata": {},
   "source": [
    "# Layers"
   ]
  },
  {
   "cell_type": "code",
   "execution_count": 2,
   "metadata": {},
   "outputs": [],
   "source": [
    "class QuantumDMRGLayer(tf.keras.layers.Layer):\n",
    "    def __init__(self, dimvec, pos_label, nblabels, bond_len, nearzero_std=1e-9, isolated_labelnode=True):\n",
    "        super(QuantumDMRGLayer, self).__init__()\n",
    "        self.dimvec = dimvec\n",
    "        self.pos_label = pos_label\n",
    "        self.nblabels = nblabels\n",
    "        self.m = bond_len\n",
    "        self.isolated_label = isolated_labelnode\n",
    "\n",
    "        assert self.pos_label >= 0 and self.pos_label < self.dimvec\n",
    "\n",
    "        self.mps_tensors = [tf.Variable(self.mps_tensor_initial_values(i, nearzero_std=nearzero_std),\n",
    "                                        trainable=True,\n",
    "                                        name='mps_tensors_{}'.format(i))\n",
    "                            for i in range(self.dimvec)]\n",
    "        if self.isolated_label:\n",
    "            self.output_tensor = tf.Variable(tf.random.normal((self.m, self.m, self.nblabels),\n",
    "                                                              mean=0.0,\n",
    "                                                              stddev=nearzero_std),\n",
    "                                             trainable=True,\n",
    "                                             name='mps_output_node')\n",
    "\n",
    "    def mps_tensor_initial_values(self, idx, nearzero_std=1e-9):\n",
    "        if idx == 0 or idx == self.dimvec - 1:\n",
    "            tempmat = tf.eye(max(2, self.m))\n",
    "            mat = tempmat[0:2, :] if 2 < self.m else tempmat[:, 0:self.m]\n",
    "            return mat + tf.random.normal(mat.shape, mean=0.0, stddev=nearzero_std)\n",
    "        elif not self.isolated_label and idx == self.pos_label:\n",
    "            return tf.random.normal((2, self.m, self.m, self.nblabels),\n",
    "                                    mean=0.0,\n",
    "                                    stddev=nearzero_std)\n",
    "        else:\n",
    "            return tf.random.normal((2, self.m, self.m),\n",
    "                                    mean=0.0,\n",
    "                                    stddev=nearzero_std)\n",
    "\n",
    "    def infer_single(self, input):\n",
    "        assert input.shape[0] == self.dimvec\n",
    "        assert input.shape[1] == 2\n",
    "\n",
    "        nodes = [\n",
    "            tn.Node(self.mps_tensors[i], backend='tensorflow')\n",
    "            for i in range(self.dimvec)\n",
    "        ]\n",
    "        if self.isolated_label:\n",
    "            output_node = tn.Node(self.output_tensor, backend='tensorflow')\n",
    "        input_nodes = [\n",
    "            tn.Node(input[i, :], backend='tensorflow')\n",
    "            for i in range(self.dimvec)\n",
    "        ]\n",
    "\n",
    "        for i in range(self.dimvec):\n",
    "            nodes[i][0] ^ input_nodes[i][0]\n",
    "        if self.isolated_label:\n",
    "            nodes[0][1] ^ nodes[1][1]\n",
    "            for i in range(1, self.pos_label):\n",
    "                nodes[i][2] ^ nodes[i + 1][1]\n",
    "            nodes[self.pos_label][2] ^ output_node[0]\n",
    "            output_node[1] ^ nodes[self.pos_label + 1][1]\n",
    "            for i in range(self.pos_label + 1, self.dimvec - 1):\n",
    "                nodes[i][2] ^ nodes[i + 1][1]\n",
    "        else:\n",
    "            nodes[0][1] ^ nodes[1][1]\n",
    "            for i in range(1, self.dimvec-1):\n",
    "                nodes[i][2] ^ nodes[i + 1][1]\n",
    "\n",
    "        if self.isolated_label:\n",
    "            final_node = tn.contractors.auto(nodes + input_nodes + [output_node],\n",
    "                                             output_edge_order=[output_node[2]])\n",
    "        else:\n",
    "            final_node = tn.contractors.auto(nodes + input_nodes,\n",
    "                                             output_edge_order=[nodes[self.pos_label][3]])\n",
    "        return final_node.tensor\n",
    "\n",
    "    def call(self, inputs):\n",
    "        return tf.vectorized_map(self.infer_single, inputs)"
   ]
  },
  {
   "cell_type": "code",
   "execution_count": 3,
   "metadata": {},
   "outputs": [],
   "source": [
    "def generate_data(mnist_file):\n",
    "    for line in mnist_file:\n",
    "        data = json.loads(line)\n",
    "        pixels = np.array(data['pixels'])\n",
    "        digit = data['digit']\n",
    "        yield pixels, digit\n",
    "\n",
    "\n",
    "@numba.njit(numba.float64[:, :](numba.float64[:]))\n",
    "def convert_pixels_to_tnvector(pixels):\n",
    "    tnvector = np.concatenate(\n",
    "        (np.expand_dims(np.cos(0.5*np.pi*pixels/256.), axis=0),\n",
    "         np.expand_dims(np.sin(0.5*np.pi*pixels/256.), axis=0)),\n",
    "        axis=0\n",
    "    ).T\n",
    "    return tnvector\n",
    "\n",
    "\n",
    "def convert_pixels(datum):\n",
    "    # datum['pixels'] = [list(l) for l in convert_pixels_to_tnvector(np.array([datum['pixels']]))]\n",
    "    for i, pixel in enumerate(convert_pixels_to_tnvector(np.array([datum['pixels']]))):\n",
    "        datum['pixel{}'.format(i)] = list(pixel)\n",
    "    return datum"
   ]
  },
  {
   "cell_type": "code",
   "execution_count": 22,
   "metadata": {},
   "outputs": [],
   "source": [
    "def QuantumKerasModel(dimvec, pos_label, nblabels, bond_len, nearzero_std=1e-9, optimizer='adam'):\n",
    "    quantum_dmrg_model = tf.keras.Sequential([\n",
    "        tf.keras.Input(shape=(dimvec, 2)),\n",
    "        QuantumDMRGLayer(dimvec=dimvec,\n",
    "                         pos_label=pos_label,\n",
    "                         nblabels=nblabels,\n",
    "                         bond_len=bond_len,\n",
    "                         nearzero_std=nearzero_std),\n",
    "#         tf.keras.layers.LayerNormalization(beta_initializer='RandomUniform', gamma_initializer='RandomUniform', beta_constraint='non_neg')\n",
    "        tf.keras.layers.LayerNormalization(beta_initializer='RandomUniform', gamma_initializer='RandomUniform'),\n",
    "        tf.keras.layers.Softmax()\n",
    "    ])\n",
    "    quantum_dmrg_model.compile(optimizer=optimizer, loss=tf.keras.losses.CategoricalCrossentropy())\n",
    "    return quantum_dmrg_model"
   ]
  },
  {
   "cell_type": "code",
   "execution_count": 5,
   "metadata": {},
   "outputs": [],
   "source": [
    "def DenseTNKerasModel(dimvec, hidden_dim, nblabels, bond_len, nearzero_std=1e-9, optimizer='adam'):\n",
    "    tn_model = tf.keras.Sequential([\n",
    "        tf.keras.Input(shape=(dimvec, 2)),\n",
    "        tf.keras.layers.Reshape((dimvec*2,)),\n",
    "        tf.keras.layers.Dense(hidden_dim*2, activation=None),\n",
    "        tf.keras.layers.Reshape((hidden_dim, 2)),\n",
    "        QuantumDMRGLayer(dimvec=hidden_dim,\n",
    "                         pos_label=hidden_dim // 2,\n",
    "                         nblabels=nblabels,\n",
    "                         bond_len=bond_len,\n",
    "                         nearzero_std=nearzero_std),\n",
    "        tf.keras.layers.Softmax()\n",
    "    ])\n",
    "    tn_model.compile(optimizer=optimizer, loss=tf.keras.losses.CategoricalCrossentropy())\n",
    "    return tn_model"
   ]
  },
  {
   "cell_type": "code",
   "execution_count": 6,
   "metadata": {},
   "outputs": [
    {
     "data": {
      "text/plain": [
       "array([[[9.99992416e-01, 3.89465704e-03],\n",
       "        [9.99997184e-01, 2.37317318e-03],\n",
       "        [9.99995432e-01, 3.02272545e-03],\n",
       "        ...,\n",
       "        [9.99989133e-01, 4.66205259e-03],\n",
       "        [9.99999146e-01, 1.30703263e-03],\n",
       "        [9.99999854e-01, 5.40475390e-04]]])"
      ]
     },
     "execution_count": 6,
     "metadata": {},
     "output_type": "execute_result"
    }
   ],
   "source": [
    "cosx = np.random.uniform(size=784)\n",
    "\n",
    "inputs = np.array([np.array([np.cos(0.5*np.pi*cosx/256.), np.sin(0.5*np.pi*cosx/256.)]).T])\n",
    "inputs"
   ]
  },
  {
   "cell_type": "code",
   "execution_count": 7,
   "metadata": {},
   "outputs": [],
   "source": [
    " # model parameters\n",
    "dimvec = 784\n",
    "pos_label = 392\n",
    "nblabels = 10\n",
    "bond_len = 2\n",
    "nbdata = 70000\n",
    "\n",
    "# training and CV parameters\n",
    "nb_epochs = 4\n",
    "cv_fold = 5\n",
    "batch_size = 100\n",
    "std = 1e-9\n",
    "learning_rate = 1e-4"
   ]
  },
  {
   "cell_type": "code",
   "execution_count": 8,
   "metadata": {},
   "outputs": [],
   "source": [
    "# Prepare for cross-validation\n",
    "cv_labels = np.random.choice(range(cv_fold), size=nbdata)"
   ]
  },
  {
   "cell_type": "code",
   "execution_count": 9,
   "metadata": {},
   "outputs": [],
   "source": [
    "# Reading the data\n",
    "label_dict = {str(i): i for i in range(10)}\n",
    "X = np.zeros((nbdata, dimvec, 2))\n",
    "Y = np.zeros((nbdata, nblabels))\n",
    "for i, (pixels, label) in enumerate(generate_data(open('/data/hok/PyProjects/tensornetwork-learn/experiments/mnist_784/mnist_784.json', 'r'))):\n",
    "    X[i, :, :] = convert_pixels_to_tnvector(pixels)\n",
    "    Y[i, label_dict[label]] = 1."
   ]
  },
  {
   "cell_type": "code",
   "execution_count": 10,
   "metadata": {},
   "outputs": [],
   "source": [
    "cv_idx = 0\n",
    "\n",
    "trainX = X[cv_labels==cv_idx, :, :]\n",
    "trainY = Y[cv_labels==cv_idx, :]"
   ]
  },
  {
   "cell_type": "code",
   "execution_count": 11,
   "metadata": {},
   "outputs": [],
   "source": [
    "# tn_model = DenseTNKerasModel(dimvec=dimvec, hidden_dim=64,  nblabels=nblabels, bond_len=bond_len,\n",
    "#                              nearzero_std=std, optimizer=tf.keras.optimizers.Adam(learning_rate=learning_rate))"
   ]
  },
  {
   "cell_type": "code",
   "execution_count": 23,
   "metadata": {},
   "outputs": [],
   "source": [
    "quantum_dmrg_model = QuantumKerasModel(dimvec=dimvec, pos_label=pos_label, nblabels=nblabels, bond_len=bond_len,\n",
    "                                       nearzero_std=std, optimizer=tf.keras.optimizers.Adam(learning_rate=learning_rate))"
   ]
  },
  {
   "cell_type": "code",
   "execution_count": 24,
   "metadata": {},
   "outputs": [
    {
     "name": "stdout",
     "output_type": "stream",
     "text": [
      "Model: \"sequential_1\"\n",
      "_________________________________________________________________\n",
      "Layer (type)                 Output Shape              Param #   \n",
      "=================================================================\n",
      "quantum_dmrg_layer_1 (Quantu (None, 10)                6304      \n",
      "_________________________________________________________________\n",
      "layer_normalization_1 (Layer (None, 10)                20        \n",
      "_________________________________________________________________\n",
      "softmax (Softmax)            (None, 10)                0         \n",
      "=================================================================\n",
      "Total params: 6,324\n",
      "Trainable params: 6,324\n",
      "Non-trainable params: 0\n",
      "_________________________________________________________________\n"
     ]
    }
   ],
   "source": [
    "quantum_dmrg_model.summary()"
   ]
  },
  {
   "cell_type": "code",
   "execution_count": 25,
   "metadata": {},
   "outputs": [],
   "source": [
    "tn_layer = quantum_dmrg_model.layers[0]"
   ]
  },
  {
   "cell_type": "code",
   "execution_count": 26,
   "metadata": {},
   "outputs": [
    {
     "data": {
      "text/plain": [
       "[<tf.Variable 'mps_tensors_0:0' shape=(2, 2) dtype=float32, numpy=\n",
       " array([[ 1.0000000e+00, -1.4978621e-09],\n",
       "        [-1.6002278e-09,  1.0000000e+00]], dtype=float32)>,\n",
       " <tf.Variable 'mps_tensors_1:0' shape=(2, 2, 2) dtype=float32, numpy=\n",
       " array([[[ 1.2845859e-09, -5.1590737e-10],\n",
       "         [-1.1658096e-09,  6.8301648e-10]],\n",
       " \n",
       "        [[-1.6309616e-10,  1.5843733e-10],\n",
       "         [-5.5312405e-10, -1.5131182e-09]]], dtype=float32)>,\n",
       " <tf.Variable 'mps_tensors_2:0' shape=(2, 2, 2) dtype=float32, numpy=\n",
       " array([[[-1.5412845e-09, -3.8406842e-10],\n",
       "         [ 1.4566774e-09, -1.2042070e-09]],\n",
       " \n",
       "        [[-3.3812675e-10, -7.3959028e-10],\n",
       "         [-1.8769619e-09,  2.8743155e-10]]], dtype=float32)>]"
      ]
     },
     "execution_count": 26,
     "metadata": {},
     "output_type": "execute_result"
    }
   ],
   "source": [
    "tn_layer.trainable_variables[0:3]"
   ]
  },
  {
   "cell_type": "code",
   "execution_count": 27,
   "metadata": {},
   "outputs": [
    {
     "data": {
      "text/plain": [
       "array([[0.10163032, 0.09602131, 0.10381068, 0.10201379, 0.10338927,\n",
       "        0.10157745, 0.09881987, 0.10003183, 0.09667202, 0.0960335 ]],\n",
       "      dtype=float32)"
      ]
     },
     "execution_count": 27,
     "metadata": {},
     "output_type": "execute_result"
    }
   ],
   "source": [
    "output = quantum_dmrg_model.predict(inputs)\n",
    "output"
   ]
  },
  {
   "cell_type": "code",
   "execution_count": 28,
   "metadata": {},
   "outputs": [
    {
     "name": "stdout",
     "output_type": "stream",
     "text": [
      "Train on 13812 samples\n",
      "Epoch 1/4\n",
      "13812/13812 [==============================] - 170s 12ms/sample - loss: 2.3033\n",
      "Epoch 2/4\n",
      "13812/13812 [==============================] - 13s 963us/sample - loss: 2.3031\n",
      "Epoch 3/4\n",
      "13812/13812 [==============================] - 13s 958us/sample - loss: 2.3029\n",
      "Epoch 4/4\n",
      "13812/13812 [==============================] - 13s 965us/sample - loss: 2.3027\n"
     ]
    },
    {
     "data": {
      "text/plain": [
       "<tensorflow.python.keras.callbacks.History at 0x2aabe6974d10>"
      ]
     },
     "execution_count": 28,
     "metadata": {},
     "output_type": "execute_result"
    }
   ],
   "source": [
    "quantum_dmrg_model.fit(trainX, trainY, epochs=nb_epochs, batch_size=batch_size)"
   ]
  },
  {
   "cell_type": "code",
   "execution_count": 31,
   "metadata": {},
   "outputs": [
    {
     "data": {
      "text/plain": [
       "array([[0.10067101, 0.09875087, 0.10343433, 0.10198036, 0.10286111,\n",
       "        0.10009173, 0.09848643, 0.10098644, 0.09636264, 0.09637505]],\n",
       "      dtype=float32)"
      ]
     },
     "execution_count": 31,
     "metadata": {},
     "output_type": "execute_result"
    }
   ],
   "source": [
    "output = quantum_dmrg_model.predict(inputs)\n",
    "output"
   ]
  },
  {
   "cell_type": "code",
   "execution_count": 32,
   "metadata": {},
   "outputs": [
    {
     "data": {
      "text/plain": [
       "[<tf.Variable 'mps_tensors_0:0' shape=(2, 2) dtype=float32, numpy=\n",
       " array([[ 1.0000000e+00, -1.4978621e-09],\n",
       "        [-1.6002278e-09,  1.0000000e+00]], dtype=float32)>,\n",
       " <tf.Variable 'mps_tensors_1:0' shape=(2, 2, 2) dtype=float32, numpy=\n",
       " array([[[ 1.2845859e-09, -5.1590737e-10],\n",
       "         [-1.1658096e-09,  6.8301648e-10]],\n",
       " \n",
       "        [[-1.6309616e-10,  1.5843733e-10],\n",
       "         [-5.5312405e-10, -1.5131182e-09]]], dtype=float32)>,\n",
       " <tf.Variable 'mps_tensors_2:0' shape=(2, 2, 2) dtype=float32, numpy=\n",
       " array([[[-1.5412845e-09, -3.8406842e-10],\n",
       "         [ 1.4566774e-09, -1.2042070e-09]],\n",
       " \n",
       "        [[-3.3812675e-10, -7.3959028e-10],\n",
       "         [-1.8769619e-09,  2.8743155e-10]]], dtype=float32)>]"
      ]
     },
     "execution_count": 32,
     "metadata": {},
     "output_type": "execute_result"
    }
   ],
   "source": [
    "tn_layer.trainable_variables[0:3]"
   ]
  },
  {
   "cell_type": "code",
   "execution_count": null,
   "metadata": {},
   "outputs": [],
   "source": []
  }
 ],
 "metadata": {
  "kernelspec": {
   "display_name": "Python 3",
   "language": "python",
   "name": "python3"
  },
  "language_info": {
   "codemirror_mode": {
    "name": "ipython",
    "version": 3
   },
   "file_extension": ".py",
   "mimetype": "text/x-python",
   "name": "python",
   "nbconvert_exporter": "python",
   "pygments_lexer": "ipython3",
   "version": "3.6.7"
  }
 },
 "nbformat": 4,
 "nbformat_minor": 4
}
