{
 "cells": [
  {
   "cell_type": "code",
   "execution_count": 1,
   "metadata": {},
   "outputs": [],
   "source": [
    "import numpy as np\n",
    "import tensornetwork as tn\n",
    "import tensorflow as tf\n",
    "from functools import partial"
   ]
  },
  {
   "cell_type": "markdown",
   "metadata": {},
   "source": [
    "# Layers"
   ]
  },
  {
   "cell_type": "code",
   "execution_count": 2,
   "metadata": {},
   "outputs": [],
   "source": [
    "class QuantumDMRGLayer(tf.keras.layers.Layer):\n",
    "    def __init__(self, dimvec, pos_label, nblabels, bond_len, unihigh):\n",
    "        super(QuantumDMRGLayer, self).__init__()\n",
    "        self.dimvec = dimvec\n",
    "        self.pos_label = pos_label\n",
    "        self.nblabels = nblabels\n",
    "        self.m = bond_len\n",
    "        self.unihigh = unihigh\n",
    "        self.construct_tensornetwork()\n",
    "\n",
    "    def construct_tensornetwork(self):\n",
    "        end_node = lambda i: tf.Variable(tf.random.uniform(shape=(2, self.m),\n",
    "                                                           minval=0,\n",
    "                                                           maxval=self.unihigh),\n",
    "                                         name='mps_node_{}'.format(i),\n",
    "                                         trainable=True)\n",
    "\n",
    "        label_node = lambda i: tf.Variable(tf.random.uniform(shape=(2, self.m, self.m, self.nblabels),\n",
    "                                                             minval=0,\n",
    "                                                             maxval=self.unihigh),\n",
    "                                           name='mps_node_{}'.format(i),\n",
    "                                           trainable=True)\n",
    "        normal_node = lambda i: tf.Variable(tf.random.uniform(shape=(2, self.m, self.m),\n",
    "                                                              minval=0,\n",
    "                                                              maxval=self.unihigh),\n",
    "                                            name='mps_node_{}'.format(i),\n",
    "                                            trainable=True)\n",
    "        \n",
    "        self.mps_tf_vars = [None] * self.dimvec\n",
    "        for i in range(self.dimvec):\n",
    "            self.mps_tf_vars[i] = tf.case([(tf.math.logical_or(tf.math.equal(i, 0), tf.math.equal(i, self.dimvec - 1)), partial(end_node, i=i)),\n",
    "                                           (tf.math.equal(i, self.pos_label), partial(label_node, i=i))],\n",
    "                                           default=partial(normal_node, i=i)\n",
    "                                  )\n",
    "\n",
    "        # model nodes\n",
    "        self.nodes = [\n",
    "            tn.Node(self.mps_tf_vars[i], name='node{}'.format(i), backend='tensorflow')\n",
    "            for i in range(self.dimvec)\n",
    "        ]\n",
    "\n",
    "        # input nodes\n",
    "        cosx = np.random.uniform(size=self.dimvec)\n",
    "        self.input_nodes = [tn.Node(np.array([cosx[i], np.sqrt(1-cosx[i]*cosx[i])]), name='input{}'.format(i), backend='tensorflow') \n",
    "                            for i in range(self.dimvec)]\n",
    "\n",
    "    @tf.function\n",
    "    def infer_single_datum(self, input):\n",
    "        for i in range(self.dimvec):\n",
    "            self.input_nodes[i].tensor = input[i, :]\n",
    "        edges = [self.nodes[0][1] ^ self.nodes[1][1]]\n",
    "        for i in range(1, self.dimvec - 1):\n",
    "            edges.append(self.nodes[i][2] ^ self.nodes[i + 1][1])\n",
    "\n",
    "        input_edges = [self.nodes[i][0] ^ self.input_nodes[i][0] for i in range(self.dimvec)]\n",
    "\n",
    "        final_node = tn.contractors.greedy(self.nodes + self.input_nodes,\n",
    "                                           output_edge_order=[self.nodes[self.pos_label][3]])\n",
    "        # final_node = self.nodes[0] @ self.nodes[1]\n",
    "        # for node in self.nodes[2:]+self.input_nodes:\n",
    "        #     final_node = final_node @ node\n",
    "        \n",
    "        return final_node.tensor\n",
    "\n",
    "    def call(self, inputs):\n",
    "        return tf.vectorized_map(self.infer_single_datum, inputs)"
   ]
  },
  {
   "cell_type": "code",
   "execution_count": 3,
   "metadata": {},
   "outputs": [],
   "source": [
    "dmrg_layer = QuantumDMRGLayer(dimvec=784, pos_label=392, nblabels=10, bond_len=10, unihigh=0.05)"
   ]
  },
  {
   "cell_type": "code",
   "execution_count": 4,
   "metadata": {},
   "outputs": [],
   "source": [
    "cosx = np.random.uniform(size=784)\n",
    "\n",
    "inputs = np.array([np.array([cosx, np.sqrt(1-cosx*cosx)]).T])"
   ]
  },
  {
   "cell_type": "code",
   "execution_count": 5,
   "metadata": {},
   "outputs": [
    {
     "name": "stdout",
     "output_type": "stream",
     "text": [
      "WARNING:tensorflow:Layer quantum_dmrg_layer is casting an input tensor from dtype float64 to the layer's dtype of float32, which is new behavior in TensorFlow 2.  The layer has dtype float32 because it's dtype defaults to floatx.\n",
      "\n",
      "If you intended to run this layer in float32, you can safely ignore this warning. If in doubt, this warning is likely only an issue if you are porting a TensorFlow 1.X model to TensorFlow 2.\n",
      "\n",
      "To change all layers to have dtype float64 by default, call `tf.keras.backend.set_floatx('float64')`. To change just this layer, pass dtype='float64' to the layer constructor. If you are the author of this layer, you can disable autocasting by passing autocast=False to the base Layer constructor.\n",
      "\n"
     ]
    }
   ],
   "source": [
    "output = dmrg_layer(inputs)"
   ]
  },
  {
   "cell_type": "code",
   "execution_count": 6,
   "metadata": {},
   "outputs": [
    {
     "data": {
      "text/plain": [
       "<tf.Tensor: shape=(1, 10), dtype=float32, numpy=array([[0., 0., 0., 0., 0., 0., 0., 0., 0., 0.]], dtype=float32)>"
      ]
     },
     "execution_count": 6,
     "metadata": {},
     "output_type": "execute_result"
    }
   ],
   "source": [
    "output"
   ]
  },
  {
   "cell_type": "code",
   "execution_count": 7,
   "metadata": {},
   "outputs": [],
   "source": [
    "quantum_dmrg_model = tf.keras.Sequential([\n",
    "    tf.keras.Input(shape=(20, 2)),\n",
    "    QuantumDMRGLayer(dimvec=20, pos_label=10, nblabels=3, bond_len=5, unihigh=0.05),\n",
    "    tf.keras.layers.Softmax()\n",
    "])"
   ]
  },
  {
   "cell_type": "code",
   "execution_count": 8,
   "metadata": {},
   "outputs": [
    {
     "data": {
      "text/plain": [
       "True"
      ]
     },
     "execution_count": 8,
     "metadata": {},
     "output_type": "execute_result"
    }
   ],
   "source": [
    "isinstance(dmrg_layer, tf.keras.layers.Layer)"
   ]
  },
  {
   "cell_type": "code",
   "execution_count": 12,
   "metadata": {},
   "outputs": [],
   "source": [
    "quantum_dmrg_model = tf.keras.Sequential([\n",
    "    tf.keras.Input(shape=(784, 2)),\n",
    "    QuantumDMRGLayer(dimvec=784, pos_label=392, nblabels=10, bond_len=20, unihigh=0.05),\n",
    "    tf.keras.layers.Softmax()\n",
    "])"
   ]
  },
  {
   "cell_type": "markdown",
   "metadata": {},
   "source": [
    "# Load MNIST data"
   ]
  },
  {
   "cell_type": "code",
   "execution_count": 16,
   "metadata": {},
   "outputs": [],
   "source": [
    "import json\n",
    "import numba"
   ]
  },
  {
   "cell_type": "code",
   "execution_count": 15,
   "metadata": {},
   "outputs": [],
   "source": [
    "def generate_data(mnist_file):\n",
    "    for line in mnist_file:\n",
    "        data = json.loads(line)\n",
    "        pixels = np.array(data['pixels'])\n",
    "        digit = data['digit']\n",
    "        yield pixels, digit"
   ]
  },
  {
   "cell_type": "code",
   "execution_count": 30,
   "metadata": {},
   "outputs": [],
   "source": [
    "@numba.jit\n",
    "def convert_pixels_to_tnvector(pixels):\n",
    "    tnvector = np.array([pixels/256., np.sqrt(1-(pixels/256.)*(pixels/256.))]).T\n",
    "    return tnvector"
   ]
  },
  {
   "cell_type": "code",
   "execution_count": 18,
   "metadata": {},
   "outputs": [],
   "source": [
    "alldata = [(pixels, digit) \n",
    "           for pixels, digit in generate_data(open('/data/hok/testdata/mnist/mnist_784/mnist_784.json', 'r'))]"
   ]
  },
  {
   "cell_type": "code",
   "execution_count": 31,
   "metadata": {},
   "outputs": [
    {
     "name": "stderr",
     "output_type": "stream",
     "text": [
      "<ipython-input-30-1094ff1dffba>:1: NumbaWarning: \n",
      "Compilation is falling back to object mode WITH looplifting enabled because Function \"convert_pixels_to_tnvector\" failed type inference due to: Invalid use of Function(<built-in function array>) with argument(s) of type(s): (list(array(float64, 1d, C)))\n",
      " * parameterized\n",
      "In definition 0:\n",
      "    TypingError: array(float64, 1d, C) not allowed in a homogeneous sequence\n",
      "    raised from /data/hok/conda/envs/hokdev/lib/python3.7/site-packages/numba/core/typing/npydecl.py:462\n",
      "In definition 1:\n",
      "    TypingError: array(float64, 1d, C) not allowed in a homogeneous sequence\n",
      "    raised from /data/hok/conda/envs/hokdev/lib/python3.7/site-packages/numba/core/typing/npydecl.py:462\n",
      "This error is usually caused by passing an argument of a type that is unsupported by the named function.\n",
      "[1] During: resolving callee type: Function(<built-in function array>)\n",
      "[2] During: typing of call at <ipython-input-30-1094ff1dffba> (3)\n",
      "\n",
      "\n",
      "File \"<ipython-input-30-1094ff1dffba>\", line 3:\n",
      "def convert_pixels_to_tnvector(pixels):\n",
      "    tnvector = np.array([pixels/256., np.sqrt(1-(pixels/256.)*(pixels/256.))]).T\n",
      "    ^\n",
      "\n",
      "  @numba.jit\n",
      "/data/hok/conda/envs/hokdev/lib/python3.7/site-packages/numba/core/object_mode_passes.py:178: NumbaWarning: Function \"convert_pixels_to_tnvector\" was compiled in object mode without forceobj=True.\n",
      "\n",
      "File \"<ipython-input-30-1094ff1dffba>\", line 2:\n",
      "@numba.jit\n",
      "def convert_pixels_to_tnvector(pixels):\n",
      "^\n",
      "\n",
      "  state.func_ir.loc))\n",
      "/data/hok/conda/envs/hokdev/lib/python3.7/site-packages/numba/core/object_mode_passes.py:188: NumbaDeprecationWarning: \n",
      "Fall-back from the nopython compilation path to the object mode compilation path has been detected, this is deprecated behaviour.\n",
      "\n",
      "For more information visit http://numba.pydata.org/numba-doc/latest/reference/deprecation.html#deprecation-of-object-mode-fall-back-behaviour-when-using-jit\n",
      "\n",
      "File \"<ipython-input-30-1094ff1dffba>\", line 2:\n",
      "@numba.jit\n",
      "def convert_pixels_to_tnvector(pixels):\n",
      "^\n",
      "\n",
      "  state.func_ir.loc))\n"
     ]
    },
    {
     "data": {
      "text/plain": [
       "array([[0.        , 1.        ],\n",
       "       [0.        , 1.        ],\n",
       "       [0.01171875, 0.99993133],\n",
       "       [0.0703125 , 0.99752501],\n",
       "       [0.0703125 , 0.99752501],\n",
       "       [0.0703125 , 0.99752501],\n",
       "       [0.4921875 , 0.87048921],\n",
       "       [0.53125   , 0.84721511],\n",
       "       [0.68359375, 0.72986272],\n",
       "       [0.1015625 , 0.99482916],\n",
       "       [0.6484375 , 0.7612679 ],\n",
       "       [0.99609375, 0.08830199],\n",
       "       [0.96484375, 0.26282416],\n",
       "       [0.49609375, 0.86826896],\n",
       "       [0.        , 1.        ],\n",
       "       [0.        , 1.        ],\n",
       "       [0.        , 1.        ],\n",
       "       [0.        , 1.        ],\n",
       "       [0.        , 1.        ],\n",
       "       [0.        , 1.        ],\n",
       "       [0.        , 1.        ],\n",
       "       [0.        , 1.        ],\n",
       "       [0.        , 1.        ],\n",
       "       [0.        , 1.        ],\n",
       "       [0.        , 1.        ],\n",
       "       [0.        , 1.        ],\n",
       "       [0.1171875 , 0.99310981],\n",
       "       [0.140625  , 0.99006293],\n",
       "       [0.3671875 , 0.93014695],\n",
       "       [0.6015625 , 0.79882574]])"
      ]
     },
     "execution_count": 31,
     "metadata": {},
     "output_type": "execute_result"
    }
   ],
   "source": [
    "convert_pixels_to_tnvector(alldata[0][0])[150:180, :]"
   ]
  },
  {
   "cell_type": "code",
   "execution_count": 32,
   "metadata": {},
   "outputs": [
    {
     "data": {
      "text/plain": [
       "array([  0.,   0.,   3.,  18.,  18.,  18., 126., 136., 175.,  26., 166.,\n",
       "       255., 247., 127.,   0.,   0.,   0.,   0.,   0.,   0.,   0.,   0.,\n",
       "         0.,   0.,   0.,   0.,  30.,  36.,  94., 154.])"
      ]
     },
     "execution_count": 32,
     "metadata": {},
     "output_type": "execute_result"
    }
   ],
   "source": [
    "alldata[0][0][150:180]"
   ]
  },
  {
   "cell_type": "code",
   "execution_count": null,
   "metadata": {},
   "outputs": [],
   "source": []
  }
 ],
 "metadata": {
  "kernelspec": {
   "display_name": "hokdev",
   "language": "python",
   "name": "hokdev"
  },
  "language_info": {
   "codemirror_mode": {
    "name": "ipython",
    "version": 3
   },
   "file_extension": ".py",
   "mimetype": "text/x-python",
   "name": "python",
   "nbconvert_exporter": "python",
   "pygments_lexer": "ipython3",
   "version": "3.7.7"
  }
 },
 "nbformat": 4,
 "nbformat_minor": 2
}
