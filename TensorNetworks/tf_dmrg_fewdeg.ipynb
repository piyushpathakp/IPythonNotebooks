{
 "cells": [
  {
   "cell_type": "code",
   "execution_count": 1,
   "metadata": {},
   "outputs": [],
   "source": [
    "import numpy as np\n",
    "import tensornetwork as tn\n",
    "import tensorflow as tf\n",
    "import numba\n",
    "import json"
   ]
  },
  {
   "cell_type": "markdown",
   "metadata": {},
   "source": [
    "# Layers"
   ]
  },
  {
   "cell_type": "code",
   "execution_count": 2,
   "metadata": {},
   "outputs": [],
   "source": [
    "class QuantumDMRGLayer(tf.keras.layers.Layer):\n",
    "    def __init__(self, dimvec, pos_label, nblabels, bond_len, nearzero_std=1e-9, isolated_labelnode=True):\n",
    "        super(QuantumDMRGLayer, self).__init__()\n",
    "        self.dimvec = dimvec\n",
    "        self.pos_label = pos_label\n",
    "        self.nblabels = nblabels\n",
    "        self.m = bond_len\n",
    "        self.isolated_label = isolated_labelnode\n",
    "\n",
    "        assert self.pos_label >= 0 and self.pos_label < self.dimvec\n",
    "\n",
    "        self.mps_tensors = [tf.Variable(self.mps_tensor_initial_values(i, nearzero_std=nearzero_std),\n",
    "                                        trainable=True,\n",
    "                                        name='mps_tensors_{}'.format(i))\n",
    "                            for i in range(self.dimvec)]\n",
    "        if self.isolated_label:\n",
    "            self.output_tensor = tf.Variable(tf.random.normal((self.m, self.m, self.nblabels),\n",
    "                                                              mean=0.0,\n",
    "                                                              stddev=nearzero_std),\n",
    "                                             trainable=True,\n",
    "                                             name='mps_output_node')\n",
    "\n",
    "    def mps_tensor_initial_values(self, idx, nearzero_std=1e-9):\n",
    "        if idx == 0 or idx == self.dimvec - 1:\n",
    "            tempmat = tf.eye(max(2, self.m))\n",
    "            mat = tempmat[0:2, :] if 2 < self.m else tempmat[:, 0:self.m]\n",
    "            return mat + tf.random.normal(mat.shape, mean=0.0, stddev=nearzero_std)\n",
    "        elif not self.isolated_label and idx == self.pos_label:\n",
    "            return tf.random.normal((2, self.m, self.m, self.nblabels),\n",
    "                                    mean=0.0,\n",
    "                                    stddev=nearzero_std)\n",
    "        else:\n",
    "            return tf.random.normal((2, self.m, self.m),\n",
    "                                    mean=0.0,\n",
    "                                    stddev=nearzero_std)\n",
    "\n",
    "    def infer_single(self, input):\n",
    "        assert input.shape[0] == self.dimvec\n",
    "        assert input.shape[1] == 2\n",
    "\n",
    "        nodes = [\n",
    "            tn.Node(self.mps_tensors[i], backend='tensorflow')\n",
    "            for i in range(self.dimvec)\n",
    "        ]\n",
    "        if self.isolated_label:\n",
    "            output_node = tn.Node(self.output_tensor, backend='tensorflow')\n",
    "        input_nodes = [\n",
    "            tn.Node(input[i, :], backend='tensorflow')\n",
    "            for i in range(self.dimvec)\n",
    "        ]\n",
    "\n",
    "        for i in range(self.dimvec):\n",
    "            nodes[i][0] ^ input_nodes[i][0]\n",
    "        if self.isolated_label:\n",
    "            nodes[0][1] ^ nodes[1][1]\n",
    "            for i in range(1, self.pos_label):\n",
    "                nodes[i][2] ^ nodes[i + 1][1]\n",
    "            nodes[self.pos_label][2] ^ output_node[0]\n",
    "            output_node[1] ^ nodes[self.pos_label + 1][1]\n",
    "            for i in range(self.pos_label + 1, self.dimvec - 1):\n",
    "                nodes[i][2] ^ nodes[i + 1][1]\n",
    "        else:\n",
    "            nodes[0][1] ^ nodes[1][1]\n",
    "            for i in range(1, self.dimvec-1):\n",
    "                nodes[i][2] ^ nodes[i + 1][1]\n",
    "\n",
    "        if self.isolated_label:\n",
    "            final_node = tn.contractors.auto(nodes + input_nodes + [output_node],\n",
    "                                             output_edge_order=[output_node[2]])\n",
    "        else:\n",
    "            final_node = tn.contractors.auto(nodes + input_nodes,\n",
    "                                             output_edge_order=[nodes[self.pos_label][3]])\n",
    "        return final_node.tensor\n",
    "\n",
    "    def call(self, inputs):\n",
    "        return tf.vectorized_map(self.infer_single, inputs)"
   ]
  },
  {
   "cell_type": "markdown",
   "metadata": {},
   "source": [
    "# Hyperparameters"
   ]
  },
  {
   "cell_type": "code",
   "execution_count": 3,
   "metadata": {},
   "outputs": [],
   "source": [
    " # model parameters\n",
    "dimvec = 4\n",
    "pos_label = 2\n",
    "nblabels = 4\n",
    "nbdata = 1000\n",
    "\n",
    "# training and CV parameters\n",
    "nb_epochs = 1000\n",
    "cv_fold = 5\n",
    "batch_size = 10\n",
    "std = 1e-9\n",
    "learning_rate = 1e-2\n",
    "bond_len = 10"
   ]
  },
  {
   "cell_type": "markdown",
   "metadata": {},
   "source": [
    "# Generating Data"
   ]
  },
  {
   "cell_type": "code",
   "execution_count": 4,
   "metadata": {},
   "outputs": [],
   "source": [
    "def generate_random_data(size, std=0.2):\n",
    "    centroids = {0: np.array([0.5, 0.5, 0, 1]), \n",
    "                 1: np.array([-0.5, 0.5, 0, -1]),\n",
    "                 2: np.array([-0.5, -0.5, 1, 0]),\n",
    "                 3: np.array([0.5, -0.5, -1, 0])}\n",
    "    for _ in range(size):\n",
    "        quadrant = np.random.choice(range(4))\n",
    "        yield np.random.normal(loc=centroids[quadrant], scale=std), quadrant\n",
    "        \n",
    "\n",
    "@numba.njit(numba.float64[:, :](numba.float64[:]))\n",
    "def convert_pixels_to_tnvector(vector):\n",
    "    tnvector = np.concatenate((\n",
    "        np.array([[vector[0], np.sign(vector[0])*(1-np.abs(vector[0]))]]),\n",
    "        np.array([[vector[1], np.sign(vector[1])*(1-np.abs(vector[1]))]]),\n",
    "        np.array([[vector[2], np.sign(vector[2])*(1-np.abs(vector[0]))]]),\n",
    "        np.array([[vector[3], np.sign(vector[1])*(1-np.abs(vector[1]))]])\n",
    "\n",
    "    ), axis=0)\n",
    "    return tnvector\n"
   ]
  },
  {
   "cell_type": "code",
   "execution_count": 5,
   "metadata": {},
   "outputs": [],
   "source": [
    "size = 1000\n",
    "\n",
    "X = np.zeros((size, 4, 2))\n",
    "Y = np.zeros((size, 4))\n",
    "\n",
    "for i, (thisX, thisY) in enumerate(generate_random_data(size)):\n",
    "    X[i, :, :] = convert_pixels_to_tnvector(thisX)\n",
    "    Y[i, thisY] = 1."
   ]
  },
  {
   "cell_type": "code",
   "execution_count": 6,
   "metadata": {},
   "outputs": [],
   "source": [
    "# Prepare for cross-validation\n",
    "cv_labels = np.random.choice(range(cv_fold), size=nbdata)"
   ]
  },
  {
   "cell_type": "markdown",
   "metadata": {},
   "source": [
    "# Test"
   ]
  },
  {
   "cell_type": "code",
   "execution_count": 7,
   "metadata": {},
   "outputs": [],
   "source": [
    "simple_nn = tf.keras.Sequential([\n",
    "    tf.keras.layers.Input(shape=(dimvec, 2)),\n",
    "    tf.keras.layers.Flatten(),\n",
    "    tf.keras.layers.Dense(64, activation='relu'),\n",
    "    tf.keras.layers.Dense(4, activation='softmax')\n",
    "])\n",
    "simple_nn.compile(optimizer=tf.keras.optimizers.Adam(lr=1e-4), \n",
    "                  loss=tf.keras.losses.CategoricalCrossentropy())"
   ]
  },
  {
   "cell_type": "code",
   "execution_count": 8,
   "metadata": {},
   "outputs": [
    {
     "name": "stdout",
     "output_type": "stream",
     "text": [
      "Model: \"sequential\"\n",
      "_________________________________________________________________\n",
      "Layer (type)                 Output Shape              Param #   \n",
      "=================================================================\n",
      "flatten (Flatten)            (None, 8)                 0         \n",
      "_________________________________________________________________\n",
      "dense (Dense)                (None, 64)                576       \n",
      "_________________________________________________________________\n",
      "dense_1 (Dense)              (None, 4)                 260       \n",
      "=================================================================\n",
      "Total params: 836\n",
      "Trainable params: 836\n",
      "Non-trainable params: 0\n",
      "_________________________________________________________________\n"
     ]
    }
   ],
   "source": [
    "simple_nn.summary()"
   ]
  },
  {
   "cell_type": "code",
   "execution_count": 9,
   "metadata": {},
   "outputs": [
    {
     "data": {
      "text/plain": [
       "<tensorflow.python.keras.callbacks.History at 0x2aab3b1c3890>"
      ]
     },
     "execution_count": 9,
     "metadata": {},
     "output_type": "execute_result"
    }
   ],
   "source": [
    "simple_nn.fit(X[cv_labels==0, :, :], Y[cv_labels==0, :], epochs=100, verbose=0)"
   ]
  },
  {
   "cell_type": "code",
   "execution_count": 10,
   "metadata": {},
   "outputs": [],
   "source": [
    "output = simple_nn.predict(X[cv_labels==0, :, :])"
   ]
  },
  {
   "cell_type": "code",
   "execution_count": 11,
   "metadata": {},
   "outputs": [
    {
     "name": "stdout",
     "output_type": "stream",
     "text": [
      "212/212 [==============================] - 0s 394us/sample - loss: 0.5024\n"
     ]
    },
    {
     "data": {
      "text/plain": [
       "0.5024276645678394"
      ]
     },
     "execution_count": 11,
     "metadata": {},
     "output_type": "execute_result"
    }
   ],
   "source": [
    "simple_nn.evaluate(X[cv_labels==0, :, :], Y[cv_labels==0, :])"
   ]
  },
  {
   "cell_type": "code",
   "execution_count": 12,
   "metadata": {},
   "outputs": [
    {
     "data": {
      "text/plain": [
       "211"
      ]
     },
     "execution_count": 12,
     "metadata": {},
     "output_type": "execute_result"
    }
   ],
   "source": [
    "np.sum(np.argmax(output, axis=1)==np.argmax(Y[cv_labels==0], axis=1))"
   ]
  },
  {
   "cell_type": "code",
   "execution_count": 13,
   "metadata": {},
   "outputs": [
    {
     "data": {
      "text/plain": [
       "212"
      ]
     },
     "execution_count": 13,
     "metadata": {},
     "output_type": "execute_result"
    }
   ],
   "source": [
    "np.sum(cv_labels==0)"
   ]
  },
  {
   "cell_type": "markdown",
   "metadata": {},
   "source": [
    "# Model"
   ]
  },
  {
   "cell_type": "code",
   "execution_count": 14,
   "metadata": {},
   "outputs": [],
   "source": [
    "def QuantumKerasModel(dimvec, pos_label, nblabels, bond_len, nearzero_std=1e-9, optimizer='adam'):\n",
    "    quantum_dmrg_model = tf.keras.Sequential([\n",
    "        tf.keras.Input(shape=(dimvec, 2)),\n",
    "        QuantumDMRGLayer(dimvec=dimvec,\n",
    "                         pos_label=pos_label,\n",
    "                         nblabels=nblabels,\n",
    "                         bond_len=bond_len,\n",
    "                         nearzero_std=nearzero_std),\n",
    "#         tf.keras.layers.LayerNormalization(beta_initializer='RandomUniform', gamma_initializer='RandomUniform', beta_constraint='non_neg')\n",
    "        tf.keras.layers.LayerNormalization(beta_initializer='RandomUniform', gamma_initializer='RandomUniform'),\n",
    "        tf.keras.layers.Softmax()\n",
    "    ])\n",
    "    quantum_dmrg_model.compile(optimizer=optimizer, loss=tf.keras.losses.CategoricalCrossentropy())\n",
    "    return quantum_dmrg_model"
   ]
  },
  {
   "cell_type": "code",
   "execution_count": 15,
   "metadata": {},
   "outputs": [],
   "source": [
    "cv_idx = 0\n",
    "\n",
    "trainX = X[cv_labels==cv_idx, :, :]\n",
    "trainY = Y[cv_labels==cv_idx, :]"
   ]
  },
  {
   "cell_type": "code",
   "execution_count": 16,
   "metadata": {},
   "outputs": [],
   "source": [
    "# training and CV parameters\n",
    "nb_epochs = 10000\n",
    "batch_size = 10\n",
    "std = 1e-2\n",
    "learning_rate = 1e-3\n",
    "bond_len = 10"
   ]
  },
  {
   "cell_type": "code",
   "execution_count": 17,
   "metadata": {},
   "outputs": [],
   "source": [
    "quantum_dmrg_model = QuantumKerasModel(dimvec=dimvec, pos_label=pos_label, nblabels=nblabels, bond_len=bond_len,\n",
    "                                       nearzero_std=std, optimizer=tf.keras.optimizers.Adam(learning_rate=learning_rate))"
   ]
  },
  {
   "cell_type": "code",
   "execution_count": 18,
   "metadata": {},
   "outputs": [
    {
     "name": "stdout",
     "output_type": "stream",
     "text": [
      "Model: \"sequential_1\"\n",
      "_________________________________________________________________\n",
      "Layer (type)                 Output Shape              Param #   \n",
      "=================================================================\n",
      "quantum_dmrg_layer (QuantumD (None, 4)                 840       \n",
      "_________________________________________________________________\n",
      "layer_normalization (LayerNo (None, 4)                 8         \n",
      "_________________________________________________________________\n",
      "softmax (Softmax)            (None, 4)                 0         \n",
      "=================================================================\n",
      "Total params: 848\n",
      "Trainable params: 848\n",
      "Non-trainable params: 0\n",
      "_________________________________________________________________\n"
     ]
    }
   ],
   "source": [
    "quantum_dmrg_model.summary()"
   ]
  },
  {
   "cell_type": "code",
   "execution_count": 19,
   "metadata": {},
   "outputs": [],
   "source": [
    "# tn_layer = quantum_dmrg_model.layers[0]\n",
    "# tn_layer.trainable_variables[0:3]"
   ]
  },
  {
   "cell_type": "code",
   "execution_count": 20,
   "metadata": {},
   "outputs": [
    {
     "data": {
      "text/plain": [
       "<tensorflow.python.keras.callbacks.History at 0x2aab796631d0>"
      ]
     },
     "execution_count": 20,
     "metadata": {},
     "output_type": "execute_result"
    }
   ],
   "source": [
    "quantum_dmrg_model.fit(trainX, trainY, epochs=nb_epochs, batch_size=batch_size, verbose=0)"
   ]
  },
  {
   "cell_type": "code",
   "execution_count": 21,
   "metadata": {},
   "outputs": [],
   "source": [
    "output = quantum_dmrg_model.predict(trainX)"
   ]
  },
  {
   "cell_type": "code",
   "execution_count": 22,
   "metadata": {},
   "outputs": [
    {
     "name": "stdout",
     "output_type": "stream",
     "text": [
      "212/212 [==============================] - 0s 1ms/sample - loss: 0.6156\n"
     ]
    },
    {
     "data": {
      "text/plain": [
       "0.6155790281745622"
      ]
     },
     "execution_count": 22,
     "metadata": {},
     "output_type": "execute_result"
    }
   ],
   "source": [
    "quantum_dmrg_model.evaluate(trainX, trainY)"
   ]
  },
  {
   "cell_type": "code",
   "execution_count": 23,
   "metadata": {},
   "outputs": [],
   "source": [
    "# tn_layer.trainable_variables[0:3]"
   ]
  },
  {
   "cell_type": "code",
   "execution_count": 24,
   "metadata": {},
   "outputs": [
    {
     "data": {
      "text/plain": [
       "141"
      ]
     },
     "execution_count": 24,
     "metadata": {},
     "output_type": "execute_result"
    }
   ],
   "source": [
    "np.sum(np.argmax(output, axis=1)==np.argmax(Y[cv_labels==0, :], axis=1))"
   ]
  },
  {
   "cell_type": "code",
   "execution_count": 25,
   "metadata": {},
   "outputs": [
    {
     "data": {
      "text/plain": [
       "212"
      ]
     },
     "execution_count": 25,
     "metadata": {},
     "output_type": "execute_result"
    }
   ],
   "source": [
    "np.sum(cv_labels==0)"
   ]
  },
  {
   "cell_type": "code",
   "execution_count": null,
   "metadata": {},
   "outputs": [],
   "source": []
  }
 ],
 "metadata": {
  "kernelspec": {
   "display_name": "Python 2.7.6 64-bit ('base': conda)",
   "language": "python",
   "name": "python27664bitbasecondac5bb2551f7e945f28c388211b0ee098a"
  },
  "language_info": {
   "codemirror_mode": {
    "name": "ipython",
    "version": 2
   },
   "file_extension": ".py",
   "mimetype": "text/x-python",
   "name": "python",
   "nbconvert_exporter": "python",
   "pygments_lexer": "ipython2",
   "version": "2.7.6"
  }
 },
 "nbformat": 4,
 "nbformat_minor": 4
}
