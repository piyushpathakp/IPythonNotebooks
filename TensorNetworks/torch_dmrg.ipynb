{
 "cells": [
  {
   "cell_type": "code",
   "execution_count": 43,
   "metadata": {},
   "outputs": [],
   "source": [
    "import numpy as np \n",
    "import torch\n",
    "import torchmps\n",
    "import numba\n",
    "import json\n",
    "from tqdm import tqdm"
   ]
  },
  {
   "cell_type": "code",
   "execution_count": 2,
   "metadata": {},
   "outputs": [],
   "source": [
    "dimvec = 784\n",
    "pos_label = 392\n",
    "nblabels = 10\n",
    "bond_len = 10\n",
    "\n",
    "learning_rate = 1e-4"
   ]
  },
  {
   "cell_type": "code",
   "execution_count": 8,
   "metadata": {},
   "outputs": [],
   "source": [
    "cosx = np.random.uniform(size=dimvec)\n",
    "\n",
    "inputs = np.array([np.array([cosx, np.sqrt(1-cosx*cosx)]).T], dtype=np.float32)"
   ]
  },
  {
   "cell_type": "code",
   "execution_count": 9,
   "metadata": {},
   "outputs": [
    {
     "output_type": "execute_result",
     "data": {
      "text/plain": "tensor([[1., 1., 1., 1., 1., 1., 1., 1., 1., 1.]], grad_fn=<ViewBackward>)"
     },
     "metadata": {},
     "execution_count": 9
    }
   ],
   "source": [
    "mps(torch.tensor(inputs))"
   ]
  },
  {
   "cell_type": "code",
   "execution_count": 74,
   "metadata": {},
   "outputs": [],
   "source": [
    "@numba.njit(numba.float64[:, :](numba.float64[:]))\n",
    "def convert_pixels_to_tnvector(pixels):\n",
    "    tnvector = np.concatenate(\n",
    "        (np.expand_dims(np.cos(0.5*np.pi*pixels/256.), axis=0),\n",
    "         np.expand_dims(np.sin(0.5*np.pi*pixels/256.), axis=0)),\n",
    "        axis=0\n",
    "    ).T\n",
    "    return tnvector"
   ]
  },
  {
   "cell_type": "code",
   "execution_count": 86,
   "metadata": {},
   "outputs": [],
   "source": [
    "class MNISTJSON_Dataset(torch.utils.data.Dataset):\n",
    "    def __init__(self, filepath):\n",
    "        self.filepath = filepath\n",
    "        self.digit_map = {digit: int(digit) for digit in '0123456789'}\n",
    "        self.X = None\n",
    "        self.Y = None\n",
    "\n",
    "        for pixels, digit in self.generate_data(open(filepath, 'r')):\n",
    "            pixel_vector = convert_pixels_to_tnvector(np.array(pixels))\n",
    "            ans = np.zeros((10,))\n",
    "            ans[self.digit_map[digit]] = 1.\n",
    "            if self.X is None:\n",
    "                self.X = np.expand_dims(pixel_vector, axis=0)\n",
    "                self.Y = np.expand_dims(ans, axis=0)\n",
    "            else:\n",
    "                self.X = np.concatenate((self.X,\n",
    "                                         np.expand_dims(pixel_vector, axis=0)),\n",
    "                                        axis=0)\n",
    "                self.Y = np.concatenate((self.Y,\n",
    "                                         np.expand_dims(ans, axis=0)),\n",
    "                                        axis=0)\n",
    "            if self.Y.shape[0] >= 1000:\n",
    "                break\n",
    "\n",
    "    def generate_data(self, mnist_file):\n",
    "        for line in mnist_file:\n",
    "            data = json.loads(line)\n",
    "            pixels = np.array(data['pixels'])\n",
    "            digit = data['digit']\n",
    "            yield pixels, digit\n",
    "\n",
    "    def __getitem__(self, idx):\n",
    "        x = torch.Tensor(self.X[idx, :, :])\n",
    "        y = torch.Tensor(self.Y[idx, :])\n",
    "        return x, y\n",
    "\n",
    "    def __len__(self):\n",
    "        return self.Y.shape[0]"
   ]
  },
  {
   "cell_type": "code",
   "execution_count": 87,
   "metadata": {},
   "outputs": [],
   "source": [
    "dataset = MNISTJSON_Dataset('/Users/stephenhky/PyProjects/tensornetwork-learn/experiments/mnist_784/mnist_784.json')"
   ]
  },
  {
   "cell_type": "code",
   "execution_count": 91,
   "metadata": {},
   "outputs": [],
   "source": [
    "mps = torchmps.torchmps.MPS(input_dim=dimvec, output_dim=nblabels, bond_dim=bond_len,               \n",
    "                            adaptive_mode=False, periodic_bc=False, label_site=pos_label)"
   ]
  },
  {
   "cell_type": "code",
   "execution_count": 92,
   "metadata": {},
   "outputs": [],
   "source": [
    "criterion = torch.nn.CrossEntropyLoss()\n",
    "optimizer = torch.optim.Adam(mps.parameters(), lr=learning_rate)\n",
    "dataloader = torch.utils.data.DataLoader(dataset, batch_size=100)"
   ]
  },
  {
   "cell_type": "code",
   "execution_count": 93,
   "metadata": {},
   "outputs": [
    {
     "output_type": "stream",
     "name": "stderr",
     "text": "100%|██████████| 10/10 [00:35<00:00,  3.56s/it]\n"
    }
   ],
   "source": [
    "nb_epochs = 10\n",
    "\n",
    "for _ in tqdm(range(nb_epochs)):\n",
    "    for i, (x_train, y_train) in enumerate(dataloader):\n",
    "        optimizer.zero_grad()\n",
    "        target_indices = torch.max(y_train, 1)[1]\n",
    "        y_pred = mps(x_train)\n",
    "        loss = criterion(y_pred, target_indices)\n",
    "        loss.backward()\n",
    "        optimizer.step()"
   ]
  },
  {
   "cell_type": "code",
   "execution_count": 95,
   "metadata": {},
   "outputs": [
    {
     "output_type": "execute_result",
     "data": {
      "text/plain": "tensor([[281.4480, 279.4002, 282.6530, 284.3252, 278.3716, 284.2715, 281.6510,\n         279.2263, 283.2119, 279.5974]], grad_fn=<ViewBackward>)"
     },
     "metadata": {},
     "execution_count": 95
    }
   ],
   "source": [
    "mps(dataset[0:1][0])"
   ]
  },
  {
   "cell_type": "code",
   "execution_count": 96,
   "metadata": {},
   "outputs": [
    {
     "output_type": "execute_result",
     "data": {
      "text/plain": "tensor([[0., 0., 0., 0., 0., 1., 0., 0., 0., 0.]])"
     },
     "metadata": {},
     "execution_count": 96
    }
   ],
   "source": [
    "dataset[0:1][1]"
   ]
  },
  {
   "cell_type": "code",
   "execution_count": null,
   "metadata": {},
   "outputs": [],
   "source": []
  }
 ],
 "metadata": {
  "language_info": {
   "codemirror_mode": {
    "name": "ipython",
    "version": 3
   },
   "file_extension": ".py",
   "mimetype": "text/x-python",
   "name": "python",
   "nbconvert_exporter": "python",
   "pygments_lexer": "ipython3",
   "version": "3.6.7-final"
  },
  "orig_nbformat": 2,
  "kernelspec": {
   "name": "python3",
   "display_name": "Python 3"
  }
 },
 "nbformat": 4,
 "nbformat_minor": 2
}