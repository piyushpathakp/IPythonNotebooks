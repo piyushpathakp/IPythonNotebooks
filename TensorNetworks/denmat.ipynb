{
 "cells": [
  {
   "cell_type": "code",
   "execution_count": 1,
   "metadata": {},
   "outputs": [],
   "source": [
    "import numpy as np\n",
    "import tensornetwork as tn"
   ]
  },
  {
   "cell_type": "code",
   "execution_count": 2,
   "metadata": {},
   "outputs": [],
   "source": [
    "import pyqentangle"
   ]
  },
  {
   "cell_type": "code",
   "execution_count": 3,
   "metadata": {},
   "outputs": [],
   "source": [
    "singlet = np.array([[0., np.sqrt(0.6) * 1j], [np.sqrt(0.4) * 1j, 0.]])"
   ]
  },
  {
   "cell_type": "markdown",
   "metadata": {},
   "source": [
    "# Density Matrix"
   ]
  },
  {
   "cell_type": "code",
   "execution_count": 4,
   "metadata": {},
   "outputs": [],
   "source": [
    "singlet_ketnode = tn.Node(singlet)\n",
    "singlet_branode = tn.Node(np.conj(singlet))"
   ]
  },
  {
   "cell_type": "code",
   "execution_count": 5,
   "metadata": {},
   "outputs": [],
   "source": [
    "final_node = tn.outer_product(singlet_ketnode, singlet_branode)"
   ]
  },
  {
   "cell_type": "code",
   "execution_count": 6,
   "metadata": {},
   "outputs": [
    {
     "data": {
      "text/plain": [
       "array([[[[0.        +0.j, 0.        +0.j],\n",
       "         [0.        +0.j, 0.        +0.j]],\n",
       "\n",
       "        [[0.        +0.j, 0.6       +0.j],\n",
       "         [0.48989795+0.j, 0.        +0.j]]],\n",
       "\n",
       "\n",
       "       [[[0.        +0.j, 0.48989795+0.j],\n",
       "         [0.4       +0.j, 0.        +0.j]],\n",
       "\n",
       "        [[0.        +0.j, 0.        +0.j],\n",
       "         [0.        +0.j, 0.        +0.j]]]])"
      ]
     },
     "execution_count": 6,
     "metadata": {},
     "output_type": "execute_result"
    }
   ],
   "source": [
    "final_node.tensor"
   ]
  },
  {
   "cell_type": "code",
   "execution_count": 7,
   "metadata": {},
   "outputs": [
    {
     "data": {
      "text/plain": [
       "array([[[[0.        +0.j, 0.        +0.j],\n",
       "         [0.        +0.j, 0.        +0.j]],\n",
       "\n",
       "        [[0.        +0.j, 0.6       +0.j],\n",
       "         [0.48989795+0.j, 0.        +0.j]]],\n",
       "\n",
       "\n",
       "       [[[0.        +0.j, 0.48989795+0.j],\n",
       "         [0.4       +0.j, 0.        +0.j]],\n",
       "\n",
       "        [[0.        +0.j, 0.        +0.j],\n",
       "         [0.        +0.j, 0.        +0.j]]]])"
      ]
     },
     "execution_count": 7,
     "metadata": {},
     "output_type": "execute_result"
    }
   ],
   "source": [
    "pyqentangle.bipartite_denmat.bipartitepurestate_densitymatrix_cython(singlet)"
   ]
  },
  {
   "cell_type": "markdown",
   "metadata": {},
   "source": [
    "# Reduced Density Matrix"
   ]
  },
  {
   "cell_type": "code",
   "execution_count": 8,
   "metadata": {},
   "outputs": [],
   "source": [
    "kept= 0"
   ]
  },
  {
   "cell_type": "code",
   "execution_count": 9,
   "metadata": {},
   "outputs": [],
   "source": [
    "_ = singlet_ketnode[1-kept] ^ singlet_branode[1-kept]\n",
    "reddenmat = singlet_ketnode @ singlet_branode"
   ]
  },
  {
   "cell_type": "code",
   "execution_count": 10,
   "metadata": {},
   "outputs": [
    {
     "data": {
      "text/plain": [
       "array([[0.6+0.j, 0. +0.j],\n",
       "       [0. +0.j, 0.4+0.j]])"
      ]
     },
     "execution_count": 10,
     "metadata": {},
     "output_type": "execute_result"
    }
   ],
   "source": [
    "reddenmat.tensor"
   ]
  },
  {
   "cell_type": "code",
   "execution_count": 11,
   "metadata": {},
   "outputs": [
    {
     "data": {
      "text/plain": [
       "array([[0.6+0.j, 0. +0.j],\n",
       "       [0. +0.j, 0.4+0.j]])"
      ]
     },
     "execution_count": 11,
     "metadata": {},
     "output_type": "execute_result"
    }
   ],
   "source": [
    "pyqentangle.bipartite_reddenmat_nocheck.bipartitepurestate_reduceddensitymatrix_nocheck(singlet, kept)"
   ]
  },
  {
   "cell_type": "markdown",
   "metadata": {},
   "source": [
    "# Partial Transpose"
   ]
  },
  {
   "cell_type": "code",
   "execution_count": 12,
   "metadata": {},
   "outputs": [],
   "source": [
    "singlet_ketnode = tn.Node(singlet)\n",
    "singlet_branode = tn.Node(np.conj(singlet))\n",
    "final_node = tn.outer_product(singlet_ketnode, singlet_branode)"
   ]
  },
  {
   "cell_type": "code",
   "execution_count": 14,
   "metadata": {},
   "outputs": [
    {
     "data": {
      "text/plain": [
       "array([[[[0.        +0.j, 0.        +0.j],\n",
       "         [0.        +0.j, 0.        +0.j]],\n",
       "\n",
       "        [[0.        +0.j, 0.6       +0.j],\n",
       "         [0.48989795+0.j, 0.        +0.j]]],\n",
       "\n",
       "\n",
       "       [[[0.        +0.j, 0.48989795+0.j],\n",
       "         [0.4       +0.j, 0.        +0.j]],\n",
       "\n",
       "        [[0.        +0.j, 0.        +0.j],\n",
       "         [0.        +0.j, 0.        +0.j]]]])"
      ]
     },
     "execution_count": 14,
     "metadata": {},
     "output_type": "execute_result"
    }
   ],
   "source": [
    "final_node.tensor"
   ]
  },
  {
   "cell_type": "code",
   "execution_count": 15,
   "metadata": {},
   "outputs": [
    {
     "data": {
      "text/plain": [
       "<tensornetwork.network_components.Node at 0x11a3c7860>"
      ]
     },
     "execution_count": 15,
     "metadata": {},
     "output_type": "execute_result"
    }
   ],
   "source": [
    "e0 = final_node[0]\n",
    "e1 = final_node[1]\n",
    "e2 = final_node[2]\n",
    "e3 = final_node[3]\n",
    "final_node.reorder_edges([e0, e3, e2, e1])"
   ]
  },
  {
   "cell_type": "code",
   "execution_count": 16,
   "metadata": {},
   "outputs": [
    {
     "data": {
      "text/plain": [
       "array([[[[0.        +0.j, 0.        +0.j],\n",
       "         [0.        +0.j, 0.48989795+0.j]],\n",
       "\n",
       "        [[0.        +0.j, 0.6       +0.j],\n",
       "         [0.        +0.j, 0.        +0.j]]],\n",
       "\n",
       "\n",
       "       [[[0.        +0.j, 0.        +0.j],\n",
       "         [0.4       +0.j, 0.        +0.j]],\n",
       "\n",
       "        [[0.48989795+0.j, 0.        +0.j],\n",
       "         [0.        +0.j, 0.        +0.j]]]])"
      ]
     },
     "execution_count": 16,
     "metadata": {},
     "output_type": "execute_result"
    }
   ],
   "source": [
    "final_node.tensor"
   ]
  },
  {
   "cell_type": "code",
   "execution_count": null,
   "metadata": {},
   "outputs": [],
   "source": []
  }
 ],
 "metadata": {
  "kernelspec": {
   "display_name": "Python 3",
   "language": "python",
   "name": "python3"
  },
  "language_info": {
   "codemirror_mode": {
    "name": "ipython",
    "version": 3
   },
   "file_extension": ".py",
   "mimetype": "text/x-python",
   "name": "python",
   "nbconvert_exporter": "python",
   "pygments_lexer": "ipython3",
   "version": "3.6.7"
  }
 },
 "nbformat": 4,
 "nbformat_minor": 4
}
