{
 "cells": [
  {
   "cell_type": "code",
   "execution_count": 1,
   "metadata": {},
   "outputs": [],
   "source": [
    "import numpy as np"
   ]
  },
  {
   "cell_type": "markdown",
   "metadata": {},
   "source": [
    "# Numba"
   ]
  },
  {
   "cell_type": "code",
   "execution_count": 2,
   "metadata": {},
   "outputs": [],
   "source": [
    "import numba"
   ]
  },
  {
   "cell_type": "code",
   "execution_count": 23,
   "metadata": {},
   "outputs": [],
   "source": [
    "def convert_pixels_to_tnvector(pixels):\n",
    "    tnvector = np.concatenate(\n",
    "        (np.expand_dims(pixels/256., axis=0),\n",
    "         np.expand_dims(np.sqrt(1-(pixels/256.)*(pixels/256.)), axis=0)),\n",
    "        axis=0\n",
    "    ).T\n",
    "    return tnvector\n",
    "\n",
    "\n",
    "@numba.jit(numba.float64[:, :](numba.int64[:]), nopython=True)\n",
    "def convert_pixels_to_tnvector_numba(pixels):\n",
    "    tnvector = np.concatenate(\n",
    "        (np.expand_dims(pixels/256., axis=0),\n",
    "         np.expand_dims(np.sqrt(1-(pixels/256.)*(pixels/256.)), axis=0)),\n",
    "        axis=0\n",
    "    ).T\n",
    "    return tnvector"
   ]
  },
  {
   "cell_type": "code",
   "execution_count": 24,
   "metadata": {},
   "outputs": [],
   "source": [
    "x = np.random.choice(range(256), size=(10000000))"
   ]
  },
  {
   "cell_type": "code",
   "execution_count": 25,
   "metadata": {},
   "outputs": [
    {
     "output_type": "stream",
     "name": "stdout",
     "text": "CPU times: user 218 ms, sys: 110 ms, total: 329 ms\nWall time: 567 ms\n"
    },
    {
     "output_type": "execute_result",
     "data": {
      "text/plain": "array([[0.7890625 , 0.61431293],\n       [0.58984375, 0.8075174 ],\n       [0.046875  , 0.99890076],\n       ...,\n       [0.81640625, 0.577478  ],\n       [0.43359375, 0.90110846],\n       [0.1484375 , 0.98892179]])"
     },
     "metadata": {},
     "execution_count": 25
    }
   ],
   "source": [
    "%time convert_pixels_to_tnvector(x)"
   ]
  },
  {
   "cell_type": "code",
   "execution_count": 26,
   "metadata": {},
   "outputs": [
    {
     "output_type": "stream",
     "name": "stdout",
     "text": "CPU times: user 143 ms, sys: 117 ms, total: 260 ms\nWall time: 441 ms\n"
    },
    {
     "output_type": "execute_result",
     "data": {
      "text/plain": "array([[0.7890625 , 0.61431293],\n       [0.58984375, 0.8075174 ],\n       [0.046875  , 0.99890076],\n       ...,\n       [0.81640625, 0.577478  ],\n       [0.43359375, 0.90110846],\n       [0.1484375 , 0.98892179]])"
     },
     "metadata": {},
     "execution_count": 26
    }
   ],
   "source": [
    "%time convert_pixels_to_tnvector_numba(x)"
   ]
  },
  {
   "cell_type": "markdown",
   "metadata": {},
   "source": [
    "# Generators"
   ]
  },
  {
   "cell_type": "code",
   "execution_count": 28,
   "metadata": {},
   "outputs": [],
   "source": [
    "def square(numbers):\n",
    "    return [number*number for number in numbers]"
   ]
  },
  {
   "cell_type": "code",
   "execution_count": 33,
   "metadata": {},
   "outputs": [],
   "source": [
    "def square_generator(numbers):\n",
    "    for number in numbers:\n",
    "        yield number*number"
   ]
  },
  {
   "cell_type": "code",
   "execution_count": 35,
   "metadata": {},
   "outputs": [
    {
     "output_type": "execute_result",
     "data": {
      "text/plain": "[0, 1, 4, 9, 16, 25, 36, 49, 64, 81]"
     },
     "metadata": {},
     "execution_count": 35
    }
   ],
   "source": [
    "square(range(10))"
   ]
  },
  {
   "cell_type": "code",
   "execution_count": 36,
   "metadata": {},
   "outputs": [
    {
     "output_type": "execute_result",
     "data": {
      "text/plain": "<generator object square_generator at 0x7f8dd59cddb0>"
     },
     "metadata": {},
     "execution_count": 36
    }
   ],
   "source": [
    "square_generator(range(10))"
   ]
  },
  {
   "cell_type": "code",
   "execution_count": 37,
   "metadata": {},
   "outputs": [
    {
     "output_type": "execute_result",
     "data": {
      "text/plain": "[0, 1, 4, 9, 16, 25, 36, 49, 64, 81]"
     },
     "metadata": {},
     "execution_count": 37
    }
   ],
   "source": [
    "[answer for answer in square_generator(range(10))]"
   ]
  },
  {
   "cell_type": "markdown",
   "metadata": {},
   "source": [
    "# Smarter Loops"
   ]
  },
  {
   "cell_type": "code",
   "execution_count": 62,
   "metadata": {},
   "outputs": [],
   "source": [
    "from math import log10"
   ]
  },
  {
   "cell_type": "code",
   "execution_count": 85,
   "metadata": {},
   "outputs": [
    {
     "output_type": "stream",
     "name": "stdout",
     "text": "CPU times: user 4 µs, sys: 0 ns, total: 4 µs\nWall time: 9.06 µs\n"
    }
   ],
   "source": [
    "%time\n",
    "answers = []\n",
    "for num in range(1, 100001, 1):\n",
    "    if num % 2 == 0:\n",
    "        answers += [log10(num)]"
   ]
  },
  {
   "cell_type": "code",
   "execution_count": 86,
   "metadata": {},
   "outputs": [
    {
     "output_type": "execute_result",
     "data": {
      "text/plain": "[0.3010299956639812,\n 0.6020599913279624,\n 0.7781512503836436,\n 0.9030899869919435,\n 1.0,\n 1.0791812460476249,\n 1.146128035678238,\n 1.2041199826559248,\n 1.255272505103306,\n 1.3010299956639813,\n 1.3424226808222062,\n 1.380211241711606,\n 1.414973347970818,\n 1.4471580313422192,\n 1.4771212547196624]"
     },
     "metadata": {},
     "execution_count": 86
    }
   ],
   "source": [
    "answers[:15]"
   ]
  },
  {
   "cell_type": "code",
   "execution_count": 87,
   "metadata": {},
   "outputs": [
    {
     "output_type": "stream",
     "name": "stdout",
     "text": "CPU times: user 5 µs, sys: 0 ns, total: 5 µs\nWall time: 12.9 µs\n"
    }
   ],
   "source": [
    "%time \n",
    "answers = list(map(lambda num: log10(num), filter(lambda num: num % 2 ==0, range(1, 100001, 1))))"
   ]
  },
  {
   "cell_type": "code",
   "execution_count": 88,
   "metadata": {},
   "outputs": [
    {
     "output_type": "execute_result",
     "data": {
      "text/plain": "[0.3010299956639812,\n 0.6020599913279624,\n 0.7781512503836436,\n 0.9030899869919435,\n 1.0,\n 1.0791812460476249,\n 1.146128035678238,\n 1.2041199826559248,\n 1.255272505103306,\n 1.3010299956639813,\n 1.3424226808222062,\n 1.380211241711606,\n 1.414973347970818,\n 1.4471580313422192,\n 1.4771212547196624]"
     },
     "metadata": {},
     "execution_count": 88
    }
   ],
   "source": [
    "answers[:15]"
   ]
  },
  {
   "cell_type": "code",
   "execution_count": 89,
   "metadata": {},
   "outputs": [
    {
     "output_type": "stream",
     "name": "stdout",
     "text": "CPU times: user 2 µs, sys: 1 µs, total: 3 µs\nWall time: 5.72 µs\n"
    }
   ],
   "source": [
    "%time \n",
    "answers = [log10(num) for num in range(1, 100001, 1) if num % 2 == 0]"
   ]
  },
  {
   "cell_type": "code",
   "execution_count": 90,
   "metadata": {},
   "outputs": [
    {
     "output_type": "execute_result",
     "data": {
      "text/plain": "[0.3010299956639812,\n 0.6020599913279624,\n 0.7781512503836436,\n 0.9030899869919435,\n 1.0,\n 1.0791812460476249,\n 1.146128035678238,\n 1.2041199826559248,\n 1.255272505103306,\n 1.3010299956639813,\n 1.3424226808222062,\n 1.380211241711606,\n 1.414973347970818,\n 1.4471580313422192,\n 1.4771212547196624]"
     },
     "metadata": {},
     "execution_count": 90
    }
   ],
   "source": [
    "answers[:15]"
   ]
  },
  {
   "cell_type": "code",
   "execution_count": null,
   "metadata": {},
   "outputs": [],
   "source": []
  }
 ],
 "metadata": {
  "language_info": {
   "codemirror_mode": {
    "name": "ipython",
    "version": 3
   },
   "file_extension": ".py",
   "mimetype": "text/x-python",
   "name": "python",
   "nbconvert_exporter": "python",
   "pygments_lexer": "ipython3",
   "version": "3.6.7-final"
  },
  "orig_nbformat": 2,
  "kernelspec": {
   "name": "python3",
   "display_name": "Python 3"
  }
 },
 "nbformat": 4,
 "nbformat_minor": 2
}