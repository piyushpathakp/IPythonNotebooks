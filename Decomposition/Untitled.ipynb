{
 "cells": [
  {
   "cell_type": "code",
   "execution_count": 1,
   "metadata": {
    "collapsed": false
   },
   "outputs": [
    {
     "data": {
      "text/html": [
       "<div><img alt=\"Output\" src=\"data:image/png;base64,iVBORw0KGgoAAAANSUhEUgAAABQAAAAlCAIAAADNzV5SAAAAhXpUWHRSYXcgcHJvZmlsZSB0eXBlIGV4aWYAAHjaVYvBDcMwDAP/mqIjyLJM2uMYiQNkg45fuu0n9yApgbT1vi97felp2dgxABc5csRU6P6juNciDXn+X9MfZGWgoRhTluEkhnJXkqKFN+LCAahYcIbnIV8gNQN3o86928QyPusLVffpbh/5eCey76LuBgAAAAlwSFlzAAALEwAACxMBAJqcGAAAADx0RVh0U29mdHdhcmUAQ3JlYXRlZCB3aXRoIHRoZSBXb2xmcmFtIExhbmd1YWdlIDogd3d3LndvbGZyYW0uY29tXKKmhQAAACF0RVh0Q3JlYXRpb24gVGltZQAyMDE5OjExOjI5IDE2OjQ1OjQ4CI37RwAAAeVJREFUSIntkz2r4kAUhnONWKhBQdAmIDaxkIBVCk0qLWz8qPwJNkEFG1sbQVDQ0jSCnWhlCisFwQh2ksYqiIqFBjVYWahztpBld+/1KwtbLNy3GWbe8zBzzpnzAQDY38rwTpCmaZfL5Y4BT7VarYLBYCwWoyhqMBh8cl/ACKHdbgcAzWYzm83qgwFAVdV8Ps9x3Gw2+2S9ztlsNnMcR5Jkt9u9nzNCKBKJlEql25bn+UwmAwDb7VbTNABQFIVhmIfP7vf7JpNpOp32ej2CIBaLBQBIksQwTCKRoGm63W4/yzmdTvv9fo/HIwjC7+eHw+F8Pn8txx+wqqo4jlMU9aR+D+FUKsUwjNVq7XQ6+mBRFC0Wi6IogiDY7fblcvkuvN/vnU5nvV6/bZPJJMuyL+EP+NeD8Q3/kvG2SJI0Go3eZDiOY1kWw7DvVv3UZDKJx+Nut5um6XK5/JD++t0RQtFotFqtyrLcaDQMBkOr1Xoxko/k8/lqtZo++Hg8jsdjnuddLtdms9EH1+t1o9GIYVilUkEI6YMB4Hq9DodDkiSLxaJu+KZCoRAIBO5ad1o1n8/D4bAsywCgqqooil6v991WnU6nXC7ncDgIgsBxPBQKqap69+Zng7FerwmCsNlsjwL+06n6AYfwq1AwuxXrAAAAAElFTkSuQmCC\"></div>"
      ]
     },
     "execution_count": 1,
     "metadata": {
      "text/html": []
     },
     "output_type": "execute_result"
    }
   ],
   "source": [
    "Integrate[x^2, x]"
   ]
  },
  {
   "cell_type": "code",
   "execution_count": null,
   "metadata": {
    "collapsed": true
   },
   "outputs": [],
   "source": []
  }
 ],
 "metadata": {
  "kernelspec": {
   "display_name": "Wolfram Language 12",
   "language": "Wolfram Language",
   "name": "wolframlanguage12"
  },
  "language_info": {
   "codemirror_mode": "mathematica",
   "file_extension": ".m",
   "mimetype": "application/vnd.wolfram.m",
   "name": "Wolfram Language",
   "pygments_lexer": "mathematica",
   "version": "12.0"
  }
 },
 "nbformat": 4,
 "nbformat_minor": 2
}
