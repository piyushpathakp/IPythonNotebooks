{
 "cells": [
  {
   "cell_type": "code",
   "execution_count": 4,
   "metadata": {},
   "outputs": [],
   "source": [
    "import numpy as np\n",
    "import torch\n",
    "from torch.nn import Parameter"
   ]
  },
  {
   "cell_type": "code",
   "execution_count": 5,
   "metadata": {},
   "outputs": [],
   "source": [
    "class LinearRegression1(torch.nn.Module):\n",
    "    def __init__(self):\n",
    "        super(LinearRegression1, self).__init__()\n",
    "        self.linearblock = torch.nn.Linear(2, 1)\n",
    "        \n",
    "    def forward(self, x):\n",
    "        return self.linearblock(x)\n",
    "\n",
    "\n",
    "class LinearRegression2(torch.nn.Module):\n",
    "    def __init__(self):\n",
    "        super(LinearRegression2, self).__init__()\n",
    "        self.W = Parameter(torch.rand(2, 1), requires_grad=True)\n",
    "        self.b = Parameter(torch.rand(1), requires_grad=True)\n",
    "        \n",
    "    def forward(self, x):\n",
    "        return torch.mm(x, self.W) + self.b"
   ]
  },
  {
   "cell_type": "code",
   "execution_count": 6,
   "metadata": {},
   "outputs": [
    {
     "data": {
      "text/plain": [
       "<All keys matched successfully>"
      ]
     },
     "execution_count": 6,
     "metadata": {},
     "output_type": "execute_result"
    }
   ],
   "source": [
    "lrModel1 = LinearRegression1()\n",
    "lrModel1.load_state_dict(torch.load('torchModel1.pkl'))\n",
    "\n",
    "lrModel2 = LinearRegression2()\n",
    "lrModel2.load_state_dict(torch.load('torchModel2.pkl'))"
   ]
  },
  {
   "cell_type": "code",
   "execution_count": 8,
   "metadata": {},
   "outputs": [
    {
     "data": {
      "text/plain": [
       "[Parameter containing:\n",
       " tensor([[ 0.9539, -0.2332]], requires_grad=True), Parameter containing:\n",
       " tensor([0.8878], requires_grad=True)]"
      ]
     },
     "execution_count": 8,
     "metadata": {},
     "output_type": "execute_result"
    }
   ],
   "source": [
    "list(lrModel1.parameters())"
   ]
  },
  {
   "cell_type": "code",
   "execution_count": 9,
   "metadata": {},
   "outputs": [
    {
     "data": {
      "text/plain": [
       "[Parameter containing:\n",
       " tensor([[-0.5782],\n",
       "         [ 0.6069]], requires_grad=True), Parameter containing:\n",
       " tensor([-0.5906], requires_grad=True)]"
      ]
     },
     "execution_count": 9,
     "metadata": {},
     "output_type": "execute_result"
    }
   ],
   "source": [
    "list(lrModel2.parameters())"
   ]
  },
  {
   "cell_type": "code",
   "execution_count": 10,
   "metadata": {},
   "outputs": [
    {
     "data": {
      "text/plain": [
       "tensor([2.8019], grad_fn=<AddBackward0>)"
      ]
     },
     "execution_count": 10,
     "metadata": {},
     "output_type": "execute_result"
    }
   ],
   "source": [
    "lrModel1(torch.tensor([2.3, 1.2]))"
   ]
  },
  {
   "cell_type": "code",
   "execution_count": 12,
   "metadata": {},
   "outputs": [
    {
     "data": {
      "text/plain": [
       "tensor([[-1.1922]], grad_fn=<AddBackward0>)"
      ]
     },
     "execution_count": 12,
     "metadata": {},
     "output_type": "execute_result"
    }
   ],
   "source": [
    "lrModel2(torch.tensor([[2.3, 1.2]]))"
   ]
  },
  {
   "cell_type": "code",
   "execution_count": null,
   "metadata": {},
   "outputs": [],
   "source": []
  }
 ],
 "metadata": {
  "kernelspec": {
   "display_name": "Python 3",
   "language": "python",
   "name": "python3"
  },
  "language_info": {
   "codemirror_mode": {
    "name": "ipython",
    "version": 3
   },
   "file_extension": ".py",
   "mimetype": "text/x-python",
   "name": "python",
   "nbconvert_exporter": "python",
   "pygments_lexer": "ipython3",
   "version": "3.6.7"
  }
 },
 "nbformat": 4,
 "nbformat_minor": 4
}
