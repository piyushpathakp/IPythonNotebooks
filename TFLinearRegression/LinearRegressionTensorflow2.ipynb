{
 "cells": [
  {
   "cell_type": "code",
   "execution_count": 1,
   "metadata": {},
   "outputs": [],
   "source": [
    "import numpy as np\n",
    "import pandas as pd\n",
    "import tensorflow as tf"
   ]
  },
  {
   "cell_type": "code",
   "execution_count": 2,
   "metadata": {},
   "outputs": [],
   "source": [
    "# https://mlfromscratch.com/tensorflow-2/#/\n",
    "# https://www.tensorflow.org/guide/saved_model"
   ]
  },
  {
   "cell_type": "code",
   "execution_count": 3,
   "metadata": {},
   "outputs": [],
   "source": [
    "class TFLR(tf.Module):\n",
    "    def __init__(self):\n",
    "        super(TFLR, self).__init__()\n",
    "        self.W = tf.Variable(tf.random.uniform([2, 1]), shape=(2, 1), name='W', dtype=tf.float32)\n",
    "        self.b = tf.Variable(tf.random.uniform([1]), shape=(1,), name='b', dtype=tf.float32)\n",
    "        \n",
    "        self.loss_object = tf.keras.losses.MeanSquaredError()\n",
    "        self.lrLoss = tf.keras.metrics.MeanSquaredError()\n",
    "        self.optimizer = tf.keras.optimizers.Nadam()\n",
    "        \n",
    "    def call(self, xtrain):\n",
    "        ypred = tf.matmul(xtrain, self.W) + self.b\n",
    "        return ypred\n",
    "    \n",
    "    @tf.function\n",
    "    def train_step(self, vectors, labels):\n",
    "        with tf.GradientTape() as tape:\n",
    "            predictions = self.call(vectors)\n",
    "            self.loss = self.loss_object(labels, predictions)\n",
    "        gradients = tape.gradient(self.loss, self.trainable_variables)\n",
    "        self.optimizer.apply_gradients(zip(gradients, self.trainable_variables))"
   ]
  },
  {
   "cell_type": "code",
   "execution_count": 4,
   "metadata": {},
   "outputs": [],
   "source": [
    "dataset1 = pd.read_csv('dataset1.csv')\n",
    "x = np.array([dataset1['x1'], dataset1['x2']], dtype=np.float32).T\n",
    "y = np.array([dataset1['y']], dtype=np.float32).T"
   ]
  },
  {
   "cell_type": "code",
   "execution_count": 5,
   "metadata": {},
   "outputs": [],
   "source": [
    "xtrain = tf.constant(x)\n",
    "ytrain = tf.constant(y)"
   ]
  },
  {
   "cell_type": "code",
   "execution_count": 7,
   "metadata": {},
   "outputs": [],
   "source": [
    "lrModel1 = TFLR()"
   ]
  },
  {
   "cell_type": "code",
   "execution_count": 8,
   "metadata": {},
   "outputs": [],
   "source": [
    "for _ in range(1000):\n",
    "    lrModel1.train_step(xtrain, ytrain)"
   ]
  },
  {
   "cell_type": "code",
   "execution_count": 9,
   "metadata": {},
   "outputs": [
    {
     "data": {
      "text/plain": [
       "(<tf.Variable 'W:0' shape=(2, 1) dtype=float32, numpy=\n",
       " array([[1.4481564 ],\n",
       "        [0.04097667]], dtype=float32)>,\n",
       " <tf.Variable 'b:0' shape=(1,) dtype=float32, numpy=array([-0.48414263], dtype=float32)>)"
      ]
     },
     "execution_count": 9,
     "metadata": {},
     "output_type": "execute_result"
    }
   ],
   "source": [
    "lrModel1.trainable_variables"
   ]
  },
  {
   "cell_type": "code",
   "execution_count": 10,
   "metadata": {},
   "outputs": [],
   "source": [
    "dataset2 = pd.read_csv('dataset2.csv')\n",
    "x = np.array([dataset2['x1'], dataset2['x2']], dtype=np.float32).T\n",
    "y = np.array([dataset2['y']], dtype=np.float32).T"
   ]
  },
  {
   "cell_type": "code",
   "execution_count": 11,
   "metadata": {},
   "outputs": [],
   "source": [
    "xtrain = tf.constant(x)\n",
    "ytrain = tf.constant(y)"
   ]
  },
  {
   "cell_type": "code",
   "execution_count": 13,
   "metadata": {},
   "outputs": [],
   "source": [
    "lrModel2 = TFLR()"
   ]
  },
  {
   "cell_type": "code",
   "execution_count": 14,
   "metadata": {},
   "outputs": [],
   "source": [
    "for _ in range(1000):\n",
    "    lrModel2.train_step(xtrain, ytrain)"
   ]
  },
  {
   "cell_type": "code",
   "execution_count": 15,
   "metadata": {},
   "outputs": [
    {
     "data": {
      "text/plain": [
       "(<tf.Variable 'W:0' shape=(2, 1) dtype=float32, numpy=\n",
       " array([[-0.8059504],\n",
       "        [ 0.8046499]], dtype=float32)>,\n",
       " <tf.Variable 'b:0' shape=(1,) dtype=float32, numpy=array([-0.13983472], dtype=float32)>)"
      ]
     },
     "execution_count": 15,
     "metadata": {},
     "output_type": "execute_result"
    }
   ],
   "source": [
    "lrModel2.trainable_variables"
   ]
  },
  {
   "cell_type": "code",
   "execution_count": 16,
   "metadata": {},
   "outputs": [
    {
     "name": "stderr",
     "output_type": "stream",
     "text": [
      "WARNING: Logging before flag parsing goes to stderr.\n",
      "W0222 17:33:57.952929 4638576064 deprecation.py:506] From /Library/Frameworks/Python.framework/Versions/3.6/lib/python3.6/site-packages/tensorflow_core/python/ops/resource_variable_ops.py:1781: calling BaseResourceVariable.__init__ (from tensorflow.python.ops.resource_variable_ops) with constraint is deprecated and will be removed in a future version.\n",
      "Instructions for updating:\n",
      "If using Keras pass *_constraint arguments to layers.\n"
     ]
    }
   ],
   "source": [
    "tf.saved_model.save(lrModel1, 'tf2Model1/')\n",
    "tf.saved_model.save(lrModel2, 'tf2Model2/')"
   ]
  },
  {
   "cell_type": "code",
   "execution_count": null,
   "metadata": {},
   "outputs": [],
   "source": []
  }
 ],
 "metadata": {
  "kernelspec": {
   "display_name": "Python 3",
   "language": "python",
   "name": "python3"
  },
  "language_info": {
   "codemirror_mode": {
    "name": "ipython",
    "version": 3
   },
   "file_extension": ".py",
   "mimetype": "text/x-python",
   "name": "python",
   "nbconvert_exporter": "python",
   "pygments_lexer": "ipython3",
   "version": "3.6.7"
  }
 },
 "nbformat": 4,
 "nbformat_minor": 4
}
