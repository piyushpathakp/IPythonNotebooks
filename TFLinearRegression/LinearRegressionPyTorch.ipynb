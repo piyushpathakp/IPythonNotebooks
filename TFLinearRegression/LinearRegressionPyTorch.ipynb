{
 "cells": [
  {
   "cell_type": "code",
   "execution_count": 1,
   "metadata": {},
   "outputs": [],
   "source": [
    "import numpy as np\n",
    "import pandas as pd\n",
    "import torch\n",
    "from torch.autograd import Variable\n",
    "from torch.nn import Parameter\n",
    "import torch.nn.functional as F"
   ]
  },
  {
   "cell_type": "code",
   "execution_count": 2,
   "metadata": {},
   "outputs": [
    {
     "data": {
      "text/plain": [
       "False"
      ]
     },
     "execution_count": 2,
     "metadata": {},
     "output_type": "execute_result"
    }
   ],
   "source": [
    "torch.cuda.is_available()"
   ]
  },
  {
   "cell_type": "code",
   "execution_count": 3,
   "metadata": {},
   "outputs": [],
   "source": [
    "dataset1 = pd.read_csv('dataset1.csv')\n",
    "x = np.array([dataset1['x1'], dataset1['x2']], dtype=np.float32).T\n",
    "y = np.array([dataset1['y']], dtype=np.float32).T"
   ]
  },
  {
   "cell_type": "code",
   "execution_count": 4,
   "metadata": {},
   "outputs": [],
   "source": [
    "class LinearRegression1(torch.nn.Module):\n",
    "    def __init__(self):\n",
    "        super(LinearRegression1, self).__init__()\n",
    "        self.linearblock = torch.nn.Linear(2, 1)\n",
    "        \n",
    "    def forward(self, x):\n",
    "        return self.linearblock(x)\n",
    "\n",
    "\n",
    "class LinearRegression2(torch.nn.Module):\n",
    "    def __init__(self):\n",
    "        super(LinearRegression2, self).__init__()\n",
    "        self.W = Parameter(torch.rand(2, 1), requires_grad=True)\n",
    "        self.b = Parameter(torch.rand(1), requires_grad=True)\n",
    "        \n",
    "    def forward(self, x):\n",
    "        return torch.mm(x, self.W) + self.b"
   ]
  },
  {
   "cell_type": "code",
   "execution_count": 6,
   "metadata": {},
   "outputs": [],
   "source": [
    "lrModel1 = LinearRegression1()\n",
    "\n",
    "optimizer = torch.optim.Adam(lrModel1.parameters())\n",
    "\n",
    "for _ in range(1000):\n",
    "    xtrain = torch.tensor(x)\n",
    "    ytrain = torch.tensor(y)\n",
    "    \n",
    "    ypred = lrModel1(xtrain)\n",
    "    loss = F.mse_loss(ypred, ytrain)\n",
    "    \n",
    "    optimizer.zero_grad()\n",
    "    \n",
    "    loss.backward()\n",
    "    \n",
    "    optimizer.step()"
   ]
  },
  {
   "cell_type": "code",
   "execution_count": 7,
   "metadata": {},
   "outputs": [
    {
     "data": {
      "text/plain": [
       "[Parameter containing:\n",
       " tensor([[ 0.9539, -0.2332]], requires_grad=True), Parameter containing:\n",
       " tensor([0.8878], requires_grad=True)]"
      ]
     },
     "execution_count": 7,
     "metadata": {},
     "output_type": "execute_result"
    }
   ],
   "source": [
    "list(lrModel1.parameters())"
   ]
  },
  {
   "cell_type": "code",
   "execution_count": 8,
   "metadata": {},
   "outputs": [],
   "source": [
    "dataset2 = pd.read_csv('dataset2.csv')\n",
    "x = np.array([dataset2['x1'], dataset2['x2']], dtype=np.float32).T\n",
    "y = np.array([dataset2['y']], dtype=np.float32).T"
   ]
  },
  {
   "cell_type": "code",
   "execution_count": 9,
   "metadata": {},
   "outputs": [],
   "source": [
    "lrModel2 = LinearRegression2()\n",
    "\n",
    "optimizer = torch.optim.Adam(lrModel2.parameters())\n",
    "\n",
    "for _ in range(1000):\n",
    "    xtrain = torch.tensor(x)\n",
    "    ytrain = torch.tensor(y)\n",
    "    \n",
    "    ypred = lrModel2(xtrain)\n",
    "    loss = F.mse_loss(ypred, ytrain)\n",
    "    \n",
    "    optimizer.zero_grad()\n",
    "    \n",
    "    loss.backward()\n",
    "    \n",
    "    optimizer.step()"
   ]
  },
  {
   "cell_type": "code",
   "execution_count": 10,
   "metadata": {},
   "outputs": [
    {
     "data": {
      "text/plain": [
       "[Parameter containing:\n",
       " tensor([[-0.5782],\n",
       "         [ 0.6069]], requires_grad=True), Parameter containing:\n",
       " tensor([-0.5906], requires_grad=True)]"
      ]
     },
     "execution_count": 10,
     "metadata": {},
     "output_type": "execute_result"
    }
   ],
   "source": [
    "list(lrModel2.parameters())"
   ]
  },
  {
   "cell_type": "code",
   "execution_count": 11,
   "metadata": {},
   "outputs": [],
   "source": [
    "torch.save(lrModel1.state_dict(), 'torchModel1.pkl')\n",
    "torch.save(lrModel2.state_dict(), 'torchModel2.pkl')"
   ]
  },
  {
   "cell_type": "code",
   "execution_count": 12,
   "metadata": {},
   "outputs": [
    {
     "data": {
      "text/plain": [
       "tensor([2.8019], grad_fn=<AddBackward0>)"
      ]
     },
     "execution_count": 12,
     "metadata": {},
     "output_type": "execute_result"
    }
   ],
   "source": [
    "lrModel1(torch.tensor([2.3, 1.2]))"
   ]
  },
  {
   "cell_type": "code",
   "execution_count": 13,
   "metadata": {},
   "outputs": [
    {
     "data": {
      "text/plain": [
       "tensor([[-1.1922]], grad_fn=<AddBackward0>)"
      ]
     },
     "execution_count": 13,
     "metadata": {},
     "output_type": "execute_result"
    }
   ],
   "source": [
    "lrModel2(torch.tensor([[2.3, 1.2]]))"
   ]
  },
  {
   "cell_type": "code",
   "execution_count": null,
   "metadata": {},
   "outputs": [],
   "source": []
  }
 ],
 "metadata": {
  "kernelspec": {
   "display_name": "Python 3",
   "language": "python",
   "name": "python3"
  },
  "language_info": {
   "codemirror_mode": {
    "name": "ipython",
    "version": 3
   },
   "file_extension": ".py",
   "mimetype": "text/x-python",
   "name": "python",
   "nbconvert_exporter": "python",
   "pygments_lexer": "ipython3",
   "version": "3.6.7"
  }
 },
 "nbformat": 4,
 "nbformat_minor": 4
}
