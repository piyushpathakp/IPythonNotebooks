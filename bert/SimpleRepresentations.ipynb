{
 "cells": [
  {
   "cell_type": "code",
   "execution_count": 1,
   "metadata": {},
   "outputs": [],
   "source": [
    "import torch\n",
    "from simplerepresentations import RepresentationModel\n",
    "import numpy as np"
   ]
  },
  {
   "cell_type": "code",
   "execution_count": 12,
   "metadata": {},
   "outputs": [],
   "source": [
    "representation_model = RepresentationModel(\n",
    "    model_type='bert',\n",
    "    model_name='bert-base-uncased',\n",
    "    batch_size=5,\n",
    "    max_seq_length=48,\n",
    "    combination_method='cat',\n",
    "    last_hidden_to_use=4\n",
    ")"
   ]
  },
  {
   "cell_type": "code",
   "execution_count": 13,
   "metadata": {},
   "outputs": [],
   "source": [
    "sentences = [\n",
    "    'What the heck? Anyway, I do not care!', \n",
    "    'I am a British citizen.',\n",
    "    'He is the king of England.', \n",
    "    'He is the king of Python, a good machine learning engineer.',\n",
    "    'He is the king of Spain.'\n",
    "]\n",
    "sentences = [sentence.lower() for sentence in sentences]"
   ]
  },
  {
   "cell_type": "code",
   "execution_count": 14,
   "metadata": {},
   "outputs": [
    {
     "name": "stdout",
     "output_type": "stream",
     "text": [
      "Converting to features started.\n"
     ]
    },
    {
     "data": {
      "application/vnd.jupyter.widget-view+json": {
       "model_id": "dec96efa35b94a5c8d6692110f284073",
       "version_major": 2,
       "version_minor": 0
      },
      "text/plain": [
       "HBox(children=(FloatProgress(value=0.0, max=5.0), HTML(value='')))"
      ]
     },
     "metadata": {},
     "output_type": "display_data"
    },
    {
     "name": "stdout",
     "output_type": "stream",
     "text": [
      "\n"
     ]
    },
    {
     "data": {
      "application/vnd.jupyter.widget-view+json": {
       "model_id": "d262f65722cc41c4b3b262debe75985b",
       "version_major": 2,
       "version_minor": 0
      },
      "text/plain": [
       "HBox(children=(FloatProgress(value=0.0, max=1.0), HTML(value='')))"
      ]
     },
     "metadata": {},
     "output_type": "display_data"
    },
    {
     "name": "stdout",
     "output_type": "stream",
     "text": [
      "\n"
     ]
    }
   ],
   "source": [
    "all_sentences_representations, all_tokens_representations = representation_model(text_a=sentences)"
   ]
  },
  {
   "cell_type": "code",
   "execution_count": 15,
   "metadata": {},
   "outputs": [
    {
     "data": {
      "text/plain": [
       "array([[-0.8521157 , -0.37790412, -0.9207924 , ..., -0.6867525 ,\n",
       "        -0.63391906,  0.91250145],\n",
       "       [-0.87363476, -0.47166142, -0.86327106, ..., -0.6980259 ,\n",
       "        -0.66543347,  0.8895947 ],\n",
       "       [-0.8703818 , -0.5004277 , -0.77345127, ..., -0.49250266,\n",
       "        -0.719603  ,  0.8515197 ],\n",
       "       [-0.7944419 , -0.5810559 , -0.9006252 , ..., -0.6407994 ,\n",
       "        -0.70012236,  0.7812407 ],\n",
       "       [-0.90248656, -0.5264502 , -0.8410419 , ..., -0.64235497,\n",
       "        -0.73700047,  0.8596088 ]], dtype=float32)"
      ]
     },
     "execution_count": 15,
     "metadata": {},
     "output_type": "execute_result"
    }
   ],
   "source": [
    "all_sentences_representations"
   ]
  },
  {
   "cell_type": "code",
   "execution_count": 16,
   "metadata": {},
   "outputs": [
    {
     "data": {
      "text/plain": [
       "array([[[ 0.24550702,  0.20207036, -0.61503565, ..., -0.03237912,\n",
       "          0.357789  ,  0.5501668 ],\n",
       "        [ 0.38190153,  1.4579376 ,  0.01995073, ...,  0.46406427,\n",
       "          0.75837064, -0.09713192],\n",
       "        [-0.10853194,  0.5075326 ,  0.1146466 , ...,  0.24733628,\n",
       "          1.4089304 , -0.26517522],\n",
       "        ...,\n",
       "        [ 1.0337689 ,  1.27013   ,  1.4596736 , ...,  0.45624617,\n",
       "          0.08538437,  0.306301  ],\n",
       "        [-0.6257733 ,  0.6200858 , -0.14527562, ...,  0.58833796,\n",
       "          0.16944747,  0.18828696],\n",
       "        [-0.4184993 ,  1.0807812 ,  0.67688286, ...,  0.2719446 ,\n",
       "          0.22910675,  0.3421989 ]],\n",
       "\n",
       "       [[ 0.03494452, -0.22927994, -1.0272176 , ..., -0.24553165,\n",
       "          0.4145279 ,  0.7172314 ],\n",
       "        [ 0.7127028 ,  0.44174784, -0.6298361 , ..., -0.26457894,\n",
       "          0.81076   ,  0.7868857 ],\n",
       "        [ 0.76223266,  0.00343839, -0.39879322, ..., -0.72934836,\n",
       "          0.6793642 ,  0.8215845 ],\n",
       "        ...,\n",
       "        [ 0.66632026,  0.15924859,  1.0996408 , ..., -0.06516438,\n",
       "         -0.12052998,  0.20295978],\n",
       "        [-0.4376485 , -0.25104824, -0.46178716, ...,  0.27944627,\n",
       "          0.5109942 , -0.04282195],\n",
       "        [-0.5389736 , -0.1096675 , -1.2114625 , ...,  0.25940213,\n",
       "          0.4029492 ,  0.03324903]],\n",
       "\n",
       "       [[-0.4970429 , -0.24412957, -0.77460945, ..., -0.39850724,\n",
       "          0.43497142,  0.668086  ],\n",
       "        [-0.32563713, -0.25751588,  0.14123505, ..., -0.6937556 ,\n",
       "          0.98808825, -0.22960666],\n",
       "        [-0.2669652 , -0.25877252, -0.15899232, ..., -0.58292377,\n",
       "          0.49368703,  0.7959748 ],\n",
       "        ...,\n",
       "        [-0.6230292 , -0.57661086,  0.4529287 , ...,  0.0588635 ,\n",
       "          0.5501499 , -0.13004419],\n",
       "        [-0.49986765, -0.7089443 ,  0.36013198, ...,  0.06898574,\n",
       "          0.47296086, -0.19188993],\n",
       "        [-0.975584  , -0.6269325 , -0.40748677, ...,  0.11057017,\n",
       "          0.705991  , -0.07647368]],\n",
       "\n",
       "       [[-0.56067497, -0.66926694, -0.61982524, ..., -0.00756367,\n",
       "          0.73975885,  0.5000498 ],\n",
       "        [-0.70536345, -0.68304586, -0.07042115, ...,  0.291551  ,\n",
       "          1.4000187 , -0.12730844],\n",
       "        [-0.9850765 , -0.63732636, -0.17130804, ...,  0.06687677,\n",
       "          0.8687222 ,  0.49475512],\n",
       "        ...,\n",
       "        [-0.15730245, -0.08741501,  0.47364506, ...,  0.6040107 ,\n",
       "          0.5208913 , -0.09119133],\n",
       "        [ 0.15797734,  0.03804392,  0.64449036, ...,  0.56358486,\n",
       "          0.3854124 , -0.14533576],\n",
       "        [ 0.8880462 , -0.09834063,  0.9131962 , ...,  0.5336158 ,\n",
       "          0.36693996, -0.07753318]],\n",
       "\n",
       "       [[-0.6417776 , -0.4400305 , -0.69285583, ..., -0.56381416,\n",
       "          0.6494796 ,  0.5862998 ],\n",
       "        [-0.41110018, -0.17946193,  0.16744773, ..., -0.6130448 ,\n",
       "          1.1368716 , -0.3900941 ],\n",
       "        [-0.4805518 , -0.26226294, -0.15813443, ..., -0.38985837,\n",
       "          0.62998104,  0.5387659 ],\n",
       "        ...,\n",
       "        [-0.60862416, -0.47963765,  0.39219695, ..., -0.05803845,\n",
       "          0.51794255, -0.2974836 ],\n",
       "        [-0.66194344, -0.61344784,  0.20554164, ..., -0.08188324,\n",
       "          0.48558888, -0.34235916],\n",
       "        [-1.1007055 , -0.67953706, -0.37666667, ...,  0.0402442 ,\n",
       "          0.80633974, -0.17182651]]], dtype=float32)"
      ]
     },
     "execution_count": 16,
     "metadata": {},
     "output_type": "execute_result"
    }
   ],
   "source": [
    "all_tokens_representations"
   ]
  },
  {
   "cell_type": "code",
   "execution_count": 17,
   "metadata": {},
   "outputs": [
    {
     "data": {
      "text/plain": [
       "(5, 768)"
      ]
     },
     "execution_count": 17,
     "metadata": {},
     "output_type": "execute_result"
    }
   ],
   "source": [
    "all_sentences_representations.shape"
   ]
  },
  {
   "cell_type": "code",
   "execution_count": 18,
   "metadata": {},
   "outputs": [
    {
     "data": {
      "text/plain": [
       "(5, 48, 3072)"
      ]
     },
     "execution_count": 18,
     "metadata": {},
     "output_type": "execute_result"
    }
   ],
   "source": [
    "all_tokens_representations.shape"
   ]
  },
  {
   "cell_type": "code",
   "execution_count": 19,
   "metadata": {},
   "outputs": [],
   "source": [
    "from scipy.spatial.distance import cosine"
   ]
  },
  {
   "cell_type": "code",
   "execution_count": 20,
   "metadata": {},
   "outputs": [
    {
     "data": {
      "text/plain": [
       "0.28114110231399536"
      ]
     },
     "execution_count": 20,
     "metadata": {},
     "output_type": "execute_result"
    }
   ],
   "source": [
    "cosine(all_tokens_representations[2][3], all_tokens_representations[3][3])"
   ]
  },
  {
   "cell_type": "code",
   "execution_count": 21,
   "metadata": {},
   "outputs": [
    {
     "data": {
      "text/plain": [
       "0.04459643363952637"
      ]
     },
     "execution_count": 21,
     "metadata": {},
     "output_type": "execute_result"
    }
   ],
   "source": [
    "cosine(all_tokens_representations[2][3], all_tokens_representations[4][3])"
   ]
  },
  {
   "cell_type": "code",
   "execution_count": null,
   "metadata": {},
   "outputs": [],
   "source": []
  }
 ],
 "metadata": {
  "kernelspec": {
   "display_name": "Python 3",
   "language": "python",
   "name": "python3"
  },
  "language_info": {
   "codemirror_mode": {
    "name": "ipython",
    "version": 3
   },
   "file_extension": ".py",
   "mimetype": "text/x-python",
   "name": "python",
   "nbconvert_exporter": "python",
   "pygments_lexer": "ipython3",
   "version": "3.8.3"
  }
 },
 "nbformat": 4,
 "nbformat_minor": 4
}
