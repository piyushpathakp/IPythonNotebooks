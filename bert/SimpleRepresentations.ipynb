{
 "cells": [
  {
   "cell_type": "code",
   "execution_count": 1,
   "metadata": {},
   "outputs": [
    {
     "name": "stderr",
     "output_type": "stream",
     "text": [
      "I0820 16:53:09.340803 46912496406208 file_utils.py:39] PyTorch version 1.5.1 available.\n",
      "I0820 16:53:14.082723 46912496406208 file_utils.py:55] TensorFlow version 2.2.0 available.\n"
     ]
    }
   ],
   "source": [
    "import torch\n",
    "from simplerepresentations import RepresentationModel\n",
    "import numpy as np"
   ]
  },
  {
   "cell_type": "code",
   "execution_count": 2,
   "metadata": {},
   "outputs": [
    {
     "name": "stderr",
     "output_type": "stream",
     "text": [
      "I0820 16:53:15.367215 46912496406208 configuration_utils.py:264] loading configuration file https://s3.amazonaws.com/models.huggingface.co/bert/bert-base-uncased-config.json from cache at /home/hok/.cache/torch/transformers/4dad0251492946e18ac39290fcfe91b89d370fee250efe9521476438fe8ca185.7156163d5fdc189c3016baca0775ffce230789d7fa2a42ef516483e4ca884517\n",
      "I0820 16:53:15.368386 46912496406208 configuration_utils.py:300] Model config BertConfig {\n",
      "  \"architectures\": [\n",
      "    \"BertForMaskedLM\"\n",
      "  ],\n",
      "  \"attention_probs_dropout_prob\": 0.1,\n",
      "  \"gradient_checkpointing\": false,\n",
      "  \"hidden_act\": \"gelu\",\n",
      "  \"hidden_dropout_prob\": 0.1,\n",
      "  \"hidden_size\": 768,\n",
      "  \"initializer_range\": 0.02,\n",
      "  \"intermediate_size\": 3072,\n",
      "  \"layer_norm_eps\": 1e-12,\n",
      "  \"max_position_embeddings\": 512,\n",
      "  \"model_type\": \"bert\",\n",
      "  \"num_attention_heads\": 12,\n",
      "  \"num_hidden_layers\": 12,\n",
      "  \"output_hidden_states\": true,\n",
      "  \"pad_token_id\": 0,\n",
      "  \"type_vocab_size\": 2,\n",
      "  \"vocab_size\": 30522\n",
      "}\n",
      "\n",
      "I0820 16:53:15.633807 46912496406208 modeling_utils.py:667] loading weights file https://cdn.huggingface.co/bert-base-uncased-pytorch_model.bin from cache at /home/hok/.cache/torch/transformers/f2ee78bdd635b758cc0a12352586868bef80e47401abe4c4fcc3832421e7338b.36ca03ab34a1a5d5fa7bc3d03d55c4fa650fed07220e2eeebc06ce58d0e9a157\n",
      "I0820 16:53:18.673601 46912496406208 modeling_utils.py:765] All model checkpoint weights were used when initializing BertModel.\n",
      "\n",
      "I0820 16:53:18.675555 46912496406208 modeling_utils.py:774] All the weights of BertModel were initialized from the model checkpoint at bert-base-uncased.\n",
      "If your task is similar to the task the model of the ckeckpoint was trained on, you can already use BertModel for predictions without further training.\n",
      "I0820 16:53:18.749746 46912496406208 tokenization_utils_base.py:1254] loading file https://s3.amazonaws.com/models.huggingface.co/bert/bert-base-uncased-vocab.txt from cache at /home/hok/.cache/torch/transformers/26bc1ad6c0ac742e9b52263248f6d0f00068293b33709fae12320c0e35ccfbbb.542ce4285a40d23a559526243235df47c5f75c197f04f37d1a0c124c32c9a084\n"
     ]
    }
   ],
   "source": [
    "representation_model = RepresentationModel(\n",
    "    model_type='bert',\n",
    "    model_name='bert-base-uncased',\n",
    "    batch_size=5,\n",
    "    max_seq_length=48,\n",
    "    combination_method='cat',\n",
    "    last_hidden_to_use=4\n",
    ")"
   ]
  },
  {
   "cell_type": "code",
   "execution_count": 3,
   "metadata": {},
   "outputs": [],
   "source": [
    "sentences = [\n",
    "    'What the heck? Anyway, I do not care!', \n",
    "    'I am a British citizen.',\n",
    "    'He is the king of England.', \n",
    "    'He is the king of Python, a good machine learning engineer.',\n",
    "    'He is the king of Spain.'\n",
    "]\n",
    "sentences = [sentence.lower() for sentence in sentences]"
   ]
  },
  {
   "cell_type": "code",
   "execution_count": 4,
   "metadata": {},
   "outputs": [
    {
     "name": "stdout",
     "output_type": "stream",
     "text": [
      "Converting to features started.\n"
     ]
    },
    {
     "data": {
      "application/vnd.jupyter.widget-view+json": {
       "model_id": "9b46beade3c84ea08bda1475eb4c58f2",
       "version_major": 2,
       "version_minor": 0
      },
      "text/plain": [
       "HBox(children=(IntProgress(value=0, max=5), HTML(value='')))"
      ]
     },
     "metadata": {},
     "output_type": "display_data"
    },
    {
     "name": "stdout",
     "output_type": "stream",
     "text": [
      "\n"
     ]
    },
    {
     "data": {
      "application/vnd.jupyter.widget-view+json": {
       "model_id": "5b1b6555227d4f63883e8fefe123130a",
       "version_major": 2,
       "version_minor": 0
      },
      "text/plain": [
       "HBox(children=(IntProgress(value=0, max=1), HTML(value='')))"
      ]
     },
     "metadata": {},
     "output_type": "display_data"
    },
    {
     "name": "stdout",
     "output_type": "stream",
     "text": [
      "\n"
     ]
    }
   ],
   "source": [
    "all_sentences_representations, all_tokens_representations = representation_model(text_a=sentences)"
   ]
  },
  {
   "cell_type": "code",
   "execution_count": 5,
   "metadata": {},
   "outputs": [
    {
     "data": {
      "text/plain": [
       "array([[-0.8521158 , -0.3779043 , -0.92079264, ..., -0.68675303,\n",
       "        -0.6339193 ,  0.9125015 ],\n",
       "       [-0.8736346 , -0.4716613 , -0.86327106, ..., -0.69802564,\n",
       "        -0.66543335,  0.88959455],\n",
       "       [-0.87038183, -0.5004279 , -0.77345145, ..., -0.49250275,\n",
       "        -0.71960306,  0.85151964],\n",
       "       [-0.7944422 , -0.58105624, -0.9006255 , ..., -0.64079994,\n",
       "        -0.7001226 ,  0.781241  ],\n",
       "       [-0.9024865 , -0.5264503 , -0.84104204, ..., -0.6423552 ,\n",
       "        -0.73700047,  0.85960877]], dtype=float32)"
      ]
     },
     "execution_count": 5,
     "metadata": {},
     "output_type": "execute_result"
    }
   ],
   "source": [
    "all_sentences_representations"
   ]
  },
  {
   "cell_type": "code",
   "execution_count": 6,
   "metadata": {},
   "outputs": [
    {
     "data": {
      "text/plain": [
       "array([[[ 0.24550708,  0.20207022, -0.615036  , ..., -0.0323792 ,\n",
       "          0.3577894 ,  0.550167  ],\n",
       "        [ 0.381902  ,  1.4579368 ,  0.01995093, ...,  0.46406403,\n",
       "          0.75837046, -0.09713171],\n",
       "        [-0.10853177,  0.5075319 ,  0.11464608, ...,  0.24733742,\n",
       "          1.4089295 , -0.2651754 ],\n",
       "        ...,\n",
       "        [ 1.0337685 ,  1.2701299 ,  1.4596736 , ...,  0.45624638,\n",
       "          0.08538438,  0.30630097],\n",
       "        [-0.625774  ,  0.62008536, -0.14527622, ...,  0.58833843,\n",
       "          0.1694477 ,  0.18828699],\n",
       "        [-0.41849947,  1.0807803 ,  0.67688525, ...,  0.2719449 ,\n",
       "          0.22910678,  0.3421992 ]],\n",
       "\n",
       "       [[ 0.03494433, -0.22927988, -1.027218  , ..., -0.24553123,\n",
       "          0.41452816,  0.7172312 ],\n",
       "        [ 0.7127029 ,  0.44174722, -0.62983584, ..., -0.2645788 ,\n",
       "          0.81075966,  0.7868859 ],\n",
       "        [ 0.7622329 ,  0.00343795, -0.3987933 , ..., -0.7293487 ,\n",
       "          0.67936385,  0.8215848 ],\n",
       "        ...,\n",
       "        [ 0.6663198 ,  0.15924904,  1.0996404 , ..., -0.06516441,\n",
       "         -0.12053021,  0.20295954],\n",
       "        [-0.43764874, -0.25104895, -0.46178678, ...,  0.27944598,\n",
       "          0.5109943 , -0.04282201],\n",
       "        [-0.53897417, -0.10966735, -1.2114623 , ...,  0.25940183,\n",
       "          0.4029494 ,  0.03324921]],\n",
       "\n",
       "       [[-0.49704263, -0.24412924, -0.77460915, ..., -0.3985072 ,\n",
       "          0.43497127,  0.668086  ],\n",
       "        [-0.3256378 , -0.25751597,  0.14123476, ..., -0.6937553 ,\n",
       "          0.9880878 , -0.22960748],\n",
       "        [-0.2669654 , -0.25877228, -0.15899242, ..., -0.5829235 ,\n",
       "          0.49368688,  0.79597485],\n",
       "        ...,\n",
       "        [-0.6230289 , -0.5766111 ,  0.45292848, ...,  0.05886343,\n",
       "          0.55014974, -0.13004412],\n",
       "        [-0.49986622, -0.7089433 ,  0.3601334 , ...,  0.06898512,\n",
       "          0.47296053, -0.1918895 ],\n",
       "        [-0.9755838 , -0.6269322 , -0.40748608, ...,  0.11057019,\n",
       "          0.7059904 , -0.07647378]],\n",
       "\n",
       "       [[-0.5606753 , -0.6692675 , -0.6198254 , ..., -0.00756362,\n",
       "          0.7397591 ,  0.5000499 ],\n",
       "        [-0.7053637 , -0.6830462 , -0.07042132, ...,  0.29155117,\n",
       "          1.4000187 , -0.12730864],\n",
       "        [-0.9850762 , -0.63732684, -0.17130847, ...,  0.0668771 ,\n",
       "          0.8687224 ,  0.4947549 ],\n",
       "        ...,\n",
       "        [-0.15730226, -0.0874157 ,  0.47364533, ...,  0.60401106,\n",
       "          0.52089167, -0.09119125],\n",
       "        [ 0.15797636,  0.03804386,  0.64449   , ...,  0.56358516,\n",
       "          0.38541242, -0.14533569],\n",
       "        [ 0.88804585, -0.09834158,  0.913196  , ...,  0.5336163 ,\n",
       "          0.36694014, -0.07753323]],\n",
       "\n",
       "       [[-0.6417776 , -0.44003063, -0.69285536, ..., -0.56381434,\n",
       "          0.6494797 ,  0.5863001 ],\n",
       "        [-0.41109976, -0.17946209,  0.16744775, ..., -0.6130443 ,\n",
       "          1.1368715 , -0.39009452],\n",
       "        [-0.480552  , -0.26226318, -0.15813465, ..., -0.38985804,\n",
       "          0.6299805 ,  0.53876656],\n",
       "        ...,\n",
       "        [-0.6086245 , -0.4796374 ,  0.39219657, ..., -0.05803862,\n",
       "          0.5179425 , -0.29748347],\n",
       "        [-0.66194373, -0.61344814,  0.20554084, ..., -0.08188296,\n",
       "          0.48558885, -0.34235898],\n",
       "        [-1.1007044 , -0.6795376 , -0.376665  , ...,  0.04024461,\n",
       "          0.8063395 , -0.17182684]]], dtype=float32)"
      ]
     },
     "execution_count": 6,
     "metadata": {},
     "output_type": "execute_result"
    }
   ],
   "source": [
    "all_tokens_representations"
   ]
  },
  {
   "cell_type": "code",
   "execution_count": 7,
   "metadata": {},
   "outputs": [
    {
     "data": {
      "text/plain": [
       "(5, 768)"
      ]
     },
     "execution_count": 7,
     "metadata": {},
     "output_type": "execute_result"
    }
   ],
   "source": [
    "all_sentences_representations.shape"
   ]
  },
  {
   "cell_type": "code",
   "execution_count": 8,
   "metadata": {},
   "outputs": [
    {
     "data": {
      "text/plain": [
       "(5, 48, 3072)"
      ]
     },
     "execution_count": 8,
     "metadata": {},
     "output_type": "execute_result"
    }
   ],
   "source": [
    "all_tokens_representations.shape"
   ]
  },
  {
   "cell_type": "code",
   "execution_count": 9,
   "metadata": {},
   "outputs": [],
   "source": [
    "from scipy.spatial.distance import cosine"
   ]
  },
  {
   "cell_type": "code",
   "execution_count": 13,
   "metadata": {},
   "outputs": [
    {
     "data": {
      "text/plain": [
       "0.3443491458892822"
      ]
     },
     "execution_count": 13,
     "metadata": {},
     "output_type": "execute_result"
    }
   ],
   "source": [
    "cosine(all_tokens_representations[2][4], all_tokens_representations[3][4])"
   ]
  },
  {
   "cell_type": "code",
   "execution_count": 14,
   "metadata": {},
   "outputs": [
    {
     "data": {
      "text/plain": [
       "0.06491076946258545"
      ]
     },
     "execution_count": 14,
     "metadata": {},
     "output_type": "execute_result"
    }
   ],
   "source": [
    "cosine(all_tokens_representations[2][4], all_tokens_representations[4][4])"
   ]
  },
  {
   "cell_type": "code",
   "execution_count": 15,
   "metadata": {},
   "outputs": [
    {
     "data": {
      "text/plain": [
       "0.011234402656555176"
      ]
     },
     "execution_count": 15,
     "metadata": {},
     "output_type": "execute_result"
    }
   ],
   "source": [
    "cosine(all_sentences_representations[0], all_sentences_representations[1])"
   ]
  },
  {
   "cell_type": "code",
   "execution_count": 16,
   "metadata": {},
   "outputs": [],
   "source": [
    "import simplerepresentations"
   ]
  },
  {
   "cell_type": "code",
   "execution_count": 19,
   "metadata": {},
   "outputs": [],
   "source": [
    "examples = [simplerepresentations.input_example.InputExample(i, sentence, None) for i, sentence in enumerate(sentences)]"
   ]
  },
  {
   "cell_type": "code",
   "execution_count": 22,
   "metadata": {},
   "outputs": [
    {
     "name": "stdout",
     "output_type": "stream",
     "text": [
      "Converting to features started.\n"
     ]
    },
    {
     "data": {
      "application/vnd.jupyter.widget-view+json": {
       "model_id": "775dbaf9323f414190bcd703a55b9ffd",
       "version_major": 2,
       "version_minor": 0
      },
      "text/plain": [
       "HBox(children=(IntProgress(value=0, max=5), HTML(value='')))"
      ]
     },
     "metadata": {},
     "output_type": "display_data"
    }
   ],
   "source": [
    "dataset = simplerepresentations.utils.examples_to_dataset(\n",
    "    examples,\n",
    "    representation_model.tokenizer,\n",
    "    representation_model.max_seq_length,\n",
    "    representation_model.process_count,\n",
    "    representation_model.chunksize\n",
    ")"
   ]
  },
  {
   "cell_type": "code",
   "execution_count": 26,
   "metadata": {},
   "outputs": [],
   "source": [
    "from torch.utils.data import DataLoader"
   ]
  },
  {
   "cell_type": "code",
   "execution_count": 27,
   "metadata": {},
   "outputs": [],
   "source": [
    "dataset = DataLoader(dataset)"
   ]
  },
  {
   "cell_type": "code",
   "execution_count": 28,
   "metadata": {},
   "outputs": [
    {
     "name": "stdout",
     "output_type": "stream",
     "text": [
      "[tensor([[  101,  2054,  1996, 17752,  1029,  4312,  1010,  1045,  2079,  2025,\n",
      "          2729,   999,   102,     0,     0,     0,     0,     0,     0,     0,\n",
      "             0,     0,     0,     0,     0,     0,     0,     0,     0,     0,\n",
      "             0,     0,     0,     0,     0,     0,     0,     0,     0,     0,\n",
      "             0,     0,     0,     0,     0,     0,     0,     0]]), tensor([[1, 1, 1, 1, 1, 1, 1, 1, 1, 1, 1, 1, 1, 0, 0, 0, 0, 0, 0, 0, 0, 0, 0, 0,\n",
      "         0, 0, 0, 0, 0, 0, 0, 0, 0, 0, 0, 0, 0, 0, 0, 0, 0, 0, 0, 0, 0, 0, 0, 0]]), tensor([[0, 0, 0, 0, 0, 0, 0, 0, 0, 0, 0, 0, 0, 0, 0, 0, 0, 0, 0, 0, 0, 0, 0, 0,\n",
      "         0, 0, 0, 0, 0, 0, 0, 0, 0, 0, 0, 0, 0, 0, 0, 0, 0, 0, 0, 0, 0, 0, 0, 0]])]\n",
      "[tensor([[ 101, 1045, 2572, 1037, 2329, 6926, 1012,  102,    0,    0,    0,    0,\n",
      "            0,    0,    0,    0,    0,    0,    0,    0,    0,    0,    0,    0,\n",
      "            0,    0,    0,    0,    0,    0,    0,    0,    0,    0,    0,    0,\n",
      "            0,    0,    0,    0,    0,    0,    0,    0,    0,    0,    0,    0]]), tensor([[1, 1, 1, 1, 1, 1, 1, 1, 0, 0, 0, 0, 0, 0, 0, 0, 0, 0, 0, 0, 0, 0, 0, 0,\n",
      "         0, 0, 0, 0, 0, 0, 0, 0, 0, 0, 0, 0, 0, 0, 0, 0, 0, 0, 0, 0, 0, 0, 0, 0]]), tensor([[0, 0, 0, 0, 0, 0, 0, 0, 0, 0, 0, 0, 0, 0, 0, 0, 0, 0, 0, 0, 0, 0, 0, 0,\n",
      "         0, 0, 0, 0, 0, 0, 0, 0, 0, 0, 0, 0, 0, 0, 0, 0, 0, 0, 0, 0, 0, 0, 0, 0]])]\n",
      "[tensor([[ 101, 2002, 2003, 1996, 2332, 1997, 2563, 1012,  102,    0,    0,    0,\n",
      "            0,    0,    0,    0,    0,    0,    0,    0,    0,    0,    0,    0,\n",
      "            0,    0,    0,    0,    0,    0,    0,    0,    0,    0,    0,    0,\n",
      "            0,    0,    0,    0,    0,    0,    0,    0,    0,    0,    0,    0]]), tensor([[1, 1, 1, 1, 1, 1, 1, 1, 1, 0, 0, 0, 0, 0, 0, 0, 0, 0, 0, 0, 0, 0, 0, 0,\n",
      "         0, 0, 0, 0, 0, 0, 0, 0, 0, 0, 0, 0, 0, 0, 0, 0, 0, 0, 0, 0, 0, 0, 0, 0]]), tensor([[0, 0, 0, 0, 0, 0, 0, 0, 0, 0, 0, 0, 0, 0, 0, 0, 0, 0, 0, 0, 0, 0, 0, 0,\n",
      "         0, 0, 0, 0, 0, 0, 0, 0, 0, 0, 0, 0, 0, 0, 0, 0, 0, 0, 0, 0, 0, 0, 0, 0]])]\n",
      "[tensor([[  101,  2002,  2003,  1996,  2332,  1997, 18750,  1010,  1037,  2204,\n",
      "          3698,  4083,  3992,  1012,   102,     0,     0,     0,     0,     0,\n",
      "             0,     0,     0,     0,     0,     0,     0,     0,     0,     0,\n",
      "             0,     0,     0,     0,     0,     0,     0,     0,     0,     0,\n",
      "             0,     0,     0,     0,     0,     0,     0,     0]]), tensor([[1, 1, 1, 1, 1, 1, 1, 1, 1, 1, 1, 1, 1, 1, 1, 0, 0, 0, 0, 0, 0, 0, 0, 0,\n",
      "         0, 0, 0, 0, 0, 0, 0, 0, 0, 0, 0, 0, 0, 0, 0, 0, 0, 0, 0, 0, 0, 0, 0, 0]]), tensor([[0, 0, 0, 0, 0, 0, 0, 0, 0, 0, 0, 0, 0, 0, 0, 0, 0, 0, 0, 0, 0, 0, 0, 0,\n",
      "         0, 0, 0, 0, 0, 0, 0, 0, 0, 0, 0, 0, 0, 0, 0, 0, 0, 0, 0, 0, 0, 0, 0, 0]])]\n",
      "[tensor([[ 101, 2002, 2003, 1996, 2332, 1997, 3577, 1012,  102,    0,    0,    0,\n",
      "            0,    0,    0,    0,    0,    0,    0,    0,    0,    0,    0,    0,\n",
      "            0,    0,    0,    0,    0,    0,    0,    0,    0,    0,    0,    0,\n",
      "            0,    0,    0,    0,    0,    0,    0,    0,    0,    0,    0,    0]]), tensor([[1, 1, 1, 1, 1, 1, 1, 1, 1, 0, 0, 0, 0, 0, 0, 0, 0, 0, 0, 0, 0, 0, 0, 0,\n",
      "         0, 0, 0, 0, 0, 0, 0, 0, 0, 0, 0, 0, 0, 0, 0, 0, 0, 0, 0, 0, 0, 0, 0, 0]]), tensor([[0, 0, 0, 0, 0, 0, 0, 0, 0, 0, 0, 0, 0, 0, 0, 0, 0, 0, 0, 0, 0, 0, 0, 0,\n",
      "         0, 0, 0, 0, 0, 0, 0, 0, 0, 0, 0, 0, 0, 0, 0, 0, 0, 0, 0, 0, 0, 0, 0, 0]])]\n"
     ]
    }
   ],
   "source": [
    "for data in dataset:\n",
    "    print(data)"
   ]
  },
  {
   "cell_type": "code",
   "execution_count": null,
   "metadata": {},
   "outputs": [],
   "source": []
  }
 ],
 "metadata": {
  "kernelspec": {
   "display_name": "Python 3",
   "language": "python",
   "name": "python3"
  },
  "language_info": {
   "codemirror_mode": {
    "name": "ipython",
    "version": 3
   },
   "file_extension": ".py",
   "mimetype": "text/x-python",
   "name": "python",
   "nbconvert_exporter": "python",
   "pygments_lexer": "ipython3",
   "version": "3.8.3"
  }
 },
 "nbformat": 4,
 "nbformat_minor": 4
}
