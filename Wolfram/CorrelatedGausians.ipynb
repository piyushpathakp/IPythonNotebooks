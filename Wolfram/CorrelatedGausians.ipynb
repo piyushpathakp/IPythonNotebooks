{
 "cells": [
  {
   "cell_type": "code",
   "execution_count": 7,
   "metadata": {},
   "outputs": [],
   "source": [
    "f[x1_,x2_]:=Exp[-(x1/2+x2/2)^2/2] Exp[-(x1-x2)^2]"
   ]
  },
  {
   "cell_type": "code",
   "execution_count": 8,
   "metadata": {},
   "outputs": [
    {
     "data": {
      "text/html": [
       "<div><img alt=\"Output\" src=\"data:image/png;base64,iVBORw0KGgoAAAANSUhEUgAAACMAAAATCAIAAACVwSOjAAAAhXpUWHRSYXcgcHJvZmlsZSB0eXBlIGV4aWYAAHjaVYvBDcMwDAP/mqIjyLJM2uMYiQNkg45fuu0n9yApgbT1vi97felp2dgxABc5csRU6P6juNciDXn+X9MfZGWgoRhTluEkhnJXkqKFN+LCAahYcIbnIV8gNQN3o86928QyPusLVffpbh/5eCey76LuBgAAAAlwSFlzAAALEwAACxMBAJqcGAAAADx0RVh0U29mdHdhcmUAQ3JlYXRlZCB3aXRoIHRoZSBXb2xmcmFtIExhbmd1YWdlIDogd3d3LndvbGZyYW0uY29tXKKmhQAAACF0RVh0Q3JlYXRpb24gVGltZQAyMDIwOjAyOjEyIDAwOjA5OjEx0yzebgAAAftJREFUOI3VlUGoMVEUx3lZ2RBlpSgLG8mGBRtZSylFKQtkNQuysLUdZUOxIYlsJDs7lkrJwoQUK02EmRgx0ZjzFvM1PD3je6/3vfr+q3Pvuff8zjn3dq8YAES/IomAr1gs4jj+MoROp/P7/d8n0TS9WCySyeTLEH+pt2eOTqfjcDh+CiNE6na7Vqv1N0gMw0gkt972+323263RaCwWS6PR+DHScDg0Go388HA4+Hw+u93ebDadTqfX6x2Px19GAQDLsqPRCO6EoihBEPcz1+uVt9Vqdblchi9KMhgMarXacrnM5XIymYzDEwShUCg+1P72p3qKotbrtV6vF8geQZDNZrPf77Va7Xw+V6lUZrNZxDAMAMxmMxRFOfh2u02lUs9Si0QiNpuNZVnhCiqVSr1eB4BgMEiSJACIeF80Gj2dTtwiDMM+3Z/P5+Vy+WQyedmrUCi0Wq0AwOPxcDM3EoZh2WwWABKJxKebq9WqVCptt9svMcfj0e12c7bP5+OM290zGAzT6ZSm6fvLzatQKITD4VKpZDKZSJLc7XYC5xSLxRAE4ezz+Qzc03qfS6/XCwQCrVbrIUccx8Vi8X0snU73rKB4PJ5Op/lhJpPhLqroYZ3L5aJp+mV/BMQdD6/L5UJRFACI4eOvQRCEUqkU6My39Uj6d3r67v3HpHeRc5mm1gfyoQAAAABJRU5ErkJggg==\"></div>"
      ]
     },
     "execution_count": 8,
     "metadata": {
      "text/html": []
     },
     "output_type": "execute_result"
    }
   ],
   "source": [
    "Integrate[f[x1,x2], {x1,-Infinity,+Infinity}, {x2,-Infinity,+Infinity}]"
   ]
  },
  {
   "cell_type": "code",
   "execution_count": 5,
   "metadata": {},
   "outputs": [],
   "source": [
    "f[x1_,x2_]:=Exp[-x1^2/2] Exp[-x2^2]"
   ]
  },
  {
   "cell_type": "code",
   "execution_count": 6,
   "metadata": {},
   "outputs": [
    {
     "data": {
      "text/html": [
       "<div><img alt=\"Output\" src=\"data:image/png;base64,iVBORw0KGgoAAAANSUhEUgAAACMAAAATCAIAAACVwSOjAAAAhXpUWHRSYXcgcHJvZmlsZSB0eXBlIGV4aWYAAHjaVYvBDcMwDAP/mqIjyLJM2uMYiQNkg45fuu0n9yApgbT1vi97felp2dgxABc5csRU6P6juNciDXn+X9MfZGWgoRhTluEkhnJXkqKFN+LCAahYcIbnIV8gNQN3o86928QyPusLVffpbh/5eCey76LuBgAAAAlwSFlzAAALEwAACxMBAJqcGAAAADx0RVh0U29mdHdhcmUAQ3JlYXRlZCB3aXRoIHRoZSBXb2xmcmFtIExhbmd1YWdlIDogd3d3LndvbGZyYW0uY29tXKKmhQAAACF0RVh0Q3JlYXRpb24gVGltZQAyMDIwOjAyOjEyIDAwOjA5OjAwvTDfuQAAAftJREFUOI3VlUGoMVEUx3lZ2RBlpSgLG8mGBRtZSylFKQtkNQuysLUdZUOxIYlsJDs7lkrJwoQUK02EmRgx0ZjzFvM1PD3je6/3vfr+q3Pvuff8zjn3dq8YAES/IomAr1gs4jj+MoROp/P7/d8n0TS9WCySyeTLEH+pt2eOTqfjcDh+CiNE6na7Vqv1N0gMw0gkt972+323263RaCwWS6PR+DHScDg0Go388HA4+Hw+u93ebDadTqfX6x2Px19GAQDLsqPRCO6EoihBEPcz1+uVt9Vqdblchi9KMhgMarXacrnM5XIymYzDEwShUCg+1P72p3qKotbrtV6vF8geQZDNZrPf77Va7Xw+V6lUZrNZxDAMAMxmMxRFOfh2u02lUs9Si0QiNpuNZVnhCiqVSr1eB4BgMEiSJACIeF80Gj2dTtwiDMM+3Z/P5+Vy+WQyedmrUCi0Wq0AwOPxcDM3EoZh2WwWABKJxKebq9WqVCptt9svMcfj0e12c7bP5+OM290zGAzT6ZSm6fvLzatQKITD4VKpZDKZSJLc7XYC5xSLxRAE4ezz+Qzc03qfS6/XCwQCrVbrIUccx8Vi8X0snU73rKB4PJ5Op/lhJpPhLqroYZ3L5aJp+mV/BMQdD6/L5UJRFACI4eOvQRCEUqkU6My39Uj6d3r67v3HpHeRc5mm1gfyoQAAAABJRU5ErkJggg==\"></div>"
      ]
     },
     "execution_count": 6,
     "metadata": {
      "text/html": []
     },
     "output_type": "execute_result"
    }
   ],
   "source": [
    "Integrate[f[x1,x2], {x1,-Infinity,+Infinity}, {x2,-Infinity,+Infinity}]"
   ]
  },
  {
   "cell_type": "code",
   "execution_count": null,
   "metadata": {},
   "outputs": [],
   "source": []
  }
 ],
 "metadata": {
  "kernelspec": {
   "display_name": "Wolfram Language 12",
   "language": "Wolfram Language",
   "name": "wolframlanguage12"
  },
  "language_info": {
   "name": ""
  }
 },
 "nbformat": 4,
 "nbformat_minor": 4
}
