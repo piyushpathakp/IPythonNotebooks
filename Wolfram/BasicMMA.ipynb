{
 "cells": [
  {
   "cell_type": "code",
   "execution_count": 2,
   "metadata": {
    "collapsed": false,
    "jupyter": {
     "outputs_hidden": false
    }
   },
   "outputs": [
    {
     "data": {
      "text/html": [
       "<div><img alt=\"Output\" src=\"data:image/png;base64,iVBORw0KGgoAAAANSUhEUgAAABQAAAAlCAIAAADNzV5SAAAAhXpUWHRSYXcgcHJvZmlsZSB0eXBlIGV4aWYAAHjaVYvBDcMwDAP/mqIjyLJM2uMYiQNkg45fuu0n9yApgbT1vi97felp2dgxABc5csRU6P6juNciDXn+X9MfZGWgoRhTluEkhnJXkqKFN+LCAahYcIbnIV8gNQN3o86928QyPusLVffpbh/5eCey76LuBgAAAAlwSFlzAAALEwAACxMBAJqcGAAAADx0RVh0U29mdHdhcmUAQ3JlYXRlZCB3aXRoIHRoZSBXb2xmcmFtIExhbmd1YWdlIDogd3d3LndvbGZyYW0uY29tXKKmhQAAACF0RVh0Q3JlYXRpb24gVGltZQAyMDE5OjEyOjA5IDIwOjI4OjA0EIS4wwAAAeVJREFUSIntkz2r4kAUhnONWKhBQdAmIDaxkIBVCk0qLWz8qPwJNkEFG1sbQVDQ0jSCnWhlCisFwQh2ksYqiIqFBjVYWahztpBld+/1KwtbLNy3GWbe8zBzzpnzAQDY38rwTpCmaZfL5Y4BT7VarYLBYCwWoyhqMBh8cl/ACKHdbgcAzWYzm83qgwFAVdV8Ps9x3Gw2+2S9ztlsNnMcR5Jkt9u9nzNCKBKJlEql25bn+UwmAwDb7VbTNABQFIVhmIfP7vf7JpNpOp32ej2CIBaLBQBIksQwTCKRoGm63W4/yzmdTvv9fo/HIwjC7+eHw+F8Pn8txx+wqqo4jlMU9aR+D+FUKsUwjNVq7XQ6+mBRFC0Wi6IogiDY7fblcvkuvN/vnU5nvV6/bZPJJMuyL+EP+NeD8Q3/kvG2SJI0Go3eZDiOY1kWw7DvVv3UZDKJx+Nut5um6XK5/JD++t0RQtFotFqtyrLcaDQMBkOr1Xoxko/k8/lqtZo++Hg8jsdjnuddLtdms9EH1+t1o9GIYVilUkEI6YMB4Hq9DodDkiSLxaJu+KZCoRAIBO5ad1o1n8/D4bAsywCgqqooil6v991WnU6nXC7ncDgIgsBxPBQKqap69+Zng7FerwmCsNlsjwL+06n6AYfwq1AwuxXrAAAAAElFTkSuQmCC\"></div>"
      ]
     },
     "execution_count": 2,
     "metadata": {
      "text/html": []
     },
     "output_type": "execute_result"
    }
   ],
   "source": [
    "Integrate[x^2, x]"
   ]
  },
  {
   "cell_type": "code",
   "execution_count": 3,
   "metadata": {},
   "outputs": [
    {
     "data": {
      "text/html": [
       "<div><img alt=\"Output\" src=\"data:image/png;base64,iVBORw0KGgoAAAANSUhEUgAAAFgAAAARCAIAAADWoPzHAAAAhXpUWHRSYXcgcHJvZmlsZSB0eXBlIGV4aWYAAHjaVYvBDcMwDAP/mqIjyLJM2uMYiQNkg45fuu0n9yApgbT1vi97felp2dgxABc5csRU6P6juNciDXn+X9MfZGWgoRhTluEkhnJXkqKFN+LCAahYcIbnIV8gNQN3o86928QyPusLVffpbh/5eCey76LuBgAAAAlwSFlzAAALEwAACxMBAJqcGAAAADx0RVh0U29mdHdhcmUAQ3JlYXRlZCB3aXRoIHRoZSBXb2xmcmFtIExhbmd1YWdlIDogd3d3LndvbGZyYW0uY29tXKKmhQAAACF0RVh0Q3JlYXRpb24gVGltZQAyMDE5OjEyOjA5IDIwOjI4OjA0EIS4wwAAAvhJREFUWIXll81LKlEYxscZGMIPtE0LHVARXFiLIBwXmbvAVRCCgn9Am9JFf0EtgqCNkFgmLSRCXAgSIgQxi9pI5AeUWSpiWC3MIRPdWHruYsAb45xxlKu3y/2t5sx5fZ7nPRzPzIgAAAicer0ul8tFIhFPzT8KqzUUVpfP5y0Wi9PpNBgMDw8Pk4o3CThbE8F2RLPZrNfrBEH4fL5qtbq1tTW5pGOGszXojpBKpQRBIAhyd3c3Nzc3sZQTgLM16EIwhMPh5+dnm802gt/Nzc3q6qparSZJMhKJjKAwVtitATgnJyfLy8utVounBkaj0dDpdB6PJ5lMbm9vYxiWzWZH0BkT/a0h3W7XarXu7u4y4/X1dbfbDQA4Pz9HEMRkMpnNZofDMYJZp9PpXRMEEQwGv8/CfHtQFEWSZLvdZoa1Wm12drZSqQgPAFPgbA0BAFxcXOA4nk6n4/G4TCYrl8tDmQ2s//j4wHE8kUiw7vP7ttttpVIZCoWYodfrNZlMQ2UQrgCYhQAAuFyu+fl5rVbr9/v5u2Kxv79/fX3NX7O2tra4uNjtdvun+H13dnaWlpaYa5Ikj46Ohs0gUAH0FqJarWIYptfr4e2wSaVSFEVtbGz4fD6KogqFAmfZwcGBQqHI5XKcs/y+tVpNLBbf3t7mcjmJRNJoNIbNMFChB8Y8RTc3N1EULZVKer3eYDAIOXUzmczr62s2m8VxHEVRqVSqUqlYNaenpy6XKxqNGo1GThF+X7FYXKlUUqlUsVgkCMJutw+bYaDCbwAAZ2dnEomkWCz6/X6FQvH09ARbtn54tmUgEJiamgqHwzRN0zT9/v7OKhDie39/Pz09rdForq6uRsggUAEAgNA0PTMzc3h4yIztdrvZbOb5AYtoNPr4+Nh//+XlhfWFotPpvhcI97Varfz/WVgG4Qqgd0b8WL6+vhYWFvb29sat8HMX4vPz8/j4eGVlRaPR8Bxyf0phwCv2X+Tt7S0Wi6nV6svLS5lMNm4F6Nfn/8Yv38SuheMxVgwAAAAASUVORK5CYII=\"></div>"
      ]
     },
     "execution_count": 3,
     "metadata": {
      "text/html": []
     },
     "output_type": "execute_result"
    }
   ],
   "source": [
    "Expand[(x+y)^2]"
   ]
  },
  {
   "cell_type": "code",
   "execution_count": 1,
   "metadata": {},
   "outputs": [
    {
     "data": {
      "text/html": [
       "<div><img alt=\"Output\" src=\"data:image/png;base64,iVBORw0KGgoAAAANSUhEUgAAACkAAAARCAIAAADPKxJhAAAAhXpUWHRSYXcgcHJvZmlsZSB0eXBlIGV4aWYAAHjaVYvBDcMwDAP/mqIjyLJM2uMYiQNkg45fuu0n9yApgbT1vi97felp2dgxABc5csRU6P6juNciDXn+X9MfZGWgoRhTluEkhnJXkqKFN+LCAahYcIbnIV8gNQN3o86928QyPusLVffpbh/5eCey76LuBgAAAAlwSFlzAAALEwAACxMBAJqcGAAAADx0RVh0U29mdHdhcmUAQ3JlYXRlZCB3aXRoIHRoZSBXb2xmcmFtIExhbmd1YWdlIDogd3d3LndvbGZyYW0uY29tXKKmhQAAACF0RVh0Q3JlYXRpb24gVGltZQAyMDE5OjEyOjA5IDIwOjI3OjU22549/AAAAc1JREFUSIntVSGo8lAUfvv3MwQVlgRBWbgGi0kdgjaL1aJVi4KCRWwabAsKgmViMhgUB2owiVURZWlhaFBBsVznRNyK3j/s8RCVx94rL7z/pHO+853zHe65l4shhN5+yP78lPAv175cLr1eLxaLpVKp73WZzWbhcJiiKJqmOY7TW4YQWiwW0WjU5XL5/X70dTudTgCASqUyn8+LxSKO44Ig6Cl8+/DK5fL3tBFC1+v1w7fZbI1G4z57u91CoRDDMFqYTqczmczXtEej0Wq1+nwIWZYJgphMJg/4cDgkCILn+cFgYDabtT5/9S9VEASTyURR1CecXC7n9Xppmn7Ag8FgMpmMx+OyLJdKJa2JLm2e54/HoyiKOI6fz2e73e5wOJ5pLMu22+3xeIxh2HO2UChYrVYAQCKR0BBdb2y/3282G0mSNOdwODxzms1mNpvlOM7pdL5sks/n3W73brfrdDrvEEJIVVVFURiG8fl8iqKoqvpyl9VqdTqdvkzV63WDwdBqtSCEEEJJkh4I/X7faDQul8tarUaS5Hq9fr9rHo/nfkCSJF8KdLtdURSf8e12+3DIAIB7AoTQYrGwLKuFkUgkEAgghDD0/y/5Tdr/AG5MRw7YQx/5AAAAAElFTkSuQmCC\"></div>"
      ]
     },
     "execution_count": 1,
     "metadata": {
      "text/html": []
     },
     "output_type": "execute_result"
    }
   ],
   "source": [
    "D[x^2+x,x]"
   ]
  },
  {
   "cell_type": "code",
   "execution_count": null,
   "metadata": {},
   "outputs": [],
   "source": []
  }
 ],
 "metadata": {
  "kernelspec": {
   "display_name": "Wolfram Language 12",
   "language": "Wolfram Language",
   "name": "wolframlanguage12"
  },
  "language_info": {
   "codemirror_mode": "mathematica",
   "file_extension": ".m",
   "mimetype": "application/vnd.wolfram.m",
   "name": "Wolfram Language",
   "pygments_lexer": "mathematica",
   "version": "12.0"
  }
 },
 "nbformat": 4,
 "nbformat_minor": 4
}
