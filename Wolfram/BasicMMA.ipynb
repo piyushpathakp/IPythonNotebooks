{
 "cells": [
  {
   "cell_type": "code",
   "execution_count": 1,
   "metadata": {
    "collapsed": false,
    "jupyter": {
     "outputs_hidden": false
    }
   },
   "outputs": [
    {
     "data": {
      "text/html": [
       "<div><img alt=\"Output\" src=\"data:image/png;base64,iVBORw0KGgoAAAANSUhEUgAAABQAAAAlCAIAAADNzV5SAAAAhXpUWHRSYXcgcHJvZmlsZSB0eXBlIGV4aWYAAHjaVYvBDcMwDAP/mqIjyLJM2uMYiQNkg45fuu0n9yApgbT1vi97felp2dgxABc5csRU6P6juNciDXn+X9MfZGWgoRhTluEkhnJXkqKFN+LCAahYcIbnIV8gNQN3o86928QyPusLVffpbh/5eCey76LuBgAAAAlwSFlzAAALEwAACxMBAJqcGAAAADx0RVh0U29mdHdhcmUAQ3JlYXRlZCB3aXRoIHRoZSBXb2xmcmFtIExhbmd1YWdlIDogd3d3LndvbGZyYW0uY29tXKKmhQAAACF0RVh0Q3JlYXRpb24gVGltZQAyMDE5OjEyOjIyIDE4OjU2OjE4TzplOAAAAeVJREFUSIntkz2r4kAUhnONWKhBQdAmIDaxkIBVCk0qLWz8qPwJNkEFG1sbQVDQ0jSCnWhlCisFwQh2ksYqiIqFBjVYWahztpBld+/1KwtbLNy3GWbe8zBzzpnzAQDY38rwTpCmaZfL5Y4BT7VarYLBYCwWoyhqMBh8cl/ACKHdbgcAzWYzm83qgwFAVdV8Ps9x3Gw2+2S9ztlsNnMcR5Jkt9u9nzNCKBKJlEql25bn+UwmAwDb7VbTNABQFIVhmIfP7vf7JpNpOp32ej2CIBaLBQBIksQwTCKRoGm63W4/yzmdTvv9fo/HIwjC7+eHw+F8Pn8txx+wqqo4jlMU9aR+D+FUKsUwjNVq7XQ6+mBRFC0Wi6IogiDY7fblcvkuvN/vnU5nvV6/bZPJJMuyL+EP+NeD8Q3/kvG2SJI0Go3eZDiOY1kWw7DvVv3UZDKJx+Nut5um6XK5/JD++t0RQtFotFqtyrLcaDQMBkOr1Xoxko/k8/lqtZo++Hg8jsdjnuddLtdms9EH1+t1o9GIYVilUkEI6YMB4Hq9DodDkiSLxaJu+KZCoRAIBO5ad1o1n8/D4bAsywCgqqooil6v991WnU6nXC7ncDgIgsBxPBQKqap69+Zng7FerwmCsNlsjwL+06n6AYfwq1AwuxXrAAAAAElFTkSuQmCC\"></div>"
      ]
     },
     "execution_count": 1,
     "metadata": {
      "text/html": []
     },
     "output_type": "execute_result"
    }
   ],
   "source": [
    "Integrate[x^2, x]"
   ]
  },
  {
   "cell_type": "code",
   "execution_count": 2,
   "metadata": {},
   "outputs": [
    {
     "data": {
      "text/html": [
       "<div><img alt=\"Output\" src=\"data:image/png;base64,iVBORw0KGgoAAAANSUhEUgAAAFgAAAARCAIAAADWoPzHAAAAhXpUWHRSYXcgcHJvZmlsZSB0eXBlIGV4aWYAAHjaVYvBDcMwDAP/mqIjyLJM2uMYiQNkg45fuu0n9yApgbT1vi97felp2dgxABc5csRU6P6juNciDXn+X9MfZGWgoRhTluEkhnJXkqKFN+LCAahYcIbnIV8gNQN3o86928QyPusLVffpbh/5eCey76LuBgAAAAlwSFlzAAALEwAACxMBAJqcGAAAADx0RVh0U29mdHdhcmUAQ3JlYXRlZCB3aXRoIHRoZSBXb2xmcmFtIExhbmd1YWdlIDogd3d3LndvbGZyYW0uY29tXKKmhQAAACF0RVh0Q3JlYXRpb24gVGltZQAyMDE5OjEyOjIyIDE4OjU2OjE5OD1VrgAAAvhJREFUWIXll81LKlEYxscZGMIPtE0LHVARXFiLIBwXmbvAVRCCgn9Am9JFf0EtgqCNkFgmLSRCXAgSIgQxi9pI5AeUWSpiWC3MIRPdWHruYsAb45xxlKu3y/2t5sx5fZ7nPRzPzIgAAAicer0ul8tFIhFPzT8KqzUUVpfP5y0Wi9PpNBgMDw8Pk4o3CThbE8F2RLPZrNfrBEH4fL5qtbq1tTW5pGOGszXojpBKpQRBIAhyd3c3Nzc3sZQTgLM16EIwhMPh5+dnm802gt/Nzc3q6qparSZJMhKJjKAwVtitATgnJyfLy8utVounBkaj0dDpdB6PJ5lMbm9vYxiWzWZH0BkT/a0h3W7XarXu7u4y4/X1dbfbDQA4Pz9HEMRkMpnNZofDMYJZp9PpXRMEEQwGv8/CfHtQFEWSZLvdZoa1Wm12drZSqQgPAFPgbA0BAFxcXOA4nk6n4/G4TCYrl8tDmQ2s//j4wHE8kUiw7vP7ttttpVIZCoWYodfrNZlMQ2UQrgCYhQAAuFyu+fl5rVbr9/v5u2Kxv79/fX3NX7O2tra4uNjtdvun+H13dnaWlpaYa5Ikj46Ohs0gUAH0FqJarWIYptfr4e2wSaVSFEVtbGz4fD6KogqFAmfZwcGBQqHI5XKcs/y+tVpNLBbf3t7mcjmJRNJoNIbNMFChB8Y8RTc3N1EULZVKer3eYDAIOXUzmczr62s2m8VxHEVRqVSqUqlYNaenpy6XKxqNGo1GThF+X7FYXKlUUqlUsVgkCMJutw+bYaDCbwAAZ2dnEomkWCz6/X6FQvH09ARbtn54tmUgEJiamgqHwzRN0zT9/v7OKhDie39/Pz09rdForq6uRsggUAEAgNA0PTMzc3h4yIztdrvZbOb5AYtoNPr4+Nh//+XlhfWFotPpvhcI97Varfz/WVgG4Qqgd0b8WL6+vhYWFvb29sat8HMX4vPz8/j4eGVlRaPR8Bxyf0phwCv2X+Tt7S0Wi6nV6svLS5lMNm4F6Nfn/8Yv38SuheMxVgwAAAAASUVORK5CYII=\"></div>"
      ]
     },
     "execution_count": 2,
     "metadata": {
      "text/html": []
     },
     "output_type": "execute_result"
    }
   ],
   "source": [
    "Expand[(x+y)^2]"
   ]
  },
  {
   "cell_type": "code",
   "execution_count": 3,
   "metadata": {},
   "outputs": [
    {
     "data": {
      "text/html": [
       "<div><img alt=\"Output\" src=\"data:image/png;base64,iVBORw0KGgoAAAANSUhEUgAAACkAAAARCAIAAADPKxJhAAAAhXpUWHRSYXcgcHJvZmlsZSB0eXBlIGV4aWYAAHjaVYvBDcMwDAP/mqIjyLJM2uMYiQNkg45fuu0n9yApgbT1vi97felp2dgxABc5csRU6P6juNciDXn+X9MfZGWgoRhTluEkhnJXkqKFN+LCAahYcIbnIV8gNQN3o86928QyPusLVffpbh/5eCey76LuBgAAAAlwSFlzAAALEwAACxMBAJqcGAAAADx0RVh0U29mdHdhcmUAQ3JlYXRlZCB3aXRoIHRoZSBXb2xmcmFtIExhbmd1YWdlIDogd3d3LndvbGZyYW0uY29tXKKmhQAAACF0RVh0Q3JlYXRpb24gVGltZQAyMDE5OjEyOjIyIDE4OjU2OjE5OD1VrgAAAc1JREFUSIntVSGo8lAUfvv3MwQVlgRBWbgGi0kdgjaL1aJVi4KCRWwabAsKgmViMhgUB2owiVURZWlhaFBBsVznRNyK3j/s8RCVx94rL7z/pHO+853zHe65l4shhN5+yP78lPAv175cLr1eLxaLpVKp73WZzWbhcJiiKJqmOY7TW4YQWiwW0WjU5XL5/X70dTudTgCASqUyn8+LxSKO44Ig6Cl8+/DK5fL3tBFC1+v1w7fZbI1G4z57u91CoRDDMFqYTqczmczXtEej0Wq1+nwIWZYJgphMJg/4cDgkCILn+cFgYDabtT5/9S9VEASTyURR1CecXC7n9Xppmn7Ag8FgMpmMx+OyLJdKJa2JLm2e54/HoyiKOI6fz2e73e5wOJ5pLMu22+3xeIxh2HO2UChYrVYAQCKR0BBdb2y/3282G0mSNOdwODxzms1mNpvlOM7pdL5sks/n3W73brfrdDrvEEJIVVVFURiG8fl8iqKoqvpyl9VqdTqdvkzV63WDwdBqtSCEEEJJkh4I/X7faDQul8tarUaS5Hq9fr9rHo/nfkCSJF8KdLtdURSf8e12+3DIAIB7AoTQYrGwLKuFkUgkEAgghDD0/y/5Tdr/AG5MRw7YQx/5AAAAAElFTkSuQmCC\"></div>"
      ]
     },
     "execution_count": 3,
     "metadata": {
      "text/html": []
     },
     "output_type": "execute_result"
    }
   ],
   "source": [
    "D[x^2+x,x]"
   ]
  },
  {
   "cell_type": "code",
   "execution_count": 6,
   "metadata": {},
   "outputs": [
    {
     "data": {
      "text/html": [
       "<div><img alt=\"Output\" src=\"data:image/png;base64,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\"></div>"
      ]
     },
     "execution_count": 6,
     "metadata": {
      "text/html": []
     },
     "output_type": "execute_result"
    }
   ],
   "source": [
    "DSolve[y'[x]+2y[x]==0, y[x], x]"
   ]
  },
  {
   "cell_type": "code",
   "execution_count": null,
   "metadata": {},
   "outputs": [],
   "source": []
  }
 ],
 "metadata": {
  "kernelspec": {
   "display_name": "Wolfram Language 12",
   "language": "Wolfram Language",
   "name": "wolframlanguage12"
  },
  "language_info": {
   "codemirror_mode": "mathematica",
   "file_extension": ".m",
   "mimetype": "application/vnd.wolfram.m",
   "name": "Wolfram Language",
   "pygments_lexer": "mathematica",
   "version": "12.0"
  }
 },
 "nbformat": 4,
 "nbformat_minor": 4
}
