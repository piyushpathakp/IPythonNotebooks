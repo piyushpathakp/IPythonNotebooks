{
 "cells": [
  {
   "cell_type": "code",
   "execution_count": 1,
   "metadata": {},
   "outputs": [],
   "source": [
    "import matplotlib.pyplot as plt\n",
    "import tensorflow.compat.v1 as tf\n",
    "import numpy as np\n",
    "%matplotlib inline"
   ]
  },
  {
   "cell_type": "code",
   "execution_count": 2,
   "metadata": {},
   "outputs": [],
   "source": [
    "tf.disable_eager_execution()"
   ]
  },
  {
   "cell_type": "code",
   "execution_count": 3,
   "metadata": {},
   "outputs": [],
   "source": [
    "sess = tf.Session()\n",
    "saver = tf.train.import_meta_graph('linear_regression_models/lr.meta')\n",
    "saver.restore(sess, tf.train.latest_checkpoint('linear_regression_models/'))"
   ]
  },
  {
   "cell_type": "code",
   "execution_count": 4,
   "metadata": {},
   "outputs": [],
   "source": [
    "graph = tf.get_default_graph()"
   ]
  },
  {
   "cell_type": "code",
   "execution_count": 5,
   "metadata": {},
   "outputs": [],
   "source": [
    "x = graph.get_tensor_by_name('X:0')\n",
    "y = graph.get_tensor_by_name('Y:0')"
   ]
  },
  {
   "cell_type": "code",
   "execution_count": 6,
   "metadata": {},
   "outputs": [],
   "source": [
    "W = graph.get_tensor_by_name('weight:0')"
   ]
  },
  {
   "cell_type": "code",
   "execution_count": 7,
   "metadata": {},
   "outputs": [],
   "source": [
    "yp = graph.get_tensor_by_name('yp:0')"
   ]
  },
  {
   "cell_type": "code",
   "execution_count": 8,
   "metadata": {},
   "outputs": [
    {
     "data": {
      "text/plain": [
       "array([( 10,), ( 44,), ( 47,), (106,), (111,), ( 98,), ( 58,), (108,),\n",
       "       (111,), ( 99,), ( 97,), (108,), (104,), (111,), (115,), (116,),\n",
       "       ( 47,), (114,), (101,), (112,), (108,), (105,), ( 99,), ( 97,),\n",
       "       ( 58,), ( 48,), ( 47,), (116,), ( 97,), (115,), (107,), ( 58,),\n",
       "       ( 48,), ( 47,), (100,), (101,), (118,), (105,), ( 99,), (101,),\n",
       "       ( 58,), ( 67,), ( 80,), ( 85,), ( 58,), ( 48,), ( 18,), (  9,),\n",
       "       (108,), (111,), ( 99,), ( 97,), (108,), (104,), (111,), (115,),\n",
       "       (116,), ( 26,), (  6,), (119,), (101,), (105,), (103,), (104,),\n",
       "       (116,), ( 32,), (192,), (163,), (150,), (174,), ( 17,), ( 42,),\n",
       "       ( 18,), ( 78,), ( 49,), ( 48,), (116,), (101,), (110,), (115,),\n",
       "       (111,), (114,), (102,), (108,), (111,), (119,), ( 51,), ( 86,),\n",
       "       ( 97,), (114,), ( 69,), ( 50,), (  4,), (  8,), (  1,), ( 18,),\n",
       "       (  0,)], dtype=[('resource', 'u1')])"
      ]
     },
     "execution_count": 8,
     "metadata": {},
     "output_type": "execute_result"
    }
   ],
   "source": [
    "sess.run(W)"
   ]
  },
  {
   "cell_type": "code",
   "execution_count": 9,
   "metadata": {},
   "outputs": [
    {
     "data": {
      "text/plain": [
       "0.19901854"
      ]
     },
     "execution_count": 9,
     "metadata": {},
     "output_type": "execute_result"
    }
   ],
   "source": [
    "sess.run(yp, feed_dict={x: 0})"
   ]
  },
  {
   "cell_type": "code",
   "execution_count": 10,
   "metadata": {},
   "outputs": [
    {
     "data": {
      "text/plain": [
       "1.0323622"
      ]
     },
     "execution_count": 10,
     "metadata": {},
     "output_type": "execute_result"
    }
   ],
   "source": [
    "sess.run(yp, feed_dict={x: 2.5})"
   ]
  },
  {
   "cell_type": "code",
   "execution_count": 11,
   "metadata": {},
   "outputs": [
    {
     "data": {
      "text/plain": [
       "0.63235724"
      ]
     },
     "execution_count": 11,
     "metadata": {},
     "output_type": "execute_result"
    }
   ],
   "source": [
    "sess.run(yp, feed_dict={x: 1.3})"
   ]
  },
  {
   "cell_type": "code",
   "execution_count": 12,
   "metadata": {},
   "outputs": [
    {
     "data": {
      "text/plain": [
       "-0.6343251"
      ]
     },
     "execution_count": 12,
     "metadata": {},
     "output_type": "execute_result"
    }
   ],
   "source": [
    "sess.run(yp, feed_dict={x: -2.5})"
   ]
  },
  {
   "cell_type": "code",
   "execution_count": null,
   "metadata": {},
   "outputs": [],
   "source": []
  }
 ],
 "metadata": {
  "kernelspec": {
   "display_name": "Python 3",
   "language": "python",
   "name": "python3"
  },
  "language_info": {
   "codemirror_mode": {
    "name": "ipython",
    "version": 3
   },
   "file_extension": ".py",
   "mimetype": "text/x-python",
   "name": "python",
   "nbconvert_exporter": "python",
   "pygments_lexer": "ipython3",
   "version": "3.6.7"
  }
 },
 "nbformat": 4,
 "nbformat_minor": 4
}
