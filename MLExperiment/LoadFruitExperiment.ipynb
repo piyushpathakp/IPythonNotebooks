{
 "cells": [
  {
   "cell_type": "code",
   "execution_count": 1,
   "metadata": {},
   "outputs": [],
   "source": [
    "testdata = [{\"radius\": 9.84182526660848, \n",
    "             \"weight\": 14.739590171421376, \n",
    "             \"ripe\": False, \n",
    "             \"color\": \"green\", \n",
    "             \"shape\": \"ellipse\",\n",
    "             \"fruit\": \"orange\"},\n",
    "            {\"radius\": 8.946979531336083, \n",
    "             \"weight\": 12.030333547577696, \n",
    "             \"ripe\": False, \n",
    "             \"color\": \"green\", \n",
    "             \"shape\": \"apple\", \n",
    "             \"fruit\": \"durion\"},\n",
    "            {\"radius\": 4.21213102345614, \n",
    "             \"weight\": 3.6316125551946388,\n",
    "             \"ripe\": False, \n",
    "             \"color\": \"red\", \n",
    "             \"shape\": \"apple\", \n",
    "             \"fruit\": \"apple\"}\n",
    "           ]"
   ]
  },
  {
   "cell_type": "code",
   "execution_count": 2,
   "metadata": {},
   "outputs": [],
   "source": [
    "from mlexpt.experiment import CompactExperimentalModel"
   ]
  },
  {
   "cell_type": "code",
   "execution_count": 3,
   "metadata": {},
   "outputs": [],
   "source": [
    "modeldir = 'fruitexpt/'"
   ]
  },
  {
   "cell_type": "code",
   "execution_count": 4,
   "metadata": {},
   "outputs": [],
   "source": [
    "compactmodel = CompactExperimentalModel(modeldir)"
   ]
  },
  {
   "cell_type": "code",
   "execution_count": 5,
   "metadata": {},
   "outputs": [
    {
     "data": {
      "text/plain": [
       "array([[0.57364184, 0.39418882, 0.01950573],\n",
       "       [0.48835537, 0.30539864, 0.05991714],\n",
       "       [0.25121087, 0.16417092, 0.7267629 ]], dtype=float32)"
      ]
     },
     "execution_count": 5,
     "metadata": {},
     "output_type": "execute_result"
    }
   ],
   "source": [
    "compactmodel.predict_proba(testdata)"
   ]
  },
  {
   "cell_type": "code",
   "execution_count": null,
   "metadata": {},
   "outputs": [],
   "source": []
  }
 ],
 "metadata": {
  "kernelspec": {
   "display_name": "Python 3",
   "language": "python",
   "name": "python3"
  },
  "language_info": {
   "codemirror_mode": {
    "name": "ipython",
    "version": 3
   },
   "file_extension": ".py",
   "mimetype": "text/x-python",
   "name": "python",
   "nbconvert_exporter": "python",
   "pygments_lexer": "ipython3",
   "version": "3.6.7"
  }
 },
 "nbformat": 4,
 "nbformat_minor": 4
}
