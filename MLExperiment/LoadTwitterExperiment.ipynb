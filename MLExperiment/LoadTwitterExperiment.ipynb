{
 "cells": [
  {
   "cell_type": "code",
   "execution_count": 7,
   "metadata": {},
   "outputs": [],
   "source": [
    "from nltk import word_tokenize\n",
    "\n",
    "testdata = [{\"polarity\":4,\n",
    "             \"id\":8,\n",
    "             \"date\":\"Mon May 11 03:22:00 UTC 2009\",\n",
    "             \"query\":\"kindle2\",\n",
    "             \"user\":\"GeorgeVHulme\",\n",
    "             \"text\":word_tokenize(\"@richardebaker no. it is too big. I'm quite happy with the Kindle2.\")},\n",
    "            {\"polarity\":0,\n",
    "             \"id\":9,\n",
    "             \"date\":\"Mon May 11 03:22:30 UTC 2009\",\n",
    "             \"query\":\"aig\",\n",
    "             \"user\":\"Seth937\",\n",
    "             \"text\":word_tokenize(\"Fuck this economy. I hate aig and their non loan given asses.\")}\n",
    "           ]"
   ]
  },
  {
   "cell_type": "code",
   "execution_count": 1,
   "metadata": {},
   "outputs": [],
   "source": [
    "from mlexpt.experiment import CompactExperimentalModel"
   ]
  },
  {
   "cell_type": "code",
   "execution_count": 2,
   "metadata": {},
   "outputs": [],
   "source": [
    "modeldir = '/Users/stephenhky/Downloads/trainingandtestdata/model'"
   ]
  },
  {
   "cell_type": "code",
   "execution_count": 3,
   "metadata": {},
   "outputs": [],
   "source": [
    "compactmodel = CompactExperimentalModel(modeldir)"
   ]
  },
  {
   "cell_type": "code",
   "execution_count": 6,
   "metadata": {},
   "outputs": [
    {
     "data": {
      "text/plain": [
       "array([[nan, nan, nan],\n",
       "       [nan, nan, nan]], dtype=float32)"
      ]
     },
     "execution_count": 6,
     "metadata": {},
     "output_type": "execute_result"
    }
   ],
   "source": [
    "compactmodel.predict_proba(testdata)"
   ]
  },
  {
   "cell_type": "code",
   "execution_count": null,
   "metadata": {},
   "outputs": [],
   "source": []
  }
 ],
 "metadata": {
  "kernelspec": {
   "display_name": "Python 3",
   "language": "python",
   "name": "python3"
  },
  "language_info": {
   "codemirror_mode": {
    "name": "ipython",
    "version": 3
   },
   "file_extension": ".py",
   "mimetype": "text/x-python",
   "name": "python",
   "nbconvert_exporter": "python",
   "pygments_lexer": "ipython3",
   "version": "3.6.7"
  }
 },
 "nbformat": 4,
 "nbformat_minor": 4
}
