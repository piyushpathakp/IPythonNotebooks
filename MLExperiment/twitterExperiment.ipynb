{
 "cells": [
  {
   "cell_type": "code",
   "execution_count": 1,
   "metadata": {},
   "outputs": [],
   "source": [
    "import pandas as pd\n",
    "import numpy as np\n",
    "import mlexpt\n",
    "import json\n",
    "import os"
   ]
  },
  {
   "cell_type": "code",
   "execution_count": 2,
   "metadata": {},
   "outputs": [
    {
     "data": {
      "text/plain": [
       "{'model': {'qualitative_features': ['text'],\n",
       "  'binary_features': [],\n",
       "  'quantitative_features': [],\n",
       "  'target': 'polarity',\n",
       "  'embedding_schemes': {'text': {'algorithm': 'PCA', 'target_dim': 400}},\n",
       "  'algorithm': 'LogisticRegression',\n",
       "  'model_parameters': {'device': 'cpu', 'nb_epoch': 100}},\n",
       " 'data': {'path': '/Users/stephenhky/Downloads/trainingandtestdata/testdata.json',\n",
       "  'missing_value_filling': {},\n",
       "  'torchdevice': 'cpu'},\n",
       " 'train': {'cross_validation': True,\n",
       "  'cv_nfold': 5,\n",
       "  'heldout_fraction': 0.05,\n",
       "  'persist_model': True,\n",
       "  'model_path': '/Users/stephenhky/Downloads/trainingandtestdata/model'},\n",
       " 'statistics': {'topN': 2,\n",
       "  'compute_class_performance': True,\n",
       "  'class_performances_excel': None}}"
      ]
     },
     "execution_count": 2,
     "metadata": {},
     "output_type": "execute_result"
    }
   ],
   "source": [
    "config = json.load(open('/Users/stephenhky/PyProjects/ml-experiment/configs/LR_twitter_expt_set0_pca400.json', 'r'))\n",
    "config"
   ]
  },
  {
   "cell_type": "code",
   "execution_count": 3,
   "metadata": {},
   "outputs": [],
   "source": [
    "## model config\n",
    "qual_features = config['model'].get('qualitative_features', [])\n",
    "binary_features = config['model'].get('binary_features', [])\n",
    "quant_features = config['model'].get('quantitative_features', [])\n",
    "dr_config = config['model'].get('embedding_schemes', {})\n",
    "labelcol = config['model']['target']\n",
    "algorithm = config['model']['algorithm']\n",
    "model_param = config['model']['model_parameters']\n",
    "## cross validation setup\n",
    "do_cv = config['train']['cross_validation']\n",
    "cv_nfold = config['train']['cv_nfold']\n",
    "heldout_fraction = config['train']['heldout_fraction']\n",
    "to_persist_model = config['train']['persist_model']\n",
    "final_model_path = config['train']['model_path']\n",
    "# data\n",
    "datapath = config['data']['path']\n",
    "missing_val_default = config['data']['missing_value_filling']\n",
    "data_device = config['data']['torchdevice']\n",
    "# statistics\n",
    "topN = config['statistics']['topN']\n",
    "to_compute_class_performances = config['statistics'].get('compute_class_performance', False)\n",
    "class_performance_excel_file = config['statistics'].get('class_performances_excel', None)"
   ]
  },
  {
   "cell_type": "code",
   "execution_count": 4,
   "metadata": {},
   "outputs": [],
   "source": [
    "from functools import partial\n",
    "from mlexpt.data.adding_features import adding_no_features, convert_label_to_str\n",
    "from mlexpt.experiment import add_multiple_features\n",
    "from nltk import word_tokenize\n",
    "\n",
    "def tokenize(datum):\n",
    "    datum['text'] = word_tokenize(datum['text'])\n",
    "    return datum\n",
    "\n",
    "feature_adder = add_multiple_features([adding_no_features, \n",
    "                                       partial(convert_label_to_str, label=labelcol),\n",
    "                                       tokenize])"
   ]
  },
  {
   "cell_type": "code",
   "execution_count": 5,
   "metadata": {},
   "outputs": [
    {
     "name": "stdout",
     "output_type": "stream",
     "text": [
      "/var/folders/pq/_srx84qj30j_byd7sxppfg940000gn/T/tmp608n54mi\n",
      "498\n"
     ]
    }
   ],
   "source": [
    "from mlexpt.data.dataload import process_data\n",
    "\n",
    "tempdir, nbdata = process_data(datapath,\n",
    "                               qual_features, binary_features, quant_features,\n",
    "                               labelcol,\n",
    "                               feature_adder=feature_adder,\n",
    "                               nb_lines_per_tempfile=500,\n",
    "                               missing_val_default=missing_val_default)\n",
    "print(tempdir.name)\n",
    "print(nbdata)"
   ]
  },
  {
   "cell_type": "code",
   "execution_count": 6,
   "metadata": {},
   "outputs": [
    {
     "name": "stdout",
     "output_type": "stream",
     "text": [
      "\tQualitative Feature: polarity, number of distinct of values: 3\n"
     ]
    }
   ],
   "source": [
    "from mlexpt.data.dataload import iterate_json_files_directory\n",
    "from mlexpt.utils.core import generate_columndict\n",
    "\n",
    "label2idx, idx2label = generate_columndict(iterate_json_files_directory(tempdir.name),\n",
    "                                          [labelcol], [], [])\n",
    "target_label_dict = {key[len(labelcol)+1:]: value for key, value in label2idx.items()}"
   ]
  },
  {
   "cell_type": "code",
   "execution_count": 7,
   "metadata": {},
   "outputs": [
    {
     "name": "stdout",
     "output_type": "stream",
     "text": [
      "\t Embedding Feature: text (PCA)\n",
      "\tQualitative Feature: text, number of distinct of values: 2683\n"
     ]
    }
   ],
   "source": [
    "from mlexpt.utils.embeddings import embed_features\n",
    "\n",
    "dimred_dict = embed_features(dr_config,\n",
    "                                 [datum\n",
    "                                  for datum in iterate_json_files_directory(tempdir.name,\n",
    "                                                                            columns_to_keep=list(dr_config.keys())\n",
    "                                                                            )\n",
    "                                  ]\n",
    "                                 )"
   ]
  },
  {
   "cell_type": "code",
   "execution_count": 8,
   "metadata": {},
   "outputs": [],
   "source": [
    "from mlexpt.utils.datatransform import generate_columndict_withembeddings\n",
    "\n",
    "feature2idx, idx2feature = generate_columndict_withembeddings(iterate_json_files_directory(tempdir.name),\n",
    "                                                              qual_features,\n",
    "                                                              binary_features,\n",
    "                                                              quant_features,\n",
    "                                                              dimred_dict)"
   ]
  },
  {
   "cell_type": "code",
   "execution_count": 9,
   "metadata": {},
   "outputs": [],
   "source": [
    "from mlexpt.utils.datatransform import NumericallyPreparedDataset"
   ]
  },
  {
   "cell_type": "code",
   "execution_count": 10,
   "metadata": {},
   "outputs": [],
   "source": [
    "from mlexpt.data.dataload import assign_partitions\n",
    "\n",
    "partitions = assign_partitions(nbdata, cv_nfold, heldout_fraction)"
   ]
  },
  {
   "cell_type": "code",
   "execution_count": 11,
   "metadata": {},
   "outputs": [],
   "source": [
    "train_dataset = NumericallyPreparedDataset(iterate_json_files_directory(tempdir.name),\n",
    "                                           feature2idx,\n",
    "                                           qual_features,\n",
    "                                           binary_features,\n",
    "                                           quant_features,\n",
    "                                           dimred_dict,\n",
    "                                           labelcol,\n",
    "                                           label2idx,\n",
    "                                           assigned_partitions=partitions,\n",
    "                                           interested_partitions=[partition\n",
    "                                                                  for partition in range(cv_nfold)\n",
    "                                                                  if partition > 0],\n",
    "                                           device=data_device\n",
    "                                           )"
   ]
  },
  {
   "cell_type": "code",
   "execution_count": 12,
   "metadata": {},
   "outputs": [
    {
     "name": "stderr",
     "output_type": "stream",
     "text": [
      " 11%|█         | 11/100 [00:00<00:00, 106.94it/s]"
     ]
    },
    {
     "name": "stdout",
     "output_type": "stream",
     "text": [
      "Logistic regression trained on: cpu\n"
     ]
    },
    {
     "name": "stderr",
     "output_type": "stream",
     "text": [
      "100%|██████████| 100/100 [00:00<00:00, 100.46it/s]\n"
     ]
    }
   ],
   "source": [
    "from mlexpt.ml.classifiers.linear import MulticlassLogisticRegression\n",
    "\n",
    "model = MulticlassLogisticRegression(**model_param)\n",
    "model.fit(train_dataset.X if isinstance(train_dataset.X, np.ndarray) else train_dataset.X.toarray(),\n",
    "          train_dataset.Y if isinstance(train_dataset.Y, np.ndarray) else train_dataset.Y.toarray()\n",
    "          )"
   ]
  },
  {
   "cell_type": "code",
   "execution_count": 13,
   "metadata": {},
   "outputs": [],
   "source": [
    "test_dataset = NumericallyPreparedDataset(iterate_json_files_directory(tempdir.name),\n",
    "                                                      feature2idx,\n",
    "                                                      qual_features,\n",
    "                                                      binary_features,\n",
    "                                                      quant_features,\n",
    "                                                      dimred_dict,\n",
    "                                                      labelcol,\n",
    "                                                      label2idx,\n",
    "                                                      assigned_partitions=partitions,\n",
    "                                                      interested_partitions=[-1],\n",
    "                                                      device=data_device\n",
    "                                                      )"
   ]
  },
  {
   "cell_type": "code",
   "execution_count": 14,
   "metadata": {},
   "outputs": [],
   "source": [
    "predicted_Y = model.predict_proba(test_dataset.X if isinstance(test_dataset.X, np.ndarray) else test_dataset.X.toarray())"
   ]
  },
  {
   "cell_type": "code",
   "execution_count": 15,
   "metadata": {},
   "outputs": [
    {
     "name": "stderr",
     "output_type": "stream",
     "text": [
      "/Users/stephenhky/PyProjects/ml-experiment/mlexpt/metrics/statistics.py:81: RuntimeWarning: invalid value encountered in double_scalars\n",
      "  top_precision = top_confusion_matrix[idx, idx] / np.sum(top_confusion_matrix[idx, :])\n",
      "/Users/stephenhky/PyProjects/ml-experiment/mlexpt/metrics/statistics.py:87: RuntimeWarning: invalid value encountered in double_scalars\n",
      "  weighted_precision = weighted_confusion_matrix[idx, idx] / np.sum(weighted_confusion_matrix[idx, :])\n",
      "/Users/stephenhky/PyProjects/ml-experiment/mlexpt/metrics/statistics.py:93: RuntimeWarning: invalid value encountered in double_scalars\n",
      "  hit_precision = hit_confusion_matrix[idx, idx] / np.sum(weighted_confusion_matrix[idx, :])\n"
     ]
    }
   ],
   "source": [
    "from mlexpt.metrics.statistics import extracting_stats_run\n",
    "\n",
    "overall_performance, top_result_by_class, weighted_result_by_class, hit_result_by_class = \\\n",
    "    extracting_stats_run(predicted_Y,\n",
    "                         test_dataset.Y if isinstance(test_dataset.Y, np.ndarray) else test_dataset.Y.toarray(),\n",
    "                         target_label_dict,\n",
    "                         topN)"
   ]
  },
  {
   "cell_type": "code",
   "execution_count": 16,
   "metadata": {},
   "outputs": [
    {
     "data": {
      "text/plain": [
       "{'nb_testdata': 17,\n",
       " 'nb_equals': 5,\n",
       " 'nb_weighted_equals': 7.5,\n",
       " 'nb_hits': 10,\n",
       " 'top1_accuracy': 0.29411764705882354,\n",
       " 'weighted_accuracy': 0.4411764705882353,\n",
       " 'hit_accuracy': 0.5882352941176471,\n",
       " 'topN': 2}"
      ]
     },
     "execution_count": 16,
     "metadata": {},
     "output_type": "execute_result"
    }
   ],
   "source": [
    "overall_performance"
   ]
  },
  {
   "cell_type": "code",
   "execution_count": 17,
   "metadata": {},
   "outputs": [
    {
     "data": {
      "text/plain": [
       "{'4': {'recall': 1.0,\n",
       "  'precision': 0.29411764705882354,\n",
       "  'f_score': 0.45454545454545453},\n",
       " '2': {'recall': 0.0, 'precision': nan, 'f_score': nan},\n",
       " '0': {'recall': 0.0, 'precision': nan, 'f_score': nan}}"
      ]
     },
     "execution_count": 17,
     "metadata": {},
     "output_type": "execute_result"
    }
   ],
   "source": [
    "top_result_by_class"
   ]
  },
  {
   "cell_type": "code",
   "execution_count": 18,
   "metadata": {},
   "outputs": [
    {
     "data": {
      "text/plain": [
       "{'4': {'recall': 1.0,\n",
       "  'precision': 0.29411764705882354,\n",
       "  'f_score': 0.45454545454545453},\n",
       " '2': {'recall': 0.5,\n",
       "  'precision': 0.29411764705882354,\n",
       "  'f_score': 0.37037037037037035},\n",
       " '0': {'recall': 0.0, 'precision': nan, 'f_score': nan}}"
      ]
     },
     "execution_count": 18,
     "metadata": {},
     "output_type": "execute_result"
    }
   ],
   "source": [
    "weighted_result_by_class"
   ]
  },
  {
   "cell_type": "code",
   "execution_count": 19,
   "metadata": {},
   "outputs": [],
   "source": [
    "from mlexpt.experiment import persist_model_files\n",
    "\n",
    "persist_model_files(final_model_path, model, dimred_dict, feature2idx, label2idx, config)"
   ]
  },
  {
   "cell_type": "code",
   "execution_count": null,
   "metadata": {},
   "outputs": [],
   "source": []
  }
 ],
 "metadata": {
  "kernelspec": {
   "display_name": "Python 3",
   "language": "python",
   "name": "python3"
  },
  "language_info": {
   "codemirror_mode": {
    "name": "ipython",
    "version": 3
   },
   "file_extension": ".py",
   "mimetype": "text/x-python",
   "name": "python",
   "nbconvert_exporter": "python",
   "pygments_lexer": "ipython3",
   "version": "3.6.7"
  }
 },
 "nbformat": 4,
 "nbformat_minor": 4
}
