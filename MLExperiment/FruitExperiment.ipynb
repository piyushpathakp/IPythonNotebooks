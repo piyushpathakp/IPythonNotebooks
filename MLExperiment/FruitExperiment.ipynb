{
 "cells": [
  {
   "cell_type": "code",
   "execution_count": 11,
   "metadata": {},
   "outputs": [],
   "source": [
    "import pandas as pd\n",
    "import numpy as np\n",
    "import mlexpt\n",
    "import json\n",
    "import os"
   ]
  },
  {
   "cell_type": "code",
   "execution_count": 3,
   "metadata": {},
   "outputs": [
    {
     "data": {
      "text/plain": [
       "{'model': {'qualitative_features': ['color', 'shape'],\n",
       "  'binary_features': ['ripe'],\n",
       "  'quantitative_features': ['radius', 'weight'],\n",
       "  'target': 'fruit',\n",
       "  'embedding_schemes': {},\n",
       "  'algorithm': 'LogisticRegression',\n",
       "  'model_parameters': {'device': 'cpu', 'nb_epoch': 100}},\n",
       " 'data': {'path': 'exampledataset/fruits.json',\n",
       "  'missing_value_filling': {},\n",
       "  'torchdevice': 'cpu'},\n",
       " 'train': {'cross_validation': True,\n",
       "  'cv_nfold': 5,\n",
       "  'heldout_fraction': 0.05,\n",
       "  'persist_model': False,\n",
       "  'model_path': None},\n",
       " 'statistics': {'topN': 5,\n",
       "  'compute_class_performance': True,\n",
       "  'class_performances_excel': None}}"
      ]
     },
     "execution_count": 3,
     "metadata": {},
     "output_type": "execute_result"
    }
   ],
   "source": [
    "config = json.load(open('../configs/LR_fruit_expt_set0.json', 'r'))\n",
    "config"
   ]
  },
  {
   "cell_type": "code",
   "execution_count": 16,
   "metadata": {},
   "outputs": [],
   "source": [
    "## model config\n",
    "qual_features = config['model'].get('qualitative_features', [])\n",
    "binary_features = config['model'].get('binary_features', [])\n",
    "quant_features = config['model'].get('quantitative_features', [])\n",
    "dr_config = config['model'].get('embedding_schemes', {})\n",
    "labelcol = config['model']['target']\n",
    "algorithm = config['model']['algorithm']\n",
    "model_param = config['model']['model_parameters']\n",
    "## cross validation setup\n",
    "do_cv = config['train']['cross_validation']\n",
    "cv_nfold = config['train']['cv_nfold']\n",
    "heldout_fraction = config['train']['heldout_fraction']\n",
    "to_persist_model = config['train']['persist_model']\n",
    "final_model_path = config['train']['model_path']\n",
    "# data\n",
    "datapath = os.path.join('..', config['data']['path'])\n",
    "missing_val_default = config['data']['missing_value_filling']\n",
    "data_device = config['data']['torchdevice']\n",
    "# statistics\n",
    "topN = config['statistics']['topN']\n",
    "to_compute_class_performances = config['statistics'].get('compute_class_performance', False)\n",
    "class_performance_excel_file = config['statistics'].get('class_performances_excel', None)"
   ]
  },
  {
   "cell_type": "code",
   "execution_count": 8,
   "metadata": {},
   "outputs": [],
   "source": [
    "from mlexpt.data.adding_features import adding_no_features\n",
    "from mlexpt.experiment import add_multiple_features\n",
    "\n",
    "feature_adder = add_multiple_features([adding_no_features])"
   ]
  },
  {
   "cell_type": "code",
   "execution_count": 17,
   "metadata": {},
   "outputs": [
    {
     "name": "stdout",
     "output_type": "stream",
     "text": [
      "/var/folders/pq/_srx84qj30j_byd7sxppfg940000gn/T/tmp2o7u8b58\n",
      "10000\n"
     ]
    }
   ],
   "source": [
    "from mlexpt.data.dataload import process_data\n",
    "\n",
    "tempdir, nbdata = process_data(datapath,\n",
    "                               qual_features, binary_features, quant_features,\n",
    "                               labelcol,\n",
    "                               feature_adder=feature_adder,\n",
    "                               nb_lines_per_tempfile=500,\n",
    "                               missing_val_default=missing_val_default)\n",
    "print(tempdir.name)\n",
    "print(nbdata)"
   ]
  },
  {
   "cell_type": "code",
   "execution_count": 19,
   "metadata": {},
   "outputs": [
    {
     "name": "stdout",
     "output_type": "stream",
     "text": [
      "\tQualitative Feature: fruit, number of distinct of values: \n"
     ]
    }
   ],
   "source": [
    "from mlexpt.data.dataload import iterate_json_files_directory\n",
    "from mlexpt.utils.core import generate_columndict\n",
    "\n",
    "label2idx, idx2label = generate_columndict(iterate_json_files_directory(tempdir.name),\n",
    "                                          [labelcol], [], [])\n",
    "target_label_dict = {key[len(labelcol)+1:]: value for key, value in label2idx.items()}"
   ]
  },
  {
   "cell_type": "code",
   "execution_count": 22,
   "metadata": {},
   "outputs": [],
   "source": [
    "from mlexpt.utils.embeddings import embed_features\n",
    "\n",
    "dimred_dict = embed_features(dr_config,\n",
    "                                 [datum\n",
    "                                  for datum in iterate_json_files_directory(tempdir.name,\n",
    "                                                                            columns_to_keep=list(dr_config.keys())\n",
    "                                                                            )\n",
    "                                  ]\n",
    "                                 )"
   ]
  },
  {
   "cell_type": "code",
   "execution_count": 23,
   "metadata": {},
   "outputs": [
    {
     "name": "stdout",
     "output_type": "stream",
     "text": [
      "\tQualitative Feature: color, number of distinct of values: \n",
      "\tQualitative Feature: shape, number of distinct of values: \n",
      "\tBinary / Quantitative feature: ripe\n",
      "\tBinary / Quantitative feature: radius\n",
      "\tBinary / Quantitative feature: weight\n"
     ]
    }
   ],
   "source": [
    "from mlexpt.utils.datatransform import generate_columndict_withembeddings\n",
    "\n",
    "feature2idx, idx2feature = generate_columndict_withembeddings(iterate_json_files_directory(tempdir.name),\n",
    "                                                              qual_features,\n",
    "                                                              binary_features,\n",
    "                                                              quant_features,\n",
    "                                                              dimred_dict)"
   ]
  },
  {
   "cell_type": "code",
   "execution_count": 24,
   "metadata": {},
   "outputs": [],
   "source": [
    "overall_performances = []\n",
    "top_results_by_class = []\n",
    "weighted_results_by_class = []\n",
    "hit_results_by_class = []"
   ]
  },
  {
   "cell_type": "code",
   "execution_count": 25,
   "metadata": {},
   "outputs": [],
   "source": [
    "from mlexpt.utils.datatransform import NumericallyPreparedDataset"
   ]
  },
  {
   "cell_type": "code",
   "execution_count": 27,
   "metadata": {},
   "outputs": [],
   "source": [
    "from mlexpt.data.dataload import assign_partitions\n",
    "\n",
    "partitions = assign_partitions(nbdata, cv_nfold, heldout_fraction)"
   ]
  },
  {
   "cell_type": "code",
   "execution_count": 28,
   "metadata": {},
   "outputs": [],
   "source": [
    "cv_round = 0"
   ]
  },
  {
   "cell_type": "code",
   "execution_count": 29,
   "metadata": {},
   "outputs": [],
   "source": [
    "train_dataset = NumericallyPreparedDataset(iterate_json_files_directory(tempdir.name),\n",
    "                                           feature2idx,\n",
    "                                           qual_features,\n",
    "                                           binary_features,\n",
    "                                           quant_features,\n",
    "                                           dimred_dict,\n",
    "                                           labelcol,\n",
    "                                           label2idx,\n",
    "                                           assigned_partitions=partitions,\n",
    "                                           interested_partitions=[partition\n",
    "                                                                  for partition in range(cv_nfold)\n",
    "                                                                  if partition != cv_round],\n",
    "                                           device=data_device\n",
    "                                           )"
   ]
  },
  {
   "cell_type": "code",
   "execution_count": 30,
   "metadata": {},
   "outputs": [
    {
     "name": "stderr",
     "output_type": "stream",
     "text": [
      "  0%|          | 0/100 [00:00<?, ?it/s]"
     ]
    },
    {
     "name": "stdout",
     "output_type": "stream",
     "text": [
      "Logistic regression trained on: cpu\n"
     ]
    },
    {
     "name": "stderr",
     "output_type": "stream",
     "text": [
      "100%|██████████| 100/100 [00:00<00:00, 153.77it/s]\n"
     ]
    }
   ],
   "source": [
    "from mlexpt.ml.linear import MulticlassLogisticRegression\n",
    "\n",
    "model = MulticlassLogisticRegression(**model_param)\n",
    "model.fit(train_dataset.X if isinstance(train_dataset.X, np.ndarray) else train_dataset.X.toarray(),\n",
    "          train_dataset.Y if isinstance(train_dataset.Y, np.ndarray) else train_dataset.Y.toarray()\n",
    "          )"
   ]
  },
  {
   "cell_type": "code",
   "execution_count": 33,
   "metadata": {},
   "outputs": [],
   "source": [
    "test_dataset = NumericallyPreparedDataset(iterate_json_files_directory(tempdir.name),\n",
    "                                                      feature2idx,\n",
    "                                                      qual_features,\n",
    "                                                      binary_features,\n",
    "                                                      quant_features,\n",
    "                                                      dimred_dict,\n",
    "                                                      labelcol,\n",
    "                                                      label2idx,\n",
    "                                                      assigned_partitions=partitions,\n",
    "                                                      interested_partitions=[cv_round],\n",
    "                                                      device=data_device\n",
    "                                                      )"
   ]
  },
  {
   "cell_type": "code",
   "execution_count": 34,
   "metadata": {},
   "outputs": [],
   "source": [
    "predicted_Y = model.predict_proba(test_dataset.X if isinstance(test_dataset.X, np.ndarray) else test_dataset.X.toarray())"
   ]
  },
  {
   "cell_type": "code",
   "execution_count": 55,
   "metadata": {},
   "outputs": [
    {
     "name": "stdout",
     "output_type": "stream",
     "text": [
      "\t\tCalculating metrics per class...\n"
     ]
    }
   ],
   "source": [
    "from mlexpt.metrics.statistics import extracting_stats_run\n",
    "\n",
    "overall_performance, top_result_by_class, weighted_result_by_class, hit_result_by_class = \\\n",
    "    extracting_stats_run(predicted_Y,\n",
    "                         test_dataset.Y if isinstance(test_dataset.Y, np.ndarray) else test_dataset.Y.toarray(),\n",
    "                         target_label_dict,\n",
    "                         topN)"
   ]
  },
  {
   "cell_type": "code",
   "execution_count": 56,
   "metadata": {},
   "outputs": [
    {
     "data": {
      "text/plain": [
       "{'nb_testdata': 107,\n",
       " 'nb_equals': 87,\n",
       " 'nb_weighted_equals': 141.0,\n",
       " 'nb_hits': 212,\n",
       " 'top1_accuracy': 0.8130841121495327,\n",
       " 'weighted_accuracy': 1.3177570093457944,\n",
       " 'hit_accuracy': 1.9813084112149533,\n",
       " 'topN': 5}"
      ]
     },
     "execution_count": 56,
     "metadata": {},
     "output_type": "execute_result"
    }
   ],
   "source": [
    "overall_performance"
   ]
  },
  {
   "cell_type": "code",
   "execution_count": 57,
   "metadata": {},
   "outputs": [],
   "source": [
    "testY_labelindices = np.argmax(test_dataset.Y if isinstance(test_dataset.Y, np.ndarray) else test_dataset.Y.toarray(), axis=1)\n",
    "modeloutputY_labelindices = np.argmax(predicted_Y, axis=1)\n",
    "sorted_index_matrix = np.argsort(predicted_Y, axis=1)"
   ]
  },
  {
   "cell_type": "code",
   "execution_count": 41,
   "metadata": {},
   "outputs": [
    {
     "data": {
      "text/plain": [
       "array([0, 2, 0, 0, 1, 2, 1, 0, 1, 0, 1, 0, 0, 1, 2, 2, 1, 1, 0, 1, 2, 0,\n",
       "       0, 2, 1, 1, 0, 2, 0, 0, 0, 0, 2, 1, 0, 1, 0, 0, 0, 0, 0, 0, 0, 1,\n",
       "       2, 1, 1, 1, 0, 2, 0, 0, 2, 1, 1, 0, 0, 2, 1, 0, 2, 0, 0, 0, 0, 0,\n",
       "       1, 0, 1, 0, 0, 2, 1, 1, 2, 0, 1, 1, 0, 1, 0, 0, 1, 0, 2, 1, 1, 1,\n",
       "       1, 0, 1, 1, 0, 1, 0, 1, 1, 1, 2, 2, 0, 0, 2, 1, 1, 2, 1])"
      ]
     },
     "execution_count": 41,
     "metadata": {},
     "output_type": "execute_result"
    }
   ],
   "source": [
    "testY_labelindices"
   ]
  },
  {
   "cell_type": "code",
   "execution_count": 42,
   "metadata": {},
   "outputs": [
    {
     "data": {
      "text/plain": [
       "array([0, 2, 0, 0, 1, 0, 1, 0, 1, 0, 1, 0, 0, 1, 1, 0, 1, 1, 0, 1, 0, 0,\n",
       "       0, 0, 1, 1, 0, 0, 0, 0, 0, 0, 0, 1, 0, 1, 0, 0, 0, 0, 0, 0, 0, 1,\n",
       "       0, 1, 1, 1, 0, 0, 0, 0, 0, 1, 1, 0, 0, 0, 1, 0, 0, 0, 2, 0, 0, 0,\n",
       "       1, 0, 1, 0, 0, 0, 1, 1, 0, 0, 1, 1, 0, 1, 0, 0, 1, 0, 0, 1, 1, 1,\n",
       "       1, 0, 1, 1, 0, 1, 0, 1, 1, 1, 0, 0, 0, 0, 0, 1, 1, 0, 1])"
      ]
     },
     "execution_count": 42,
     "metadata": {},
     "output_type": "execute_result"
    }
   ],
   "source": [
    "modeloutputY_labelindices"
   ]
  },
  {
   "cell_type": "code",
   "execution_count": 52,
   "metadata": {},
   "outputs": [
    {
     "data": {
      "text/plain": [
       "87"
      ]
     },
     "execution_count": 52,
     "metadata": {},
     "output_type": "execute_result"
    }
   ],
   "source": [
    "np.sum(testY_labelindices==modeloutputY_labelindices)"
   ]
  },
  {
   "cell_type": "code",
   "execution_count": 54,
   "metadata": {},
   "outputs": [
    {
     "data": {
      "text/plain": [
       "(107, 3)"
      ]
     },
     "execution_count": 54,
     "metadata": {},
     "output_type": "execute_result"
    }
   ],
   "source": [
    "test_dataset.Y.shape"
   ]
  },
  {
   "cell_type": "code",
   "execution_count": null,
   "metadata": {},
   "outputs": [],
   "source": []
  }
 ],
 "metadata": {
  "kernelspec": {
   "display_name": "Python 3",
   "language": "python",
   "name": "python3"
  },
  "language_info": {
   "codemirror_mode": {
    "name": "ipython",
    "version": 3
   },
   "file_extension": ".py",
   "mimetype": "text/x-python",
   "name": "python",
   "nbconvert_exporter": "python",
   "pygments_lexer": "ipython3",
   "version": "3.6.7"
  }
 },
 "nbformat": 4,
 "nbformat_minor": 4
}
